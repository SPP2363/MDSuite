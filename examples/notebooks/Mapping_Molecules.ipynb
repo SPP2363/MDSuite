{
 "cells": [
  {
   "cell_type": "markdown",
   "id": "77d04e6d",
   "metadata": {},
   "source": [
    "# Mapping Molecules\n",
    "\n",
    "In this notebook we will cover how to map molecules in different ways and look at some of the things we can do with them."
   ]
  },
  {
   "cell_type": "markdown",
   "id": "cdf17339",
   "metadata": {},
   "source": [
    "Throughout this demonstration we will load data from a GROMACS simulation and therefore, we need to define a set of units and a file reader object to use. For this reason, we have changed the imports a little bit to keep the code to minimum."
   ]
  },
  {
   "cell_type": "code",
   "execution_count": 1,
   "id": "bf59b4ca",
   "metadata": {},
   "outputs": [],
   "source": [
    "import mdsuite as mds\n",
    "import mdsuite.file_io.chemfiles_read\n",
    "from mdsuite.utils import Units\n",
    "\n",
    "from zinchub import DataHub"
   ]
  },
  {
   "cell_type": "markdown",
   "id": "c50b74e1",
   "metadata": {},
   "source": [
    "### Loading the data\n",
    "\n",
    "In this tutorial we are using 50 ns simulations of 14 water molecules in a continuum fluid performed with GROMACS. We will use pure atomistic naming as well as ligand naming, the topology files for which are contained on DataHub."
   ]
  },
  {
   "cell_type": "code",
   "execution_count": 2,
   "id": "33390907",
   "metadata": {},
   "outputs": [],
   "source": [
    "water = DataHub(url=\"https://github.com/zincware/DataHub/tree/main/Water_14_Gromacs\")\n",
    "water.get_file('./')\n",
    "file_paths = [\n",
    "        f for f in water.file_raw\n",
    "    ]"
   ]
  },
  {
   "cell_type": "markdown",
   "id": "1cfbe625",
   "metadata": {},
   "source": [
    "### Project definition\n",
    "\n",
    "Here we create the project and define some custom units used by GROMACS."
   ]
  },
  {
   "cell_type": "code",
   "execution_count": 3,
   "id": "66ab26fb",
   "metadata": {},
   "outputs": [
    {
     "name": "stdout",
     "output_type": "stream",
     "text": [
      "2022-01-22 00:57:49,836 - INFO: Creating new project Mapping_Molecules\n"
     ]
    },
    {
     "name": "stderr",
     "output_type": "stream",
     "text": [
      "INFO - 2022-01-22 00:57:49,836 - project - Creating new project Mapping_Molecules\n"
     ]
    }
   ],
   "source": [
    "project = mds.Project(\"Mapping_Molecules\")\n",
    "\n",
    "gmx_units = Units(\n",
    "        time=1e-12,\n",
    "        length=1e-10,\n",
    "        energy=1.6022e-19,\n",
    "        NkTV2p=1.6021765e6,\n",
    "        boltzmann=8.617343e-5,\n",
    "        temperature=1,\n",
    "        pressure=100000,\n",
    "    )"
   ]
  },
  {
   "cell_type": "markdown",
   "id": "08ce0c5f",
   "metadata": {},
   "source": [
    "### Mapping molecules with SMILES\n",
    "\n",
    "In this section we take a look at how one can map molecules using SMILES strings."
   ]
  },
  {
   "cell_type": "code",
   "execution_count": 4,
   "id": "f82d6e29",
   "metadata": {
    "scrolled": false
   },
   "outputs": [
    {
     "name": "stdout",
     "output_type": "stream",
     "text": [
      "2022-01-22 00:57:49,901 - INFO: Creating a new experiment!\n"
     ]
    },
    {
     "name": "stderr",
     "output_type": "stream",
     "text": [
      "INFO - 2022-01-22 00:57:49,901 - experiment - Creating a new experiment!\n",
      "100%|███████████████████████████████████| 1/1 [00:00<00:00,  1.81it/s]\n"
     ]
    }
   ],
   "source": [
    "traj_path = file_paths[2]\n",
    "topol_path = file_paths[0]\n",
    "\n",
    "file_reader = mdsuite.file_io.chemfiles_read.ChemfilesRead(\n",
    "    traj_file_path=traj_path, topol_file_path=topol_path\n",
    ")\n",
    "\n",
    "water_chemical = project.add_experiment(\n",
    "    name=f\"water_chemical\",\n",
    "    timestep=0.002,\n",
    "    temperature=300.0,\n",
    "    units=gmx_units,\n",
    "    simulation_data=file_reader,\n",
    ")"
   ]
  },
  {
   "cell_type": "code",
   "execution_count": 5,
   "id": "77a81063",
   "metadata": {},
   "outputs": [
    {
     "name": "stderr",
     "output_type": "stream",
     "text": [
      "Applying transformation 'Positions' to 'O': 100%|█| 1/1 [00:00<00:00, \n",
      "Applying transformation 'Positions' to 'H': 100%|█| 1/1 [00:00<00:00, \n",
      "Building molecular graph from configuration for water: 100%|███████████████████████████████████████████████████████████████████████████████████████████████████████████████████████████| 42/42 [00:00<00:00, 650.77it/s]\n",
      "Mapping molecule graphs onto trajectory for water: 100%|█| 2/2 [00:00<\n",
      "Applying transformation 'Positions' to 'water': 100%|█| 1/1 [00:00<00:\n"
     ]
    }
   ],
   "source": [
    "water_chemical.run.CoordinateWrapper()\n",
    "\n",
    "water_chemical.run.MolecularMap(\n",
    "    molecules={\"water\": {\"smiles\": \"[H]O[H]\", \"amount\": 14, \"cutoff\": 1.7}}\n",
    ")"
   ]
  },
  {
   "cell_type": "markdown",
   "id": "23ae36bd",
   "metadata": {},
   "source": [
    "### Mapping Molecules with a reference dict\n",
    "\n",
    "If you do not have particles with chemical names but you nonetheless wish to construct groups out of particles, this can be achieved by using a reference dict.\n",
    "\n",
    "In this example, we use the ligand naming from GROMACS to construct water molecules."
   ]
  },
  {
   "cell_type": "code",
   "execution_count": 7,
   "id": "4a070592",
   "metadata": {},
   "outputs": [
    {
     "name": "stdout",
     "output_type": "stream",
     "text": [
      "2022-01-22 01:01:58,255 - INFO: Creating a new experiment!\n"
     ]
    },
    {
     "name": "stderr",
     "output_type": "stream",
     "text": [
      "INFO - 2022-01-22 01:01:58,255 - experiment - Creating a new experiment!\n",
      "INFO - 2022-01-22 01:02:00,315 - pubchempy - 'PUGREST.NotFound: No CID found that matches the given name'\n"
     ]
    },
    {
     "name": "stdout",
     "output_type": "stream",
     "text": [
      "2022-01-22 01:02:00,316 - WARNING: WARNING element OW has been assigned mass=0.0\n"
     ]
    },
    {
     "name": "stderr",
     "output_type": "stream",
     "text": [
      "WARNING - 2022-01-22 01:02:00,316 - experiment - WARNING element OW has been assigned mass=0.0\n",
      "100%|███████████████████████████████████| 1/1 [00:00<00:00,  2.53it/s]\n"
     ]
    }
   ],
   "source": [
    "traj_path = file_paths[2]\n",
    "topol_path = file_paths[1]\n",
    "\n",
    "file_reader = mdsuite.file_io.chemfiles_read.ChemfilesRead(\n",
    "    traj_file_path=traj_path, topol_file_path=topol_path\n",
    ")\n",
    "\n",
    "water_ligand = project.add_experiment(\n",
    "    name=f\"water_ligand\",\n",
    "    timestep=0.002,\n",
    "    temperature=300.0,\n",
    "    units=gmx_units,\n",
    "    simulation_data=file_reader,\n",
    ")"
   ]
  },
  {
   "cell_type": "markdown",
   "id": "966c70af",
   "metadata": {},
   "source": [
    "Keep in mind, as the particles are not named from the periodic tables, important properties such as mass will need to be filled in manually."
   ]
  },
  {
   "cell_type": "code",
   "execution_count": 8,
   "id": "5c56c73f",
   "metadata": {},
   "outputs": [],
   "source": [
    "water_ligand.species['OW'].mass = [15.999]\n",
    "water_ligand.species['HW1'].mass = [1.00784]\n",
    "water_ligand.species['HW2'].mass = [1.00784]"
   ]
  },
  {
   "cell_type": "code",
   "execution_count": 11,
   "id": "38b913cd",
   "metadata": {},
   "outputs": [
    {
     "name": "stdout",
     "output_type": "stream",
     "text": [
      "2022-01-22 01:03:32,953 - INFO: Positions already exists for OW, skipping transformation\n"
     ]
    },
    {
     "name": "stderr",
     "output_type": "stream",
     "text": [
      "INFO - 2022-01-22 01:03:32,953 - transformations - Positions already exists for OW, skipping transformation\n"
     ]
    },
    {
     "name": "stdout",
     "output_type": "stream",
     "text": [
      "2022-01-22 01:03:32,958 - INFO: Positions already exists for HW1, skipping transformation\n"
     ]
    },
    {
     "name": "stderr",
     "output_type": "stream",
     "text": [
      "INFO - 2022-01-22 01:03:32,958 - transformations - Positions already exists for HW1, skipping transformation\n"
     ]
    },
    {
     "name": "stdout",
     "output_type": "stream",
     "text": [
      "2022-01-22 01:03:32,963 - INFO: Positions already exists for HW2, skipping transformation\n"
     ]
    },
    {
     "name": "stderr",
     "output_type": "stream",
     "text": [
      "INFO - 2022-01-22 01:03:32,963 - transformations - Positions already exists for HW2, skipping transformation\n",
      "Building molecular graph from configuration for water: 100%|███████████████████████████████████████████████████████████████████████████████████████████████████████████████████████████| 42/42 [00:00<00:00, 631.77it/s]\n",
      "Mapping molecule graphs onto trajectory for water: 100%|█| 2/2 [00:00<\n",
      "Applying transformation 'Positions' to 'water': 100%|█| 1/1 [00:00<00:\n"
     ]
    }
   ],
   "source": [
    "water_ligand.run.CoordinateWrapper()\n",
    "\n",
    "water_ligand.run.MolecularMap(\n",
    "    molecules={\"water\": {\"reference\": {\"HW1\": 1, \"OW\": 1, \"HW2\": 1}, \"amount\": 14, \"cutoff\": 1.7}}\n",
    ")"
   ]
  },
  {
   "cell_type": "markdown",
   "id": "2363b632",
   "metadata": {},
   "source": [
    "### What information is stored?\n",
    "\n",
    "So the molecule mapping itself was quick and easy, but what information has been stored along the way?"
   ]
  },
  {
   "cell_type": "code",
   "execution_count": null,
   "id": "cdb86a26",
   "metadata": {},
   "outputs": [],
   "source": []
  }
 ],
 "metadata": {
  "kernelspec": {
   "display_name": "Python 3 (ipykernel)",
   "language": "python",
   "name": "python3"
  },
  "language_info": {
   "codemirror_mode": {
    "name": "ipython",
    "version": 3
   },
   "file_extension": ".py",
   "mimetype": "text/x-python",
   "name": "python",
   "nbconvert_exporter": "python",
   "pygments_lexer": "ipython3",
   "version": "3.8.12"
  }
 },
 "nbformat": 4,
 "nbformat_minor": 5
}
