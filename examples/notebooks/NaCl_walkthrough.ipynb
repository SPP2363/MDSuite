{
 "cells": [
  {
   "cell_type": "markdown",
   "id": "f186b759",
   "metadata": {},
   "source": [
    "# Molten NaCl Example\n",
    "\n",
    "In this walkthrough we will look at a system of molten NaCl to see how MDSuite can be used for the analysis of real systems"
   ]
  },
  {
   "cell_type": "markdown",
   "id": "b5f810d7",
   "metadata": {},
   "source": [
    "###  Library imports\n",
    "\n",
    "For this specific tutorial we will use our designate data server zinchub to load the data. This is the only import other than mdsuite required for any analysis."
   ]
  },
  {
   "cell_type": "code",
   "execution_count": 1,
   "id": "5dc4e981-a7ec-4c75-9962-c47895e4d032",
   "metadata": {},
   "outputs": [],
   "source": [
    "from zinchub import DataHub\n",
    "import mdsuite as mds"
   ]
  },
  {
   "cell_type": "markdown",
   "id": "7770d927",
   "metadata": {},
   "source": [
    "With the following two lines we download the data from zinchub."
   ]
  },
  {
   "cell_type": "code",
   "execution_count": 2,
   "id": "3cf35074-6729-4ffc-9e46-b7b0088a02ca",
   "metadata": {},
   "outputs": [],
   "source": [
    "# NaCl = DataHub(url=\"https://github.com/zincware/DataHub/tree/main/NaCl_gk_i_q\")\n",
    "# NaCl.get_file(path=\".\")"
   ]
  },
  {
   "cell_type": "markdown",
   "id": "c06178db",
   "metadata": {},
   "source": [
    "### Starting your project\n",
    "\n",
    "Now we can start an MDSuite project and add some data to it. Creating a project is as simple as calling the Project class with the name."
   ]
  },
  {
   "cell_type": "code",
   "execution_count": 3,
   "id": "d64da139-7bd9-48e0-b808-0981facea3df",
   "metadata": {},
   "outputs": [
    {
     "name": "stdout",
     "output_type": "stream",
     "text": [
      "2022-02-23 20:49:30,979 - INFO: Creating new project NaCl_Example\n"
     ]
    }
   ],
   "source": [
    "project = mds.Project(\"NaCl_Example\")"
   ]
  },
  {
   "cell_type": "markdown",
   "id": "3dd39884",
   "metadata": {},
   "source": [
    "Now we can add an experiment to the project. In this case, we pass the downloaded data directly to this experiment rather than add it at a later stage."
   ]
  },
  {
   "cell_type": "code",
   "execution_count": 4,
   "id": "fb939f9c-9092-4144-b46b-b562ef1dc64f",
   "metadata": {},
   "outputs": [
    {
     "name": "stdout",
     "output_type": "stream",
     "text": [
      "2022-02-23 20:49:31,063 - INFO: Creating a new experiment!\n"
     ]
    },
    {
     "name": "stderr",
     "output_type": "stream",
     "text": [
      "100%|███████████████████████████████████| 1/1 [00:04<00:00,  4.76s/it]\n"
     ]
    },
    {
     "data": {
      "text/plain": [
       "exp_NaCl_example_data"
      ]
     },
     "execution_count": 4,
     "metadata": {},
     "output_type": "execute_result"
    }
   ],
   "source": [
    "project.add_experiment(\n",
    "        name=\"NaCl_example_data\",\n",
    "        timestep=0.002,\n",
    "        temperature=1400.0,\n",
    "        units=\"metal\",\n",
    "        simulation_data=\"NaCl_gk_i_q.lammpstraj\",\n",
    "    )"
   ]
  },
  {
   "cell_type": "markdown",
   "id": "c8eb5349",
   "metadata": {},
   "source": [
    "### System analysis\n",
    "\n",
    "Now we can start looking at the system and learning from it. Let's start with a radial distribution function to see the structure."
   ]
  },
  {
   "cell_type": "code",
   "execution_count": 5,
   "id": "61f95d7a",
   "metadata": {
    "scrolled": false
   },
   "outputs": [
    {
     "name": "stdout",
     "output_type": "stream",
     "text": [
      "2022-02-23 20:49:35,993 - INFO: starting Einstein Diffusion Computation\n",
      "2022-02-23 20:49:35,994 - INFO: starting Einstein Diffusion Computation\n"
     ]
    },
    {
     "name": "stderr",
     "output_type": "stream",
     "text": [
      "Applying transformation 'Unwrapped_Positions' to 'Na': 100%|█| 1/1 [00\n",
      "Applying transformation 'Unwrapped_Positions' to 'Cl': 100%|█| 1/1 [00\n",
      "Na: 100%|███████████████████████████████| 1/1 [00:00<00:00,  2.05it/s]\n",
      "Cl: 100%|███████████████████████████████| 1/1 [00:00<00:00,  2.10it/s]\n"
     ]
    },
    {
     "data": {
      "text/html": [
       "\n",
       "    <div class=\"bk-root\">\n",
       "        <a href=\"https://bokeh.org\" target=\"_blank\" class=\"bk-logo bk-logo-small bk-logo-notebook\"></a>\n",
       "        <span id=\"1002\">Loading BokehJS ...</span>\n",
       "    </div>"
      ]
     },
     "metadata": {},
     "output_type": "display_data"
    },
    {
     "data": {
      "application/javascript": [
       "\n",
       "(function(root) {\n",
       "  function now() {\n",
       "    return new Date();\n",
       "  }\n",
       "\n",
       "  const force = true;\n",
       "\n",
       "  if (typeof root._bokeh_onload_callbacks === \"undefined\" || force === true) {\n",
       "    root._bokeh_onload_callbacks = [];\n",
       "    root._bokeh_is_loading = undefined;\n",
       "  }\n",
       "\n",
       "  const JS_MIME_TYPE = 'application/javascript';\n",
       "  const HTML_MIME_TYPE = 'text/html';\n",
       "  const EXEC_MIME_TYPE = 'application/vnd.bokehjs_exec.v0+json';\n",
       "  const CLASS_NAME = 'output_bokeh rendered_html';\n",
       "\n",
       "  /**\n",
       "   * Render data to the DOM node\n",
       "   */\n",
       "  function render(props, node) {\n",
       "    const script = document.createElement(\"script\");\n",
       "    node.appendChild(script);\n",
       "  }\n",
       "\n",
       "  /**\n",
       "   * Handle when an output is cleared or removed\n",
       "   */\n",
       "  function handleClearOutput(event, handle) {\n",
       "    const cell = handle.cell;\n",
       "\n",
       "    const id = cell.output_area._bokeh_element_id;\n",
       "    const server_id = cell.output_area._bokeh_server_id;\n",
       "    // Clean up Bokeh references\n",
       "    if (id != null && id in Bokeh.index) {\n",
       "      Bokeh.index[id].model.document.clear();\n",
       "      delete Bokeh.index[id];\n",
       "    }\n",
       "\n",
       "    if (server_id !== undefined) {\n",
       "      // Clean up Bokeh references\n",
       "      const cmd_clean = \"from bokeh.io.state import curstate; print(curstate().uuid_to_server['\" + server_id + \"'].get_sessions()[0].document.roots[0]._id)\";\n",
       "      cell.notebook.kernel.execute(cmd_clean, {\n",
       "        iopub: {\n",
       "          output: function(msg) {\n",
       "            const id = msg.content.text.trim();\n",
       "            if (id in Bokeh.index) {\n",
       "              Bokeh.index[id].model.document.clear();\n",
       "              delete Bokeh.index[id];\n",
       "            }\n",
       "          }\n",
       "        }\n",
       "      });\n",
       "      // Destroy server and session\n",
       "      const cmd_destroy = \"import bokeh.io.notebook as ion; ion.destroy_server('\" + server_id + \"')\";\n",
       "      cell.notebook.kernel.execute(cmd_destroy);\n",
       "    }\n",
       "  }\n",
       "\n",
       "  /**\n",
       "   * Handle when a new output is added\n",
       "   */\n",
       "  function handleAddOutput(event, handle) {\n",
       "    const output_area = handle.output_area;\n",
       "    const output = handle.output;\n",
       "\n",
       "    // limit handleAddOutput to display_data with EXEC_MIME_TYPE content only\n",
       "    if ((output.output_type != \"display_data\") || (!Object.prototype.hasOwnProperty.call(output.data, EXEC_MIME_TYPE))) {\n",
       "      return\n",
       "    }\n",
       "\n",
       "    const toinsert = output_area.element.find(\".\" + CLASS_NAME.split(' ')[0]);\n",
       "\n",
       "    if (output.metadata[EXEC_MIME_TYPE][\"id\"] !== undefined) {\n",
       "      toinsert[toinsert.length - 1].firstChild.textContent = output.data[JS_MIME_TYPE];\n",
       "      // store reference to embed id on output_area\n",
       "      output_area._bokeh_element_id = output.metadata[EXEC_MIME_TYPE][\"id\"];\n",
       "    }\n",
       "    if (output.metadata[EXEC_MIME_TYPE][\"server_id\"] !== undefined) {\n",
       "      const bk_div = document.createElement(\"div\");\n",
       "      bk_div.innerHTML = output.data[HTML_MIME_TYPE];\n",
       "      const script_attrs = bk_div.children[0].attributes;\n",
       "      for (let i = 0; i < script_attrs.length; i++) {\n",
       "        toinsert[toinsert.length - 1].firstChild.setAttribute(script_attrs[i].name, script_attrs[i].value);\n",
       "        toinsert[toinsert.length - 1].firstChild.textContent = bk_div.children[0].textContent\n",
       "      }\n",
       "      // store reference to server id on output_area\n",
       "      output_area._bokeh_server_id = output.metadata[EXEC_MIME_TYPE][\"server_id\"];\n",
       "    }\n",
       "  }\n",
       "\n",
       "  function register_renderer(events, OutputArea) {\n",
       "\n",
       "    function append_mime(data, metadata, element) {\n",
       "      // create a DOM node to render to\n",
       "      const toinsert = this.create_output_subarea(\n",
       "        metadata,\n",
       "        CLASS_NAME,\n",
       "        EXEC_MIME_TYPE\n",
       "      );\n",
       "      this.keyboard_manager.register_events(toinsert);\n",
       "      // Render to node\n",
       "      const props = {data: data, metadata: metadata[EXEC_MIME_TYPE]};\n",
       "      render(props, toinsert[toinsert.length - 1]);\n",
       "      element.append(toinsert);\n",
       "      return toinsert\n",
       "    }\n",
       "\n",
       "    /* Handle when an output is cleared or removed */\n",
       "    events.on('clear_output.CodeCell', handleClearOutput);\n",
       "    events.on('delete.Cell', handleClearOutput);\n",
       "\n",
       "    /* Handle when a new output is added */\n",
       "    events.on('output_added.OutputArea', handleAddOutput);\n",
       "\n",
       "    /**\n",
       "     * Register the mime type and append_mime function with output_area\n",
       "     */\n",
       "    OutputArea.prototype.register_mime_type(EXEC_MIME_TYPE, append_mime, {\n",
       "      /* Is output safe? */\n",
       "      safe: true,\n",
       "      /* Index of renderer in `output_area.display_order` */\n",
       "      index: 0\n",
       "    });\n",
       "  }\n",
       "\n",
       "  // register the mime type if in Jupyter Notebook environment and previously unregistered\n",
       "  if (root.Jupyter !== undefined) {\n",
       "    const events = require('base/js/events');\n",
       "    const OutputArea = require('notebook/js/outputarea').OutputArea;\n",
       "\n",
       "    if (OutputArea.prototype.mime_types().indexOf(EXEC_MIME_TYPE) == -1) {\n",
       "      register_renderer(events, OutputArea);\n",
       "    }\n",
       "  }\n",
       "\n",
       "  \n",
       "  if (typeof (root._bokeh_timeout) === \"undefined\" || force === true) {\n",
       "    root._bokeh_timeout = Date.now() + 5000;\n",
       "    root._bokeh_failed_load = false;\n",
       "  }\n",
       "\n",
       "  const NB_LOAD_WARNING = {'data': {'text/html':\n",
       "     \"<div style='background-color: #fdd'>\\n\"+\n",
       "     \"<p>\\n\"+\n",
       "     \"BokehJS does not appear to have successfully loaded. If loading BokehJS from CDN, this \\n\"+\n",
       "     \"may be due to a slow or bad network connection. Possible fixes:\\n\"+\n",
       "     \"</p>\\n\"+\n",
       "     \"<ul>\\n\"+\n",
       "     \"<li>re-rerun `output_notebook()` to attempt to load from CDN again, or</li>\\n\"+\n",
       "     \"<li>use INLINE resources instead, as so:</li>\\n\"+\n",
       "     \"</ul>\\n\"+\n",
       "     \"<code>\\n\"+\n",
       "     \"from bokeh.resources import INLINE\\n\"+\n",
       "     \"output_notebook(resources=INLINE)\\n\"+\n",
       "     \"</code>\\n\"+\n",
       "     \"</div>\"}};\n",
       "\n",
       "  function display_loaded() {\n",
       "    const el = document.getElementById(\"1002\");\n",
       "    if (el != null) {\n",
       "      el.textContent = \"BokehJS is loading...\";\n",
       "    }\n",
       "    if (root.Bokeh !== undefined) {\n",
       "      if (el != null) {\n",
       "        el.textContent = \"BokehJS \" + root.Bokeh.version + \" successfully loaded.\";\n",
       "      }\n",
       "    } else if (Date.now() < root._bokeh_timeout) {\n",
       "      setTimeout(display_loaded, 100)\n",
       "    }\n",
       "  }\n",
       "\n",
       "\n",
       "  function run_callbacks() {\n",
       "    try {\n",
       "      root._bokeh_onload_callbacks.forEach(function(callback) {\n",
       "        if (callback != null)\n",
       "          callback();\n",
       "      });\n",
       "    } finally {\n",
       "      delete root._bokeh_onload_callbacks\n",
       "    }\n",
       "    console.debug(\"Bokeh: all callbacks have finished\");\n",
       "  }\n",
       "\n",
       "  function load_libs(css_urls, js_urls, callback) {\n",
       "    if (css_urls == null) css_urls = [];\n",
       "    if (js_urls == null) js_urls = [];\n",
       "\n",
       "    root._bokeh_onload_callbacks.push(callback);\n",
       "    if (root._bokeh_is_loading > 0) {\n",
       "      console.debug(\"Bokeh: BokehJS is being loaded, scheduling callback at\", now());\n",
       "      return null;\n",
       "    }\n",
       "    if (js_urls == null || js_urls.length === 0) {\n",
       "      run_callbacks();\n",
       "      return null;\n",
       "    }\n",
       "    console.debug(\"Bokeh: BokehJS not loaded, scheduling load and callback at\", now());\n",
       "    root._bokeh_is_loading = css_urls.length + js_urls.length;\n",
       "\n",
       "    function on_load() {\n",
       "      root._bokeh_is_loading--;\n",
       "      if (root._bokeh_is_loading === 0) {\n",
       "        console.debug(\"Bokeh: all BokehJS libraries/stylesheets loaded\");\n",
       "        run_callbacks()\n",
       "      }\n",
       "    }\n",
       "\n",
       "    function on_error(url) {\n",
       "      console.error(\"failed to load \" + url);\n",
       "    }\n",
       "\n",
       "    for (let i = 0; i < css_urls.length; i++) {\n",
       "      const url = css_urls[i];\n",
       "      const element = document.createElement(\"link\");\n",
       "      element.onload = on_load;\n",
       "      element.onerror = on_error.bind(null, url);\n",
       "      element.rel = \"stylesheet\";\n",
       "      element.type = \"text/css\";\n",
       "      element.href = url;\n",
       "      console.debug(\"Bokeh: injecting link tag for BokehJS stylesheet: \", url);\n",
       "      document.body.appendChild(element);\n",
       "    }\n",
       "\n",
       "    for (let i = 0; i < js_urls.length; i++) {\n",
       "      const url = js_urls[i];\n",
       "      const element = document.createElement('script');\n",
       "      element.onload = on_load;\n",
       "      element.onerror = on_error.bind(null, url);\n",
       "      element.async = false;\n",
       "      element.src = url;\n",
       "      console.debug(\"Bokeh: injecting script tag for BokehJS library: \", url);\n",
       "      document.head.appendChild(element);\n",
       "    }\n",
       "  };\n",
       "\n",
       "  function inject_raw_css(css) {\n",
       "    const element = document.createElement(\"style\");\n",
       "    element.appendChild(document.createTextNode(css));\n",
       "    document.body.appendChild(element);\n",
       "  }\n",
       "\n",
       "  \n",
       "  const js_urls = [\"https://cdn.bokeh.org/bokeh/release/bokeh-2.4.2.min.js\", \"https://cdn.bokeh.org/bokeh/release/bokeh-gl-2.4.2.min.js\", \"https://cdn.bokeh.org/bokeh/release/bokeh-widgets-2.4.2.min.js\", \"https://cdn.bokeh.org/bokeh/release/bokeh-tables-2.4.2.min.js\", \"https://cdn.bokeh.org/bokeh/release/bokeh-mathjax-2.4.2.min.js\"];\n",
       "  const css_urls = [];\n",
       "  \n",
       "\n",
       "  const inline_js = [\n",
       "    function(Bokeh) {\n",
       "      Bokeh.set_log_level(\"info\");\n",
       "    },\n",
       "    function(Bokeh) {\n",
       "    \n",
       "    \n",
       "    }\n",
       "  ];\n",
       "\n",
       "  function run_inline_js() {\n",
       "    \n",
       "    if (root.Bokeh !== undefined || force === true) {\n",
       "      \n",
       "    for (let i = 0; i < inline_js.length; i++) {\n",
       "      inline_js[i].call(root, root.Bokeh);\n",
       "    }\n",
       "    if (force === true) {\n",
       "        display_loaded();\n",
       "      }} else if (Date.now() < root._bokeh_timeout) {\n",
       "      setTimeout(run_inline_js, 100);\n",
       "    } else if (!root._bokeh_failed_load) {\n",
       "      console.log(\"Bokeh: BokehJS failed to load within specified timeout.\");\n",
       "      root._bokeh_failed_load = true;\n",
       "    } else if (force !== true) {\n",
       "      const cell = $(document.getElementById(\"1002\")).parents('.cell').data().cell;\n",
       "      cell.output_area.append_execute_result(NB_LOAD_WARNING)\n",
       "    }\n",
       "\n",
       "  }\n",
       "\n",
       "  if (root._bokeh_is_loading === 0) {\n",
       "    console.debug(\"Bokeh: BokehJS loaded, going straight to plotting\");\n",
       "    run_inline_js();\n",
       "  } else {\n",
       "    load_libs(css_urls, js_urls, function() {\n",
       "      console.debug(\"Bokeh: BokehJS plotting callback run at\", now());\n",
       "      run_inline_js();\n",
       "    });\n",
       "  }\n",
       "}(window));"
      ],
      "application/vnd.bokehjs_load.v0+json": "\n(function(root) {\n  function now() {\n    return new Date();\n  }\n\n  const force = true;\n\n  if (typeof root._bokeh_onload_callbacks === \"undefined\" || force === true) {\n    root._bokeh_onload_callbacks = [];\n    root._bokeh_is_loading = undefined;\n  }\n\n  \n\n  \n  if (typeof (root._bokeh_timeout) === \"undefined\" || force === true) {\n    root._bokeh_timeout = Date.now() + 5000;\n    root._bokeh_failed_load = false;\n  }\n\n  const NB_LOAD_WARNING = {'data': {'text/html':\n     \"<div style='background-color: #fdd'>\\n\"+\n     \"<p>\\n\"+\n     \"BokehJS does not appear to have successfully loaded. If loading BokehJS from CDN, this \\n\"+\n     \"may be due to a slow or bad network connection. Possible fixes:\\n\"+\n     \"</p>\\n\"+\n     \"<ul>\\n\"+\n     \"<li>re-rerun `output_notebook()` to attempt to load from CDN again, or</li>\\n\"+\n     \"<li>use INLINE resources instead, as so:</li>\\n\"+\n     \"</ul>\\n\"+\n     \"<code>\\n\"+\n     \"from bokeh.resources import INLINE\\n\"+\n     \"output_notebook(resources=INLINE)\\n\"+\n     \"</code>\\n\"+\n     \"</div>\"}};\n\n  function display_loaded() {\n    const el = document.getElementById(\"1002\");\n    if (el != null) {\n      el.textContent = \"BokehJS is loading...\";\n    }\n    if (root.Bokeh !== undefined) {\n      if (el != null) {\n        el.textContent = \"BokehJS \" + root.Bokeh.version + \" successfully loaded.\";\n      }\n    } else if (Date.now() < root._bokeh_timeout) {\n      setTimeout(display_loaded, 100)\n    }\n  }\n\n\n  function run_callbacks() {\n    try {\n      root._bokeh_onload_callbacks.forEach(function(callback) {\n        if (callback != null)\n          callback();\n      });\n    } finally {\n      delete root._bokeh_onload_callbacks\n    }\n    console.debug(\"Bokeh: all callbacks have finished\");\n  }\n\n  function load_libs(css_urls, js_urls, callback) {\n    if (css_urls == null) css_urls = [];\n    if (js_urls == null) js_urls = [];\n\n    root._bokeh_onload_callbacks.push(callback);\n    if (root._bokeh_is_loading > 0) {\n      console.debug(\"Bokeh: BokehJS is being loaded, scheduling callback at\", now());\n      return null;\n    }\n    if (js_urls == null || js_urls.length === 0) {\n      run_callbacks();\n      return null;\n    }\n    console.debug(\"Bokeh: BokehJS not loaded, scheduling load and callback at\", now());\n    root._bokeh_is_loading = css_urls.length + js_urls.length;\n\n    function on_load() {\n      root._bokeh_is_loading--;\n      if (root._bokeh_is_loading === 0) {\n        console.debug(\"Bokeh: all BokehJS libraries/stylesheets loaded\");\n        run_callbacks()\n      }\n    }\n\n    function on_error(url) {\n      console.error(\"failed to load \" + url);\n    }\n\n    for (let i = 0; i < css_urls.length; i++) {\n      const url = css_urls[i];\n      const element = document.createElement(\"link\");\n      element.onload = on_load;\n      element.onerror = on_error.bind(null, url);\n      element.rel = \"stylesheet\";\n      element.type = \"text/css\";\n      element.href = url;\n      console.debug(\"Bokeh: injecting link tag for BokehJS stylesheet: \", url);\n      document.body.appendChild(element);\n    }\n\n    for (let i = 0; i < js_urls.length; i++) {\n      const url = js_urls[i];\n      const element = document.createElement('script');\n      element.onload = on_load;\n      element.onerror = on_error.bind(null, url);\n      element.async = false;\n      element.src = url;\n      console.debug(\"Bokeh: injecting script tag for BokehJS library: \", url);\n      document.head.appendChild(element);\n    }\n  };\n\n  function inject_raw_css(css) {\n    const element = document.createElement(\"style\");\n    element.appendChild(document.createTextNode(css));\n    document.body.appendChild(element);\n  }\n\n  \n  const js_urls = [\"https://cdn.bokeh.org/bokeh/release/bokeh-2.4.2.min.js\", \"https://cdn.bokeh.org/bokeh/release/bokeh-gl-2.4.2.min.js\", \"https://cdn.bokeh.org/bokeh/release/bokeh-widgets-2.4.2.min.js\", \"https://cdn.bokeh.org/bokeh/release/bokeh-tables-2.4.2.min.js\", \"https://cdn.bokeh.org/bokeh/release/bokeh-mathjax-2.4.2.min.js\"];\n  const css_urls = [];\n  \n\n  const inline_js = [\n    function(Bokeh) {\n      Bokeh.set_log_level(\"info\");\n    },\n    function(Bokeh) {\n    \n    \n    }\n  ];\n\n  function run_inline_js() {\n    \n    if (root.Bokeh !== undefined || force === true) {\n      \n    for (let i = 0; i < inline_js.length; i++) {\n      inline_js[i].call(root, root.Bokeh);\n    }\n    if (force === true) {\n        display_loaded();\n      }} else if (Date.now() < root._bokeh_timeout) {\n      setTimeout(run_inline_js, 100);\n    } else if (!root._bokeh_failed_load) {\n      console.log(\"Bokeh: BokehJS failed to load within specified timeout.\");\n      root._bokeh_failed_load = true;\n    } else if (force !== true) {\n      const cell = $(document.getElementById(\"1002\")).parents('.cell').data().cell;\n      cell.output_area.append_execute_result(NB_LOAD_WARNING)\n    }\n\n  }\n\n  if (root._bokeh_is_loading === 0) {\n    console.debug(\"Bokeh: BokehJS loaded, going straight to plotting\");\n    run_inline_js();\n  } else {\n    load_libs(css_urls, js_urls, function() {\n      console.debug(\"Bokeh: BokehJS plotting callback run at\", now());\n      run_inline_js();\n    });\n  }\n}(window));"
     },
     "metadata": {},
     "output_type": "display_data"
    },
    {
     "data": {
      "text/html": [
       "\n",
       "\n",
       "\n",
       "\n",
       "\n",
       "\n",
       "  <div class=\"bk-root\" id=\"d2a326ac-c55d-49ae-9e90-fd21159f2cd8\" data-root-id=\"1224\"></div>\n"
      ]
     },
     "metadata": {},
     "output_type": "display_data"
    },
    {
     "data": {
      "application/javascript": [
       "(function(root) {\n",
       "  function embed_document(root) {\n",
       "    \n",
       "  const docs_json = {\"c28cbf28-4b07-4c30-a1d1-211d6b8e9dc8\":{\"defs\":[],\"roots\":{\"references\":[{\"attributes\":{\"children\":[{\"id\":\"1223\"},{\"id\":\"1221\"}],\"sizing_mode\":\"scale_both\"},\"id\":\"1224\",\"type\":\"Column\"},{\"attributes\":{},\"id\":\"1216\",\"type\":\"Selection\"},{\"attributes\":{},\"id\":\"1098\",\"type\":\"LinearScale\"},{\"attributes\":{},\"id\":\"1160\",\"type\":\"Selection\"},{\"attributes\":{},\"id\":\"1217\",\"type\":\"UnionRenderers\"},{\"attributes\":{},\"id\":\"1206\",\"type\":\"BasicTickFormatter\"},{\"attributes\":{},\"id\":\"1101\",\"type\":\"BasicTicker\"},{\"attributes\":{},\"id\":\"1186\",\"type\":\"AllLabels\"},{\"attributes\":{\"label\":{\"value\":\"Curve fit.\"},\"renderers\":[{\"id\":\"1147\"}]},\"id\":\"1162\",\"type\":\"LegendItem\"},{\"attributes\":{},\"id\":\"1205\",\"type\":\"BasicTicker\"},{\"attributes\":{\"data\":{\"x\":{\"__ndarray__\":\"Flbnnq8DMj3GkN4bzZMyPXfL1ZjqIzM9KAbNFQi0Mz3ZQMSSJUQ0PYl7uw9D1DQ9ObayjGBkNT3q8KkJfvQ1PZsroYabhDY9TGaYA7kUNz39oI+A1qQ3Pa3bhv3zNDg9XRZ+ehHFOD0OUXX3LlU5Pb+LbHRM5Tk9cMZj8Wl1Oj0gAVtuhwU7PdE7UuuklTs9gnZJaMIlPD0zsUDl37U8PeTrN2L9RT09kyYv3xrWPT1EYSZcOGY+PfWbHdlV9j49ptYUVnOGPz2rCIZpSAtAPQSmAShXU0A9XEN95mWbQD204PikdONAPQx+dGODK0E9ZRvwIZJzQT29uGvgoLtBPRZW556vA0I9bvNiXb5LQj3GkN4bzZNCPR8uWtrb20I9d8vVmOojQz3QaFFX+WtDPSgGzRUItEM9gKNI1Bb8Qz3ZQMSSJUREPTDeP1E0jEQ9iXu7D0PURD3hGDfOURxFPTm2soxgZEU9klMuS2+sRT3q8KkJfvRFPUOOJciMPEY9myuhhpuERj3zyBxFqsxGPUxmmAO5FEc9pAMUwsdcRz39oI+A1qRHPVU+Cz/l7Ec9rduG/fM0SD0GeQK8An1IPV0WfnoRxUg9trP5OCANST0OUXX3LlVJPWbu8LU9nUk9v4tsdEzlST0XKegyWy1KPXDGY/FpdUo9yGPfr3i9Sj0gAVtuhwVLPXme1iyWTUs90TtS66SVSz0q2c2ps91LPQ==\",\"dtype\":\"float64\",\"order\":\"little\",\"shape\":[68]},\"y1\":{\"__ndarray__\":\"AAAAAAAA8P/LFKxilQpbPgPUVI/5Als+Vank3l/5Wj7UUwOh9O1aPneYTh3i4Fo+DFXEJ1LSWj7vA22bbMJaPoEBs6JXsVo+fIpHQTefWj5OymCcLIxaPsUBeg1WeFo+p/oB2s5jWj4k5yaBr05aPkdS/AsOOVo+szfPXv4iWj7fS42wkgxaPgJVs+3b9Vk+PyJXEOreWT5um8QyzMdZPl8aDoyQsFk+uChpY0SZWT4GFl0Q9IFZPrLItROralk+oyPBKHRTWT6TlTMgWTxZPuT6bMBiJVk+A/DRp5gOWT68jiBCAfhYPhnMZLyh4Vg+eOezB37LWD49xV7vmLVYPpeVrTX0n1g+66QIy5CKWD4cRO4Bb3VYPgY9wL2OYFg+QUoVne9LWD7hnR8VkTdYPs72f4dyI1g+aTUFRZMPWD7SjBWV8vtXPuGWGaqP6Fc+lK7eomnVVz6zOad6f8JXPhpr9QbQr1c+EMLt91mdVz6F/lDaG4tXPmQjKRoUeVc+LmoZC0FnVz53gHP5oFVXPhfbhCkyRFc+WdEM5fIyVz4xQoN/4SFXPrX7CGf8EFc+QhqJHEIAVz6jHn4/se9WPjXU04dI31Y+ieNsxgbPVj6AB13b6r5WPp6+cqzzrlY+/NYSKiCfVj6zJwQ4b49WPiKRor3ff1Y+71yTmXBwVj4YQp2oIGFWPpoJw8juUVY+LGas1dlCVj7KXwO24DNWPg==\",\"dtype\":\"float64\",\"order\":\"little\",\"shape\":[68]},\"y2\":{\"__ndarray__\":\"AAAAAAAA8H8nINXkbQ9bPptMtR6FCls+o9mrSsUDWz6uKTiETftaPrt7VyI98Vo+jtNn57PlWj4hTsiN0dhaPkUnHWq1ylo+9jJL/327Wj7U78VoSKtaPlMs8xEwmlo+p2NDZE6IWj726V/BunVaPgu0LpmKYlo+5Xxfj9FOWj55wC2/oTpaPjzIDQAMJlo+W0AmKCARWj4af9Uq7ftZPkGwQSWB5lk+UPrJXenQWT7oFXBHMrtZPjTiiZNnpVk+5b1uPZSPWT5NEvB2wnlZPpSDVJT7Y1k+O7JM9UdOWT4MD8P4rjhZPgHGyvE2I1k+dh/BIuUNWT6rMyXJvfhYPtFB6y3E41g+k4o1yvrOWD4GiSFuY7pYPrL+4V//pVg+SfqYhs+RWD73M0Z61H1YPoq0ZKAOalg+Z4AgMH5WWD64U9M9I0NYPm/Eb7b9L1g+hDZzZQ0dWD5NQUvnUQpYPkYmHLHK91c+nqkaCnflVz7rTOUUVtNXPvZXi8xmwVc+Kp9SDqivVz7BvvynGJ5XPmtSIlW3jFc+T/MmzYJ7Vz4BJPLHeWpXPkWnjwabWVc+dKDFVeVIVz7TaxCSVzhXPqPuXanwJ1c+pZlkl68XVz5WNAljkwdXPmAxUxSb91Y+nmMJvcXnVj6nXpFiEthWPqRVQA6AyFY+mzWRvg25Vj4StnVyuqlWPl72nCeFmlY+rDcA22yLVj42gNGPcHxWPg==\",\"dtype\":\"float64\",\"order\":\"little\",\"shape\":[68]}},\"selected\":{\"id\":\"1218\"},\"selection_policy\":{\"id\":\"1217\"}},\"id\":\"1171\",\"type\":\"ColumnDataSource\"},{\"attributes\":{\"axis_label\":\"$$\\\\text{Diffusion Coefficient} / m^{2}/s$$\",\"coordinates\":null,\"formatter\":{\"id\":\"1185\"},\"group\":null,\"major_label_policy\":{\"id\":\"1186\"},\"ticker\":{\"id\":\"1184\"},\"y_range_name\":\"Diff_range\"},\"id\":\"1076\",\"type\":\"LinearAxis\"},{\"attributes\":{\"line_alpha\":0.1,\"line_color\":\"#bc5090\",\"x\":{\"field\":\"x\"},\"y\":{\"field\":\"y\"}},\"id\":\"1167\",\"type\":\"Line\"},{\"attributes\":{\"fill_alpha\":0.1,\"fill_color\":\"#ffa600\",\"hatch_alpha\":{\"value\":0.1},\"hatch_color\":{\"value\":\"#ffa600\"},\"x\":{\"field\":\"x\"},\"y1\":{\"field\":\"y1\"},\"y2\":{\"field\":\"y2\"}},\"id\":\"1173\",\"type\":\"VArea\"},{\"attributes\":{\"line_alpha\":0.2,\"line_color\":\"#bc5090\",\"x\":{\"field\":\"x\"},\"y\":{\"field\":\"y\"}},\"id\":\"1168\",\"type\":\"Line\"},{\"attributes\":{\"source\":{\"id\":\"1165\"}},\"id\":\"1170\",\"type\":\"CDSView\"},{\"attributes\":{\"fill_alpha\":0.2,\"fill_color\":\"#ffa600\",\"hatch_alpha\":{\"value\":0.2},\"hatch_color\":{\"value\":\"#ffa600\"},\"x\":{\"field\":\"x\"},\"y1\":{\"field\":\"y1\"},\"y2\":{\"field\":\"y2\"}},\"id\":\"1174\",\"type\":\"VArea\"},{\"attributes\":{\"coordinates\":null,\"group\":null,\"items\":[{\"id\":\"1054\"},{\"id\":\"1074\"}]},\"id\":\"1053\",\"type\":\"Legend\"},{\"attributes\":{\"fill_alpha\":0.3,\"fill_color\":\"#ffa600\",\"hatch_alpha\":{\"value\":0.3},\"hatch_color\":{\"value\":\"#ffa600\"},\"x\":{\"field\":\"x\"},\"y1\":{\"field\":\"y1\"},\"y2\":{\"field\":\"y2\"}},\"id\":\"1172\",\"type\":\"VArea\"},{\"attributes\":{\"line_color\":\"#2E294E\",\"x\":{\"field\":\"x\"},\"y\":{\"field\":\"y\"}},\"id\":\"1144\",\"type\":\"Line\"},{\"attributes\":{\"line_alpha\":0.2,\"line_color\":\"#2E294E\",\"x\":{\"field\":\"x\"},\"y\":{\"field\":\"y\"}},\"id\":\"1146\",\"type\":\"Line\"},{\"attributes\":{\"bottom_units\":\"screen\",\"coordinates\":null,\"fill_alpha\":0.5,\"fill_color\":\"lightgrey\",\"group\":null,\"left_units\":\"screen\",\"level\":\"overlay\",\"line_alpha\":1.0,\"line_color\":\"black\",\"line_dash\":[4,4],\"line_width\":2,\"right_units\":\"screen\",\"syncable\":false,\"top_units\":\"screen\"},\"id\":\"1026\",\"type\":\"BoxAnnotation\"},{\"attributes\":{},\"id\":\"1215\",\"type\":\"UnionRenderers\"},{\"attributes\":{\"axis_label\":\"$$\\\\text{Time} / s$$\",\"coordinates\":null,\"formatter\":{\"id\":\"1136\"},\"group\":null,\"major_label_policy\":{\"id\":\"1137\"},\"ticker\":{\"id\":\"1101\"}},\"id\":\"1100\",\"type\":\"LinearAxis\"},{\"attributes\":{\"axis\":{\"id\":\"1100\"},\"coordinates\":null,\"group\":null,\"ticker\":null},\"id\":\"1103\",\"type\":\"Grid\"},{\"attributes\":{},\"id\":\"1159\",\"type\":\"UnionRenderers\"},{\"attributes\":{\"end\":3.5502450996879026e-20},\"id\":\"1034\",\"type\":\"Range1d\"},{\"attributes\":{\"data\":{\"x\":{\"__ndarray__\":\"Flbnnq8DMj3GkN4bzZMyPXfL1ZjqIzM9KAbNFQi0Mz3ZQMSSJUQ0PYl7uw9D1DQ9ObayjGBkNT3q8KkJfvQ1PZsroYabhDY9TGaYA7kUNz39oI+A1qQ3Pa3bhv3zNDg9XRZ+ehHFOD0OUXX3LlU5Pb+LbHRM5Tk9cMZj8Wl1Oj0gAVtuhwU7PdE7UuuklTs9gnZJaMIlPD0zsUDl37U8PeTrN2L9RT09kyYv3xrWPT1EYSZcOGY+PfWbHdlV9j49ptYUVnOGPz2rCIZpSAtAPQSmAShXU0A9XEN95mWbQD204PikdONAPQx+dGODK0E9ZRvwIZJzQT29uGvgoLtBPRZW556vA0I9bvNiXb5LQj3GkN4bzZNCPR8uWtrb20I9d8vVmOojQz3QaFFX+WtDPSgGzRUItEM9gKNI1Bb8Qz3ZQMSSJUREPTDeP1E0jEQ9iXu7D0PURD3hGDfOURxFPTm2soxgZEU9klMuS2+sRT3q8KkJfvRFPUOOJciMPEY9myuhhpuERj3zyBxFqsxGPUxmmAO5FEc9pAMUwsdcRz39oI+A1qRHPVU+Cz/l7Ec9rduG/fM0SD0GeQK8An1IPV0WfnoRxUg9trP5OCANST0OUXX3LlVJPWbu8LU9nUk9v4tsdEzlST0XKegyWy1KPXDGY/FpdUo9yGPfr3i9Sj0gAVtuhwVLPXme1iyWTUs90TtS66SVSz0q2c2ps91LPQ==\",\"dtype\":\"float64\",\"order\":\"little\",\"shape\":[68]},\"y\":{\"__ndarray__\":\"zNCY8zMRWz55msCjAQ1bPk8QBVe/Bls+fEHIlJL+Wj7Bvp0SofRaPhkK058P6Vo+TRSWBwPcWj4IqZoUn81aPmMUaIYGvlo+uV5JoFqtWj4RXZOCuptaPgyXtg9DiVo+J68inw52Wj6NaEMhNWJaPimDlVLMTVo+TFoX9+c4Wj4sht03miNaPp+O4PbzDVo+TbE+HAX4WT5EDc2u3OFZPlDlp9iIy1k+hJGZ4Ba1WT73leYrk55ZPnPVn1MJiFk+xPAXM4RxWT7w05HLDVtZPjy/YCqvRFk+H1GPTnAuWT7kznEdWBhZPg3JF1dsAlk+d4M6lbHsWD50/EFcK9dYPrRrzDHcwVg+vxefysWsWD6R5gc46ZdYPtwd0Q5Hg1g+RSLXkd9uWD7s6LLHslpYPqxV8pPARlg+6NqSuggzWD5FcHTpih9YPqitRLBGDFg+jPIohDv5Vz6APfmwaOZXPrDICFzN01c+1zUEgWjBVz64JZv3OK9XPq09WnM9nVc+rAS2jHSLVz6cH7jQ3HlXPsGWU790aFc+VOIZ2TpXVz4Zs7qjLUZXPn1RzLZLNVc+W10nuZMkVz47RcdoBBRXPmzhmJicA1c+l77oLlvzVj7rHTMfP+NWPv/3YmBH01Y+TR2O83LDVj4tw0rNwLNWPmNz8eUvpFY+RUkSLL+UVj4VfImNbYVWPvz/L/g5dlY+7E5WWCNnVj4AcOqiKFhWPg==\",\"dtype\":\"float64\",\"order\":\"little\",\"shape\":[68]}},\"selected\":{\"id\":\"1216\"},\"selection_policy\":{\"id\":\"1215\"}},\"id\":\"1165\",\"type\":\"ColumnDataSource\"},{\"attributes\":{\"source\":{\"id\":\"1143\"}},\"id\":\"1148\",\"type\":\"CDSView\"},{\"attributes\":{\"data\":{\"x\":{\"__ndarray__\":\"AAAAAAAAAAAWVueerwPiPBZW556vA/I8IAFbbocF+zwWVueerwMCPZsroYabhAY9IAFbbocFCz2m1hRWc4YPPRZW556vAxI92UDEkiVEFD2bK6GGm4QWPV0WfnoRxRg9IAFbbocFGz3k6zdi/UUdPabWFFZzhh89tOD4pHTjID0WVueerwMiPXfL1ZjqIyM92UDEkiVEJD05trKMYGQlPZsroYabhCY9/aCPgNakJz1dFn56EcUoPb+LbHRM5Sk9IAFbbocFKz2CdklowiUsPeTrN2L9RS09RGEmXDhmLj2m1hRWc4YvPQSmAShXUzA9tOD4pHTjMD1lG/AhknMxPRZW556vAzI9xpDeG82TMj13y9WY6iMzPSgGzRUItDM92UDEkiVEND2Je7sPQ9Q0PTm2soxgZDU96vCpCX70NT2bK6GGm4Q2PUxmmAO5FDc9/aCPgNakNz2t24b98zQ4PV0WfnoRxTg9DlF19y5VOT2/i2x0TOU5PXDGY/FpdTo9IAFbbocFOz3RO1LrpJU7PYJ2SWjCJTw9M7FA5d+1PD3k6zdi/UU9PZMmL98a1j09RGEmXDhmPj31mx3ZVfY+PabWFFZzhj89qwiGaUgLQD0EpgEoV1NAPVxDfeZlm0A9tOD4pHTjQD0MfnRjgytBPWUb8CGSc0E9vbhr4KC7QT0WVueerwNCPW7zYl2+S0I9xpDeG82TQj0fLlra29tCPXfL1ZjqI0M90GhRV/lrQz0oBs0VCLRDPYCjSNQW/EM92UDEkiVERD0w3j9RNIxEPYl7uw9D1EQ94Rg3zlEcRT05trKMYGRFPZJTLktvrEU96vCpCX70RT1DjiXIjDxGPZsroYabhEY988gcRarMRj1MZpgDuRRHPaQDFMLHXEc9/aCPgNakRz1VPgs/5exHPa3bhv3zNEg9BnkCvAJ9SD1dFn56EcVIPbaz+TggDUk9DlF19y5VST1m7vC1PZ1JPb+LbHRM5Uk9FynoMlstSj1wxmPxaXVKPchj3694vUo9IAFbbocFSz15ntYslk1LPdE7UuuklUs9KtnNqbPdSz0=\",\"dtype\":\"float64\",\"order\":\"little\",\"shape\":[100]},\"y\":{\"__ndarray__\":\"MN0DHBehibtiOJ/L9zGAu1BO6uxhC2u7yIlQqTZiVTsQbB1LzDZ4O9Ra83WFioU7ov9XxqT5jjs4Ul4LYjSUO6CkkLPx65g7CPfCW4GjnTu2pPqBiC2hO+nNE1ZQiaM7HfcsKhjlpTtSIEb+30CoO4RJX9KnnKo7uHJ4pm/4rDvsm5F6N1SvO49iVaf/17A7KvdhkeMFsjvCi257xzOzO1wge2WrYbQ797SHT4+PtTuPSZQ5c722OyneoCNX67c7w3KtDTsZuTtdB7r3Hke6O/ibxuECdbs7kDDTy+aivDsqxd+1ytC9O8RZ7J+u/r47L3f8REkWwDt8wQI6O63AO8kLCS8tRME7FVYPJB/bwTtioBUZEXLCO6/qGw4DCcM7/TQiA/WfwztJfyj45jbEO5XJLu3YzcQ74hM14spkxTsvXjvXvPvFO32oQcyuksY7yvJHwaApxzsWPU62ksDHO2KHVKuEV8g7r9FaoHbuyDv8G2GVaIXJO0pmZ4paHMo7lrBtf0yzyjvj+nN0PkrLOzBFemkw4cs7fY+AXiJ4zDvL2YZTFA/NOxYkjUgGps07Y26TPfg8zjuxuJky6tPOO/0CoCfcas87pCZTDucA0DvMS9YIYEzQO/JwWQPZl9A7GJbc/VHj0Ds+u1/4yi7RO2bg4vJDetE7jAVm7bzF0TuyKunnNRHSO9hPbOKuXNI7/nTv3Ceo0jsmmnLXoPPSO0y/9dEZP9M7cuR4zJKK0zuYCfzGC9bTO8Auf8GEIdQ75lMCvP1s1DsMeYW2drjUOzKeCLHvA9U7WMOLq2hP1Tt+6A6m4ZrVO6YNkqBa5tU7zDIVm9Mx1jvyV5iVTH3WOxh9G5DFyNY7PqKeij4U1ztmxyGFt1/XO4zspH8wq9c7tBEoeqn21zvaNqt0IkLYOwBcLm+bjdg7JoGxaRTZ2DtMpjRkjSTZO3LLt14GcNk7mPA6WX+72Tu+Fb5T+AbaO+Y6QU5xUto7DGDESOqd2js0hUdDY+naO1qqyj3cNNs7gM9NOFWA2zum9NAyzsvbO8wZVC1HF9w79D7XJ8Bi3Ds=\",\"dtype\":\"float64\",\"order\":\"little\",\"shape\":[100]}},\"selected\":{\"id\":\"1160\"},\"selection_policy\":{\"id\":\"1159\"}},\"id\":\"1143\",\"type\":\"ColumnDataSource\"},{\"attributes\":{\"line_alpha\":0.1,\"line_color\":\"#2E294E\",\"x\":{\"field\":\"x\"},\"y\":{\"field\":\"y\"}},\"id\":\"1145\",\"type\":\"Line\"},{\"attributes\":{},\"id\":\"1218\",\"type\":\"Selection\"},{\"attributes\":{\"line_color\":\"#bc5090\",\"x\":{\"field\":\"x\"},\"y\":{\"field\":\"y\"}},\"id\":\"1166\",\"type\":\"Line\"},{\"attributes\":{\"coordinates\":null,\"data_source\":{\"id\":\"1165\"},\"glyph\":{\"id\":\"1166\"},\"group\":null,\"hover_glyph\":null,\"muted_glyph\":{\"id\":\"1168\"},\"nonselection_glyph\":{\"id\":\"1167\"},\"view\":{\"id\":\"1170\"},\"y_range_name\":\"Diff_range\"},\"id\":\"1169\",\"type\":\"GlyphRenderer\"},{\"attributes\":{\"coordinates\":null,\"group\":null},\"id\":\"1042\",\"type\":\"Title\"},{\"attributes\":{},\"id\":\"1207\",\"type\":\"AllLabels\"},{\"attributes\":{},\"id\":\"1133\",\"type\":\"BasicTickFormatter\"},{\"attributes\":{},\"id\":\"1017\",\"type\":\"BasicTicker\"},{\"attributes\":{},\"id\":\"1134\",\"type\":\"AllLabels\"},{\"attributes\":{},\"id\":\"1111\",\"type\":\"SaveTool\"},{\"attributes\":{\"coordinates\":null,\"data_source\":{\"id\":\"1171\"},\"glyph\":{\"id\":\"1172\"},\"group\":null,\"hover_glyph\":null,\"muted_glyph\":{\"id\":\"1174\"},\"nonselection_glyph\":{\"id\":\"1173\"},\"view\":{\"id\":\"1176\"},\"y_range_name\":\"Diff_range\"},\"id\":\"1175\",\"type\":\"GlyphRenderer\"},{\"attributes\":{},\"id\":\"1136\",\"type\":\"BasicTickFormatter\"},{\"attributes\":{\"callback\":null},\"id\":\"1177\",\"type\":\"HoverTool\"},{\"attributes\":{},\"id\":\"1112\",\"type\":\"ResetTool\"},{\"attributes\":{},\"id\":\"1108\",\"type\":\"PanTool\"},{\"attributes\":{\"children\":[[{\"id\":\"1003\"},0,0],[{\"id\":\"1091\"},0,1]]},\"id\":\"1221\",\"type\":\"GridBox\"},{\"attributes\":{\"coordinates\":null,\"data_source\":{\"id\":\"1083\"},\"glyph\":{\"id\":\"1084\"},\"group\":null,\"hover_glyph\":null,\"muted_glyph\":{\"id\":\"1086\"},\"nonselection_glyph\":{\"id\":\"1085\"},\"view\":{\"id\":\"1088\"},\"y_range_name\":\"Diff_range\"},\"id\":\"1087\",\"type\":\"GlyphRenderer\"},{\"attributes\":{},\"id\":\"1195\",\"type\":\"Selection\"},{\"attributes\":{\"fill_alpha\":0.3,\"fill_color\":\"#ffa600\",\"hatch_alpha\":{\"value\":0.3},\"hatch_color\":{\"value\":\"#ffa600\"},\"x\":{\"field\":\"x\"},\"y1\":{\"field\":\"y1\"},\"y2\":{\"field\":\"y2\"}},\"id\":\"1084\",\"type\":\"VArea\"},{\"attributes\":{\"coordinates\":null,\"data_source\":{\"id\":\"1055\"},\"glyph\":{\"id\":\"1056\"},\"group\":null,\"hover_glyph\":null,\"muted_glyph\":{\"id\":\"1058\"},\"nonselection_glyph\":{\"id\":\"1057\"},\"view\":{\"id\":\"1060\"}},\"id\":\"1059\",\"type\":\"GlyphRenderer\"},{\"attributes\":{},\"id\":\"1045\",\"type\":\"BasicTickFormatter\"},{\"attributes\":{\"line_alpha\":0.2,\"line_color\":\"#2E294E\",\"x\":{\"field\":\"x\"},\"y\":{\"field\":\"y\"}},\"id\":\"1058\",\"type\":\"Line\"},{\"attributes\":{\"data\":{\"x\":{\"__ndarray__\":\"AAAAAAAAAAAWVueerwPiPBZW556vA/I8IAFbbocF+zwWVueerwMCPZsroYabhAY9IAFbbocFCz2m1hRWc4YPPRZW556vAxI92UDEkiVEFD2bK6GGm4QWPV0WfnoRxRg9IAFbbocFGz3k6zdi/UUdPabWFFZzhh89tOD4pHTjID0WVueerwMiPXfL1ZjqIyM92UDEkiVEJD05trKMYGQlPZsroYabhCY9/aCPgNakJz1dFn56EcUoPb+LbHRM5Sk9IAFbbocFKz2CdklowiUsPeTrN2L9RS09RGEmXDhmLj2m1hRWc4YvPQSmAShXUzA9tOD4pHTjMD1lG/AhknMxPRZW556vAzI9xpDeG82TMj13y9WY6iMzPSgGzRUItDM92UDEkiVEND2Je7sPQ9Q0PTm2soxgZDU96vCpCX70NT2bK6GGm4Q2PUxmmAO5FDc9/aCPgNakNz2t24b98zQ4PV0WfnoRxTg9DlF19y5VOT2/i2x0TOU5PXDGY/FpdTo9IAFbbocFOz3RO1LrpJU7PYJ2SWjCJTw9M7FA5d+1PD3k6zdi/UU9PZMmL98a1j09RGEmXDhmPj31mx3ZVfY+PabWFFZzhj89qwiGaUgLQD0EpgEoV1NAPVxDfeZlm0A9tOD4pHTjQD0MfnRjgytBPWUb8CGSc0E9vbhr4KC7QT0WVueerwNCPW7zYl2+S0I9xpDeG82TQj0fLlra29tCPXfL1ZjqI0M90GhRV/lrQz0oBs0VCLRDPYCjSNQW/EM92UDEkiVERD0w3j9RNIxEPYl7uw9D1EQ94Rg3zlEcRT05trKMYGRFPZJTLktvrEU96vCpCX70RT1DjiXIjDxGPZsroYabhEY988gcRarMRj1MZpgDuRRHPaQDFMLHXEc9/aCPgNakRz1VPgs/5exHPa3bhv3zNEg9BnkCvAJ9SD1dFn56EcVIPbaz+TggDUk9DlF19y5VST1m7vC1PZ1JPb+LbHRM5Uk9FynoMlstSj1wxmPxaXVKPchj3694vUo9IAFbbocFSz15ntYslk1LPdE7UuuklUs9KtnNqbPdSz0=\",\"dtype\":\"float64\",\"order\":\"little\",\"shape\":[100]},\"y\":{\"__ndarray__\":\"SBnzUF0qlTsWhz5VvlSbO3L6xKyPv6A7WrHqLsDUoztBaBCx8OmmOygfNjMh/6k7D9ZbtVEUrTt7xsAbwRSwO++h01xZn7E7Y33mnfEpszvWWPneibS0O0k0DCAiP7Y7vQ8fYbrJtzsx6zGiUlS5O6TGROPq3ro7GKJXJINpvDuMfWplG/S9O/9Yfaazfr87OhrI86WEwDvyh1EU8knBO6312jQ+D8I7Z2NkVYrUwjsg0e111pnDO9o+d5YiX8Q7lKwAt24kxTtOGorXuunFOwiIE/gGr8Y7wfWcGFN0xzt7YyY5nznIOzbRr1nr/sg77z45ejfEyTuprMKag4nKO2MaTLvPTss7HIjV2xsUzDvW9V78Z9nMO5Bj6By0ns07S9FxPQBkzjsEP/tdTCnPO7yshH6Y7s87PA2HT/JZ0DsYxMtfmLzQO/Z6EHA+H9E70jFVgOSB0Tuw6JmQiuTRO4yf3qAwR9I7aFYjsdap0jtGDWjBfAzTOyLErNEib9M7AHvx4cjR0zvcMTbybjTUO7roegIVl9Q7lp+/Erv51Dt0VgQjYVzVO1ANSTMHv9U7LMSNQ60h1jsKe9JTU4TWO+YxF2T55tY7xOhbdJ9J1zuin6CERazXO35W5ZTrDtg7Wg0qpZFx2Ds2xG61N9TYOxR7s8XdNtk78DH41YOZ2TvO6DzmKfzZO6qfgfbPXto7iFbGBnbB2jtmDQsXHCTbO0LETyfChts7IHuUN2jp2zv8MdlHDkzcO9joHVi0rtw7tp9iaFoR3TuSVqd4AHTdO3AN7Iim1t07TMQwmUw53jsoe3Wp8pveOwYyurmY/t474uj+yT5h3zvAn0Pa5MPfO04rRHVFE+A7vIZmfZhE4Dsr4oiF63XgO5o9q40+p+A7CJnNlZHY4Dt29O+d5AnhO+VPEqY3O+E7VKs0rops4TvBBle23Z3hOzBieb4wz+E7nr2bxoMA4jsMGb7O1jHiO3t04NYpY+I76s8C33yU4jtYKyXnz8XiO8eGR+8i9+I7NeJp93Uo4zukPYz/yFnjOxKZrgcci+M7gfTQD2+84zs=\",\"dtype\":\"float64\",\"order\":\"little\",\"shape\":[100]}},\"selected\":{\"id\":\"1072\"},\"selection_policy\":{\"id\":\"1071\"}},\"id\":\"1055\",\"type\":\"ColumnDataSource\"},{\"attributes\":{\"line_color\":\"#2E294E\",\"x\":{\"field\":\"x\"},\"y\":{\"field\":\"y\"}},\"id\":\"1056\",\"type\":\"Line\"},{\"attributes\":{},\"id\":\"1046\",\"type\":\"AllLabels\"},{\"attributes\":{\"source\":{\"id\":\"1055\"}},\"id\":\"1060\",\"type\":\"CDSView\"},{\"attributes\":{\"below\":[{\"id\":\"1012\"}],\"center\":[{\"id\":\"1015\"},{\"id\":\"1019\"},{\"id\":\"1053\"},{\"id\":\"1035\"}],\"extra_y_ranges\":{\"Diff_range\":{\"id\":\"1075\"}},\"left\":[{\"id\":\"1016\"}],\"renderers\":[{\"id\":\"1040\"},{\"id\":\"1059\"},{\"id\":\"1081\"},{\"id\":\"1087\"}],\"right\":[{\"id\":\"1076\"}],\"sizing_mode\":\"scale_both\",\"title\":{\"id\":\"1042\"},\"toolbar\":{\"id\":\"1027\"},\"toolbar_location\":null,\"x_range\":{\"id\":\"1004\"},\"x_scale\":{\"id\":\"1008\"},\"y_range\":{\"id\":\"1034\"},\"y_scale\":{\"id\":\"1010\"}},\"id\":\"1003\",\"subtype\":\"Figure\",\"type\":\"Plot\"},{\"attributes\":{},\"id\":\"1023\",\"type\":\"SaveTool\"},{\"attributes\":{\"coordinates\":null,\"group\":null,\"items\":[{\"id\":\"1142\"},{\"id\":\"1162\"}]},\"id\":\"1141\",\"type\":\"Legend\"},{\"attributes\":{\"line_alpha\":0.1,\"line_color\":\"#2E294E\",\"x\":{\"field\":\"x\"},\"y\":{\"field\":\"y\"}},\"id\":\"1057\",\"type\":\"Line\"},{\"attributes\":{\"data\":{\"x\":{\"__ndarray__\":\"RGEmXDhmLj2m1hRWc4YvPQSmAShXUzA9tOD4pHTjMD1lG/AhknMxPRZW556vAzI9xpDeG82TMj13y9WY6iMzPSgGzRUItDM92UDEkiVEND2Je7sPQ9Q0PTm2soxgZDU96vCpCX70NT2bK6GGm4Q2PUxmmAO5FDc9/aCPgNakNz2t24b98zQ4PV0WfnoRxTg9DlF19y5VOT2/i2x0TOU5PXDGY/FpdTo9IAFbbocFOz3RO1LrpJU7PYJ2SWjCJTw9M7FA5d+1PD3k6zdi/UU9PZMmL98a1j09RGEmXDhmPj31mx3ZVfY+PabWFFZzhj89qwiGaUgLQD0EpgEoV1NAPVxDfeZlm0A9tOD4pHTjQD0MfnRjgytBPWUb8CGSc0E9vbhr4KC7QT0WVueerwNCPW7zYl2+S0I9xpDeG82TQj0fLlra29tCPXfL1ZjqI0M90GhRV/lrQz0oBs0VCLRDPYCjSNQW/EM92UDEkiVERD0w3j9RNIxEPYl7uw9D1EQ94Rg3zlEcRT05trKMYGRFPZJTLktvrEU96vCpCX70RT1DjiXIjDxGPZsroYabhEY988gcRarMRj1MZpgDuRRHPaQDFMLHXEc9/aCPgNakRz1VPgs/5exHPa3bhv3zNEg9BnkCvAJ9SD1dFn56EcVIPbaz+TggDUk9DlF19y5VST1m7vC1PZ1JPb+LbHRM5Uk9FynoMlstSj1wxmPxaXVKPchj3694vUo9IAFbbocFSz15ntYslk1LPdE7UuuklUs9KtnNqbPdSz0=\",\"dtype\":\"float64\",\"order\":\"little\",\"shape\":[73]},\"y\":{\"__ndarray__\":\"X1JfLnKhZD6v2vb4BpxkPkKm7Ce2k2Q++q5erMGIZD5xLyE8aHtkPqw0gjPla2Q+lz38Z3BaZD4nw80oPkdkPrUQKUd/MmQ+VocMXWEcZD5DAN3VDgVkPp9yuzev7GM+YSteXWfTYz5JyFqqWbljPnX3mT2mnmM+LNka12qDYz7fDBDEwmdjPmy6E8/GS2M+gxu8Mo0vYz5NaXK1KRNjPuTbPNWt9mI+V4ji9CjaYj4LtieaqL1iPtuDFZ84oWI+qF/AZeOEYj7b2Ej6sWhiPlvLJ0ysTGI+GxhJWtkwYj5azDlcPxViPhbLVuLj+WE+XZOv5cveYT7dwIjV+8NhPl2cM5t3qWE+QkBtr0KPYT6aQzsgYHVhPi8Tl5TSW2E+PUdLTZxCYT7N6AcrvylhPtGnSLc8EWE+B/KTLxb5YD5aSEeSTOFgPq/orKXgyWA+cyx1ANOyYD7R0k8TJJxgPsgtlxzUhWA+ubx9MeNvYD7RFPVDUVpgPp/5GhYeRWA+lRVBP0kwYD73dhQj0htgPrWS6/C3B2A+WK/fPvPnXz7ZwzbaK8FfPsD20sAWm18+u6kDkLB1Xz7sPtSC9VBfPgC9q3jhLF8+N7bCAnAJXz63rwF3nOZePqj2M/RhxF4+mb+ceruiXj7s42vzo4FePgdR6zoWYV4+uDuzIg1BXj6o5W12gyFePjib3/xzAl4+MJGtdNnjXT6P4IiprsVdPuiffW/up10+uxkltpOKXT5DQpyRmW1dPp3yHEz7UF0+AJySarQ0XT4=\",\"dtype\":\"float64\",\"order\":\"little\",\"shape\":[73]}},\"selected\":{\"id\":\"1195\"},\"selection_policy\":{\"id\":\"1194\"}},\"id\":\"1077\",\"type\":\"ColumnDataSource\"},{\"attributes\":{},\"id\":\"1185\",\"type\":\"BasicTickFormatter\"},{\"attributes\":{},\"id\":\"1048\",\"type\":\"BasicTickFormatter\"},{\"attributes\":{\"source\":{\"id\":\"1124\"}},\"id\":\"1129\",\"type\":\"CDSView\"},{\"attributes\":{},\"id\":\"1049\",\"type\":\"AllLabels\"},{\"attributes\":{\"label\":{\"value\":\"Curve fit.\"},\"renderers\":[{\"id\":\"1059\"}]},\"id\":\"1074\",\"type\":\"LegendItem\"},{\"attributes\":{\"tools\":[{\"id\":\"1108\"},{\"id\":\"1109\"},{\"id\":\"1110\"},{\"id\":\"1111\"},{\"id\":\"1112\"},{\"id\":\"1113\"},{\"id\":\"1177\"}]},\"id\":\"1115\",\"type\":\"Toolbar\"},{\"attributes\":{},\"id\":\"1010\",\"type\":\"LinearScale\"},{\"attributes\":{\"bottom_units\":\"screen\",\"coordinates\":null,\"fill_alpha\":0.5,\"fill_color\":\"lightgrey\",\"group\":null,\"left_units\":\"screen\",\"level\":\"overlay\",\"line_alpha\":1.0,\"line_color\":\"black\",\"line_dash\":[4,4],\"line_width\":2,\"right_units\":\"screen\",\"syncable\":false,\"top_units\":\"screen\"},\"id\":\"1114\",\"type\":\"BoxAnnotation\"},{\"attributes\":{\"line_alpha\":0.1,\"line_color\":\"#F46036\",\"x\":{\"field\":\"x\"},\"y\":{\"field\":\"y\"}},\"id\":\"1126\",\"type\":\"Line\"},{\"attributes\":{},\"id\":\"1071\",\"type\":\"UnionRenderers\"},{\"attributes\":{\"axis_label\":\"$$\\\\text{MSD} / $m^{2}$$\",\"coordinates\":null,\"formatter\":{\"id\":\"1045\"},\"group\":null,\"major_label_policy\":{\"id\":\"1046\"},\"ticker\":{\"id\":\"1017\"}},\"id\":\"1016\",\"type\":\"LinearAxis\"},{\"attributes\":{},\"id\":\"1072\",\"type\":\"Selection\"},{\"attributes\":{},\"id\":\"1197\",\"type\":\"Selection\"},{\"attributes\":{\"line_color\":\"#F46036\",\"x\":{\"field\":\"x\"},\"y\":{\"field\":\"y\"}},\"id\":\"1037\",\"type\":\"Line\"},{\"attributes\":{\"axis\":{\"id\":\"1104\"},\"coordinates\":null,\"dimension\":1,\"group\":null,\"ticker\":null},\"id\":\"1107\",\"type\":\"Grid\"},{\"attributes\":{\"end\":4.227033512211717e-08,\"start\":2.1760074745311405e-08},\"id\":\"1075\",\"type\":\"Range1d\"},{\"attributes\":{},\"id\":\"1109\",\"type\":\"WheelZoomTool\"},{\"attributes\":{},\"id\":\"1050\",\"type\":\"UnionRenderers\"},{\"attributes\":{\"coordinates\":null,\"data_source\":{\"id\":\"1124\"},\"glyph\":{\"id\":\"1125\"},\"group\":null,\"hover_glyph\":null,\"muted_glyph\":{\"id\":\"1127\"},\"nonselection_glyph\":{\"id\":\"1126\"},\"view\":{\"id\":\"1129\"}},\"id\":\"1128\",\"type\":\"GlyphRenderer\"},{\"attributes\":{\"source\":{\"id\":\"1083\"}},\"id\":\"1088\",\"type\":\"CDSView\"},{\"attributes\":{},\"id\":\"1139\",\"type\":\"Selection\"},{\"attributes\":{\"toolbars\":[{\"id\":\"1027\"},{\"id\":\"1115\"}],\"tools\":[{\"id\":\"1020\"},{\"id\":\"1021\"},{\"id\":\"1022\"},{\"id\":\"1023\"},{\"id\":\"1024\"},{\"id\":\"1025\"},{\"id\":\"1089\"},{\"id\":\"1108\"},{\"id\":\"1109\"},{\"id\":\"1110\"},{\"id\":\"1111\"},{\"id\":\"1112\"},{\"id\":\"1113\"},{\"id\":\"1177\"}]},\"id\":\"1222\",\"type\":\"ProxyToolbar\"},{\"attributes\":{},\"id\":\"1105\",\"type\":\"BasicTicker\"},{\"attributes\":{},\"id\":\"1051\",\"type\":\"Selection\"},{\"attributes\":{\"axis_label\":\"$$\\\\text{MSD} / $m^{2}$$\",\"coordinates\":null,\"formatter\":{\"id\":\"1133\"},\"group\":null,\"major_label_policy\":{\"id\":\"1134\"},\"ticker\":{\"id\":\"1105\"}},\"id\":\"1104\",\"type\":\"LinearAxis\"},{\"attributes\":{\"overlay\":{\"id\":\"1026\"}},\"id\":\"1022\",\"type\":\"BoxZoomTool\"},{\"attributes\":{\"line_color\":\"#F46036\",\"x\":{\"field\":\"x\"},\"y\":{\"field\":\"y\"}},\"id\":\"1125\",\"type\":\"Line\"},{\"attributes\":{\"toolbar\":{\"id\":\"1222\"},\"toolbar_location\":\"above\"},\"id\":\"1223\",\"type\":\"ToolbarBox\"},{\"attributes\":{},\"id\":\"1025\",\"type\":\"HelpTool\"},{\"attributes\":{\"axis_label\":\"$$\\\\text{Time} / s$$\",\"coordinates\":null,\"formatter\":{\"id\":\"1048\"},\"group\":null,\"major_label_policy\":{\"id\":\"1049\"},\"ticker\":{\"id\":\"1013\"}},\"id\":\"1012\",\"type\":\"LinearAxis\"},{\"attributes\":{},\"id\":\"1194\",\"type\":\"UnionRenderers\"},{\"attributes\":{\"axis_label\":\"$$\\\\text{Diffusion Coefficient} / m^{2}/s$$\",\"coordinates\":null,\"formatter\":{\"id\":\"1206\"},\"group\":null,\"major_label_policy\":{\"id\":\"1207\"},\"ticker\":{\"id\":\"1205\"},\"y_range_name\":\"Diff_range\"},\"id\":\"1164\",\"type\":\"LinearAxis\"},{\"attributes\":{},\"id\":\"1196\",\"type\":\"UnionRenderers\"},{\"attributes\":{},\"id\":\"1008\",\"type\":\"LinearScale\"},{\"attributes\":{\"coordinates\":null,\"dimension\":\"height\",\"group\":null,\"line_dash\":[6],\"location\":1.9800000000000001e-13},\"id\":\"1035\",\"type\":\"Span\"},{\"attributes\":{\"coordinates\":null,\"group\":null},\"id\":\"1130\",\"type\":\"Title\"},{\"attributes\":{},\"id\":\"1024\",\"type\":\"ResetTool\"},{\"attributes\":{},\"id\":\"1004\",\"type\":\"DataRange1d\"},{\"attributes\":{},\"id\":\"1138\",\"type\":\"UnionRenderers\"},{\"attributes\":{\"coordinates\":null,\"data_source\":{\"id\":\"1143\"},\"glyph\":{\"id\":\"1144\"},\"group\":null,\"hover_glyph\":null,\"muted_glyph\":{\"id\":\"1146\"},\"nonselection_glyph\":{\"id\":\"1145\"},\"view\":{\"id\":\"1148\"}},\"id\":\"1147\",\"type\":\"GlyphRenderer\"},{\"attributes\":{\"coordinates\":null,\"data_source\":{\"id\":\"1077\"},\"glyph\":{\"id\":\"1078\"},\"group\":null,\"hover_glyph\":null,\"muted_glyph\":{\"id\":\"1080\"},\"nonselection_glyph\":{\"id\":\"1079\"},\"view\":{\"id\":\"1082\"},\"y_range_name\":\"Diff_range\"},\"id\":\"1081\",\"type\":\"GlyphRenderer\"},{\"attributes\":{\"label\":{\"value\":\"Cl:  2.081E-08 +-  1.320E-10\"},\"renderers\":[{\"id\":\"1128\"}]},\"id\":\"1142\",\"type\":\"LegendItem\"},{\"attributes\":{},\"id\":\"1020\",\"type\":\"PanTool\"},{\"attributes\":{},\"id\":\"1137\",\"type\":\"AllLabels\"},{\"attributes\":{\"data\":{\"x\":{\"__ndarray__\":\"AAAAAAAAAAAWVueerwPiPBZW556vA/I8IAFbbocF+zwWVueerwMCPZsroYabhAY9IAFbbocFCz2m1hRWc4YPPRZW556vAxI92UDEkiVEFD2bK6GGm4QWPV0WfnoRxRg9IAFbbocFGz3k6zdi/UUdPabWFFZzhh89tOD4pHTjID0WVueerwMiPXfL1ZjqIyM92UDEkiVEJD05trKMYGQlPZsroYabhCY9/aCPgNakJz1dFn56EcUoPb+LbHRM5Sk9IAFbbocFKz2CdklowiUsPeTrN2L9RS09RGEmXDhmLj2m1hRWc4YvPQSmAShXUzA9tOD4pHTjMD1lG/AhknMxPRZW556vAzI9xpDeG82TMj13y9WY6iMzPSgGzRUItDM92UDEkiVEND2Je7sPQ9Q0PTm2soxgZDU96vCpCX70NT2bK6GGm4Q2PUxmmAO5FDc9/aCPgNakNz2t24b98zQ4PV0WfnoRxTg9DlF19y5VOT2/i2x0TOU5PXDGY/FpdTo9IAFbbocFOz3RO1LrpJU7PYJ2SWjCJTw9M7FA5d+1PD3k6zdi/UU9PZMmL98a1j09RGEmXDhmPj31mx3ZVfY+PabWFFZzhj89qwiGaUgLQD0EpgEoV1NAPVxDfeZlm0A9tOD4pHTjQD0MfnRjgytBPWUb8CGSc0E9vbhr4KC7QT0WVueerwNCPW7zYl2+S0I9xpDeG82TQj0fLlra29tCPXfL1ZjqI0M90GhRV/lrQz0oBs0VCLRDPYCjSNQW/EM92UDEkiVERD0w3j9RNIxEPYl7uw9D1EQ94Rg3zlEcRT05trKMYGRFPZJTLktvrEU96vCpCX70RT1DjiXIjDxGPZsroYabhEY988gcRarMRj1MZpgDuRRHPaQDFMLHXEc9/aCPgNakRz1VPgs/5exHPa3bhv3zNEg9BnkCvAJ9SD1dFn56EcVIPbaz+TggDUk9DlF19y5VST1m7vC1PZ1JPb+LbHRM5Uk9FynoMlstSj1wxmPxaXVKPchj3694vUo9IAFbbocFSz15ntYslk1LPdE7UuuklUs9KtnNqbPdSz0=\",\"dtype\":\"float64\",\"order\":\"little\",\"shape\":[100]},\"y\":{\"__ndarray__\":\"AAAAAAAAAABLyq/kZh00O5tCFp2mFFQ7F3MyfPGGZjvKVE4OBvJzO9yzZakFAn87+EQYr3AwhjviRQevRfyNOyGxjgT3a5M7cnb42r5amDuoJoRg9cKdO7vJrlhTzqE7AvwIV8jvpDtkcJMlokGoO7zG01mgv6s7efoIpoJlrzuCKsu+hpexO/gHx4YHjLM7ga9aGzKOtTsH/4kA/5u3OzfQSph0s7k7lIsZMKzSuzvWxQtG2Pe9O70PGuukEMA79uPlubkmwTtQtLbedD3CO5ckymwxVMM7CaZFjltqxDsvTRvMcH/FO9Q/2xUAk8Y7oOM0kKikxzvseRNUGLTIO+DfNhYLwck78C7m20jLyjs4aSq2pNLLO1HRrMf71sw7CfExDjTYzTtSwoamO9bOO3MIWwUI0c87rEp5n0pk0Dsj+Nu3ct7QO+cIyLn/VtE7XVVs7vbN0TuHwcj9XkPSO7U592s/t9I7uq3rZaAp0zvnnbmGiprTO8wql70GCtQ7zrELLx541DvhSuMs2uTUOxUDGyBEUNU7WYOCXGW61Tux1RJqRyPWO7zsH/LzitY7srh43HTx1jtvpUU/1FbXO3+ZdTgcu9c7D/WOwFYe2DtGOovLjYDYOyp9RS7L4dg7+6ktrBhC2Tuw1ZS0f6HZO771ylkJANo7czLgYL5d2jsjJYdVp7raO0eRso/MFts7AwgHWzZy2ztpqH3q7MzbO9ZpcU/4Jtw7uiSjYmCA3DuD726oLNncO7W5rmhkMd07wPJ0jA6J3Ts10Dx9MeDdO7+rIA3TNt47/hmxWPiM3jvLeR3RpeLeOw92hwXfN987X233wqaM3ztF7Iob/+DfO3La4LR0GuA7jG51ODNE4DvXO5Yvu23gO5sZhYcMl+A7j7DDACfA4DuhhC07CungO4139c21EeE7xziQQCk64TvG5ZH6Y2LhO95yCkxliuE7/FREWiyy4TsgipgXuNnhO3Miol4HAeI7BD14/Bgo4jva5inT607iOxjQq9Z+deI7M82lNtGb4jvXsftv4sHiO9jIlUey5+I7AGX13EAN4zs=\",\"dtype\":\"float64\",\"order\":\"little\",\"shape\":[100]}},\"selected\":{\"id\":\"1051\"},\"selection_policy\":{\"id\":\"1050\"}},\"id\":\"1036\",\"type\":\"ColumnDataSource\"},{\"attributes\":{\"line_alpha\":0.2,\"line_color\":\"#F46036\",\"x\":{\"field\":\"x\"},\"y\":{\"field\":\"y\"}},\"id\":\"1039\",\"type\":\"Line\"},{\"attributes\":{\"line_color\":\"#bc5090\",\"x\":{\"field\":\"x\"},\"y\":{\"field\":\"y\"}},\"id\":\"1078\",\"type\":\"Line\"},{\"attributes\":{\"data\":{\"x\":{\"__ndarray__\":\"AAAAAAAAAAAWVueerwPiPBZW556vA/I8IAFbbocF+zwWVueerwMCPZsroYabhAY9IAFbbocFCz2m1hRWc4YPPRZW556vAxI92UDEkiVEFD2bK6GGm4QWPV0WfnoRxRg9IAFbbocFGz3k6zdi/UUdPabWFFZzhh89tOD4pHTjID0WVueerwMiPXfL1ZjqIyM92UDEkiVEJD05trKMYGQlPZsroYabhCY9/aCPgNakJz1dFn56EcUoPb+LbHRM5Sk9IAFbbocFKz2CdklowiUsPeTrN2L9RS09RGEmXDhmLj2m1hRWc4YvPQSmAShXUzA9tOD4pHTjMD1lG/AhknMxPRZW556vAzI9xpDeG82TMj13y9WY6iMzPSgGzRUItDM92UDEkiVEND2Je7sPQ9Q0PTm2soxgZDU96vCpCX70NT2bK6GGm4Q2PUxmmAO5FDc9/aCPgNakNz2t24b98zQ4PV0WfnoRxTg9DlF19y5VOT2/i2x0TOU5PXDGY/FpdTo9IAFbbocFOz3RO1LrpJU7PYJ2SWjCJTw9M7FA5d+1PD3k6zdi/UU9PZMmL98a1j09RGEmXDhmPj31mx3ZVfY+PabWFFZzhj89qwiGaUgLQD0EpgEoV1NAPVxDfeZlm0A9tOD4pHTjQD0MfnRjgytBPWUb8CGSc0E9vbhr4KC7QT0WVueerwNCPW7zYl2+S0I9xpDeG82TQj0fLlra29tCPXfL1ZjqI0M90GhRV/lrQz0oBs0VCLRDPYCjSNQW/EM92UDEkiVERD0w3j9RNIxEPYl7uw9D1EQ94Rg3zlEcRT05trKMYGRFPZJTLktvrEU96vCpCX70RT1DjiXIjDxGPZsroYabhEY988gcRarMRj1MZpgDuRRHPaQDFMLHXEc9/aCPgNakRz1VPgs/5exHPa3bhv3zNEg9BnkCvAJ9SD1dFn56EcVIPbaz+TggDUk9DlF19y5VST1m7vC1PZ1JPb+LbHRM5Uk9FynoMlstSj1wxmPxaXVKPchj3694vUo9IAFbbocFSz15ntYslk1LPdE7UuuklUs9KtnNqbPdSz0=\",\"dtype\":\"float64\",\"order\":\"little\",\"shape\":[100]},\"y\":{\"__ndarray__\":\"AAAAAAAAAACIsqs6hEonO5dLQalsQkc7H5HVSoAbWjsZAE396yFnO/S0Gz2A/3E7R2VZU5HJeTuw7JuYQHKBOyIsWLkLooY75EtGgl5tjDs9m1r1bGaRO7ltfZRU3JQ7T5BVXFCUmDurwJ/9LYqcO0tK4aHVXKA7y3MS6z6PojuZVLOpLNqkO/TdzgV6O6c7FvW1aAaxqTsbueBEuDisOxtyH56A0K47SGXd9y+7sDtIy/tmNRSyOwl5NoNncrM7dS2paevUtDu72mHH9Dq2Ox6RL1TGo7c7/KeUx7EOuTv9AZovGHu6O1cJhwlq6Ls7LZyUSSZWvTuywM1a2cO+O4WYM4ONGMA7+d/3NMfOwDt1jQ5FcITBO9eFCDJkOcI7N/72OoPtwjtVqBt/sqDDO+LTHJPbUsQ7FNXeWewDxTuAjayS1rPFO6FQ7C6PYsY7YEnu9g0QxzujbmbfTLzHOzv/zc5HZ8g7+kZDW/wQyTvC82yZabnJO0zjByqQYMo7K/WPOXIGyzvWgAyOE6vLO6GYukZ5Tsw7lblcnqnwzDt7ZS+yq5HNOwaSOGCHMc47VzAiW0XQzjujeIQN723PO+2O/P1GBdA7fNmwvRVT0Dt/RfwraKDQO8QMMlxC7dA7Nvah5qc50TtYYErfm4XRO4Y8ieMg0dE73bjFJjkc0jtFAjif5mbSOzv/FzYrsdI7jRTxzgj70jt5gdVXgUTTO88XA92WjdM7CMg4b0vW0zuHeRkYoR7UO0g929eZZtQ70Pixdzeu1DtY6jihe/XUO7MEC6BnPNU73X31fPyC1TtRTscIO8nVOzLZlOMjD9Y7RybDcrdU1jsa544T9pnWO94lxiTg3tY7GGSI+HUj1zvu7b72t2fXO+wspZemq9c7xufBhULv1zu49RV/jDLYO+QZqkmFddg7z1qryC242DuuqQDdhvrYOyiCFS2RPNk7D0bBP01+2TvZSUJku7/ZOyBCOrbbANo7mYXNJK5B2jt8WmWJMoLaO+PLybdowto7wsPCfVAC2zsE+Rmu6UHbO6sxDzM0gds7oUZtCTDA2zs=\",\"dtype\":\"float64\",\"order\":\"little\",\"shape\":[100]}},\"selected\":{\"id\":\"1139\"},\"selection_policy\":{\"id\":\"1138\"}},\"id\":\"1124\",\"type\":\"ColumnDataSource\"},{\"attributes\":{\"source\":{\"id\":\"1171\"}},\"id\":\"1176\",\"type\":\"CDSView\"},{\"attributes\":{\"tools\":[{\"id\":\"1020\"},{\"id\":\"1021\"},{\"id\":\"1022\"},{\"id\":\"1023\"},{\"id\":\"1024\"},{\"id\":\"1025\"},{\"id\":\"1089\"}]},\"id\":\"1027\",\"type\":\"Toolbar\"},{\"attributes\":{\"coordinates\":null,\"data_source\":{\"id\":\"1036\"},\"glyph\":{\"id\":\"1037\"},\"group\":null,\"hover_glyph\":null,\"muted_glyph\":{\"id\":\"1039\"},\"nonselection_glyph\":{\"id\":\"1038\"},\"view\":{\"id\":\"1041\"}},\"id\":\"1040\",\"type\":\"GlyphRenderer\"},{\"attributes\":{\"line_alpha\":0.2,\"line_color\":\"#bc5090\",\"x\":{\"field\":\"x\"},\"y\":{\"field\":\"y\"}},\"id\":\"1080\",\"type\":\"Line\"},{\"attributes\":{},\"id\":\"1021\",\"type\":\"WheelZoomTool\"},{\"attributes\":{},\"id\":\"1184\",\"type\":\"BasicTicker\"},{\"attributes\":{\"label\":{\"value\":\"Na:  2.720E-08 +-  2.857E-10\"},\"renderers\":[{\"id\":\"1040\"}]},\"id\":\"1054\",\"type\":\"LegendItem\"},{\"attributes\":{\"below\":[{\"id\":\"1100\"}],\"center\":[{\"id\":\"1103\"},{\"id\":\"1107\"},{\"id\":\"1141\"},{\"id\":\"1123\"}],\"extra_y_ranges\":{\"Diff_range\":{\"id\":\"1163\"}},\"left\":[{\"id\":\"1104\"}],\"renderers\":[{\"id\":\"1128\"},{\"id\":\"1147\"},{\"id\":\"1169\"},{\"id\":\"1175\"}],\"right\":[{\"id\":\"1164\"}],\"sizing_mode\":\"scale_both\",\"title\":{\"id\":\"1130\"},\"toolbar\":{\"id\":\"1115\"},\"toolbar_location\":null,\"x_range\":{\"id\":\"1092\"},\"x_scale\":{\"id\":\"1096\"},\"y_range\":{\"id\":\"1122\"},\"y_scale\":{\"id\":\"1098\"}},\"id\":\"1091\",\"subtype\":\"Figure\",\"type\":\"Plot\"},{\"attributes\":{\"axis\":{\"id\":\"1012\"},\"coordinates\":null,\"group\":null,\"ticker\":null},\"id\":\"1015\",\"type\":\"Grid\"},{\"attributes\":{\"source\":{\"id\":\"1077\"}},\"id\":\"1082\",\"type\":\"CDSView\"},{\"attributes\":{\"line_alpha\":0.1,\"line_color\":\"#bc5090\",\"x\":{\"field\":\"x\"},\"y\":{\"field\":\"y\"}},\"id\":\"1079\",\"type\":\"Line\"},{\"attributes\":{},\"id\":\"1013\",\"type\":\"BasicTicker\"},{\"attributes\":{},\"id\":\"1096\",\"type\":\"LinearScale\"},{\"attributes\":{\"axis\":{\"id\":\"1016\"},\"coordinates\":null,\"dimension\":1,\"group\":null,\"ticker\":null},\"id\":\"1019\",\"type\":\"Grid\"},{\"attributes\":{\"source\":{\"id\":\"1036\"}},\"id\":\"1041\",\"type\":\"CDSView\"},{\"attributes\":{\"fill_alpha\":0.1,\"fill_color\":\"#ffa600\",\"hatch_alpha\":{\"value\":0.1},\"hatch_color\":{\"value\":\"#ffa600\"},\"x\":{\"field\":\"x\"},\"y1\":{\"field\":\"y1\"},\"y2\":{\"field\":\"y2\"}},\"id\":\"1085\",\"type\":\"VArea\"},{\"attributes\":{\"data\":{\"x\":{\"__ndarray__\":\"RGEmXDhmLj2m1hRWc4YvPQSmAShXUzA9tOD4pHTjMD1lG/AhknMxPRZW556vAzI9xpDeG82TMj13y9WY6iMzPSgGzRUItDM92UDEkiVEND2Je7sPQ9Q0PTm2soxgZDU96vCpCX70NT2bK6GGm4Q2PUxmmAO5FDc9/aCPgNakNz2t24b98zQ4PV0WfnoRxTg9DlF19y5VOT2/i2x0TOU5PXDGY/FpdTo9IAFbbocFOz3RO1LrpJU7PYJ2SWjCJTw9M7FA5d+1PD3k6zdi/UU9PZMmL98a1j09RGEmXDhmPj31mx3ZVfY+PabWFFZzhj89qwiGaUgLQD0EpgEoV1NAPVxDfeZlm0A9tOD4pHTjQD0MfnRjgytBPWUb8CGSc0E9vbhr4KC7QT0WVueerwNCPW7zYl2+S0I9xpDeG82TQj0fLlra29tCPXfL1ZjqI0M90GhRV/lrQz0oBs0VCLRDPYCjSNQW/EM92UDEkiVERD0w3j9RNIxEPYl7uw9D1EQ94Rg3zlEcRT05trKMYGRFPZJTLktvrEU96vCpCX70RT1DjiXIjDxGPZsroYabhEY988gcRarMRj1MZpgDuRRHPaQDFMLHXEc9/aCPgNakRz1VPgs/5exHPa3bhv3zNEg9BnkCvAJ9SD1dFn56EcVIPbaz+TggDUk9DlF19y5VST1m7vC1PZ1JPb+LbHRM5Uk9FynoMlstSj1wxmPxaXVKPchj3694vUo9IAFbbocFSz15ntYslk1LPdE7UuuklUs9KtnNqbPdSz0=\",\"dtype\":\"float64\",\"order\":\"little\",\"shape\":[73]},\"y1\":{\"__ndarray__\":\"AAAAAAAA8P8UgTcR5phkPpUqB/W1jmQ+WrdKyM2BZD54p3vMdHJkPg5JRsPtYGQ+qC6YcXZNZD402OvbRzhkPvodOYiWIWQ+dJ1ICJMJZD45P2QWavBjPpkUdgxF1mM+K9TJNkq7Yz6kHb8anZ9jPpNeBLheg2M+bBmnZK1mYz6utgO2pEljPoKbXHRdLGM+XB6yke0OYz6x2q5UaPFiPk0oY5Le02I+VJ6G6V62Yj7LVrEK9phiPt7iffSue2I+j3VZLJNeYj7q2HbiqkFiPk36nDL9JGI+Ah5+VJAIYj6z4sPFaexhPjdAtWuO0GE+KzMXoQK1YT4XJ/FAyplhPu/khafofmE+w7jvyGBkYT6Lod40NUphPgOwMRloMGE+BD1tQPsWYT6HJaMX8P1gPnnJ77lH5WA+PjdL9wLNYD7alM9oIrVgPhkZa3OmnWA+peTGUI+GYD6gnU8c3W9gPp15FMGPWWA+F3IVA6dDYD5AaHGIIi5gPnJnoMgBGWA+aYEBD0QEYD46c0vu0N9fPgpvY8jbt18+BSxjA6aQXz64RXSFLGpfPoGGLrNrRF8++nszll8fXz5izwDNA/tePicsWJ9T114+62Rd/0m0Xj4BYjqo4ZFePiFHBSgVcF4+EGIj+95OXj6qCwV8OS5ePi+ugxcfDl4+z4uGI4ruXT663EYAdc9dPvI2EQ3asF0+GXORpLOSXT6Oc340/HRdPuEeuT2uV10+xJ4lXsQ6XT5pjeNlOR5dPruGLWAIAl0+WbVWnSzmXD4=\",\"dtype\":\"float64\",\"order\":\"little\",\"shape\":[73]},\"y2\":{\"__ndarray__\":\"AAAAAAAA8H9KNLbgJ59kPu8h0lq2mGQ+mqZykLWPZD5qt8arW4RkPkogvqPcdmQ+hkxgXmpnZD4arq91NFZkPnADGQZoQ2Q+OHHQsS8vZD5NwVWVsxlkPqXQAGMZA2Q+l4Lyg4TrYz7ucvY5FtNjPleQL8PtuWM+7JiOSSigYz4QYxzS4IVjPlbZyikwa2M+qhjG0yxQYz7p9zUW6zRjPnuPFhh9GWM+WnI+APP9Yj5LFZ4pW+JiPtgkrUnCxmI+wUknnzOrYj7M2BoSuY9iPmmcsmVbdGI+NBIUYCJZYj4Btq/yFD5iPvVV+Fg5I2I+j/NHKpUIYj6jWiBqLe5hPstT4Y4G1GE+wcfqlSS6YT6p5ZcLi6BhPlt2/A89h2E+dlEpWj1uYT4TrGw+jlVhPimGobQxPWE+0KzcZyklYT7a+767dg1hPkW47tca9mA+QXQjsBbfYD4CCFAKa8hgPvPhGXgYsmA+WwfmXx+cYD5iwXj/f4ZgPsyLlWM6cWA+wamAb05cYD5RNAPPu0dgPuVtpf2BM2A+VhkuPaAfYD79oHyXFQxgPv9md87B8V8+fNfTiQHMXz52rqc456ZfPtlN/1Fvgl8+gwcoBpZeXz5t/chFVztfPi+mYsCuGF8+Ih0W+pf2Xj4uvNJqDtVePt/zUl4NtF4+oevfIZCTXj6W7pTskXNePn7/rewNVF4+R6/JRP80Xj6QTZMeYRZePu8gQqEu+F0+spQkDmPaXT4d91S9+bxdPn9eDDjun10+p4LONzyDXT4=\",\"dtype\":\"float64\",\"order\":\"little\",\"shape\":[73]}},\"selected\":{\"id\":\"1197\"},\"selection_policy\":{\"id\":\"1196\"}},\"id\":\"1083\",\"type\":\"ColumnDataSource\"},{\"attributes\":{},\"id\":\"1113\",\"type\":\"HelpTool\"},{\"attributes\":{},\"id\":\"1092\",\"type\":\"DataRange1d\"},{\"attributes\":{\"callback\":null},\"id\":\"1089\",\"type\":\"HoverTool\"},{\"attributes\":{\"line_alpha\":0.1,\"line_color\":\"#F46036\",\"x\":{\"field\":\"x\"},\"y\":{\"field\":\"y\"}},\"id\":\"1038\",\"type\":\"Line\"},{\"attributes\":{\"line_alpha\":0.2,\"line_color\":\"#F46036\",\"x\":{\"field\":\"x\"},\"y\":{\"field\":\"y\"}},\"id\":\"1127\",\"type\":\"Line\"},{\"attributes\":{\"overlay\":{\"id\":\"1114\"}},\"id\":\"1110\",\"type\":\"BoxZoomTool\"},{\"attributes\":{\"fill_alpha\":0.2,\"fill_color\":\"#ffa600\",\"hatch_alpha\":{\"value\":0.2},\"hatch_color\":{\"value\":\"#ffa600\"},\"x\":{\"field\":\"x\"},\"y1\":{\"field\":\"y1\"},\"y2\":{\"field\":\"y2\"}},\"id\":\"1086\",\"type\":\"VArea\"},{\"attributes\":{\"end\":2.772912277330284e-08,\"start\":1.664785300351619e-08},\"id\":\"1163\",\"type\":\"Range1d\"},{\"attributes\":{\"coordinates\":null,\"dimension\":\"height\",\"group\":null,\"line_dash\":[6],\"location\":1.9800000000000001e-13},\"id\":\"1123\",\"type\":\"Span\"},{\"attributes\":{\"end\":2.5856363662471104e-20},\"id\":\"1122\",\"type\":\"Range1d\"}],\"root_ids\":[\"1224\"]},\"title\":\"Bokeh Application\",\"version\":\"2.4.2\"}};\n",
       "  const render_items = [{\"docid\":\"c28cbf28-4b07-4c30-a1d1-211d6b8e9dc8\",\"root_ids\":[\"1224\"],\"roots\":{\"1224\":\"d2a326ac-c55d-49ae-9e90-fd21159f2cd8\"}}];\n",
       "  root.Bokeh.embed.embed_items_notebook(docs_json, render_items);\n",
       "\n",
       "  }\n",
       "  if (root.Bokeh !== undefined) {\n",
       "    embed_document(root);\n",
       "  } else {\n",
       "    let attempts = 0;\n",
       "    const timer = setInterval(function(root) {\n",
       "      if (root.Bokeh !== undefined) {\n",
       "        clearInterval(timer);\n",
       "        embed_document(root);\n",
       "      } else {\n",
       "        attempts++;\n",
       "        if (attempts > 100) {\n",
       "          clearInterval(timer);\n",
       "          console.log(\"Bokeh: ERROR: Unable to run BokehJS code because BokehJS library is missing\");\n",
       "        }\n",
       "      }\n",
       "    }, 10, root)\n",
       "  }\n",
       "})(window);"
      ],
      "application/vnd.bokehjs_exec.v0+json": ""
     },
     "metadata": {
      "application/vnd.bokehjs_exec.v0+json": {
       "id": "1224"
      }
     },
     "output_type": "display_data"
    },
    {
     "data": {
      "text/plain": [
       "{'NaCl_example_data': Exp1_Einstein Self-Diffusion Coefficients_1}"
      ]
     },
     "execution_count": 5,
     "metadata": {},
     "output_type": "execute_result"
    }
   ],
   "source": [
    "project.run.EinsteinDiffusionCoefficients()"
   ]
  },
  {
   "cell_type": "code",
   "execution_count": 6,
   "id": "2d58da29",
   "metadata": {
    "scrolled": false
   },
   "outputs": [],
   "source": [
    "# project.run.RadialDistributionFunction(plot=True)"
   ]
  },
  {
   "cell_type": "markdown",
   "id": "0293d3d0",
   "metadata": {},
   "source": [
    "This looks nice, but let's kick it up a notch and look at bond distributions with the angular distribution functions."
   ]
  },
  {
   "cell_type": "code",
   "execution_count": 7,
   "id": "72481f26",
   "metadata": {},
   "outputs": [],
   "source": [
    "# dat = project.run.AngularDistributionFunction(number_of_configurations=50, plot=True, cutoff=3.6)"
   ]
  },
  {
   "cell_type": "markdown",
   "id": "b1c70313",
   "metadata": {},
   "source": [
    "Finally, let's take a look at the Green-Kubo diffusion coefficients and ionic conductivity."
   ]
  },
  {
   "cell_type": "code",
   "execution_count": 8,
   "id": "af1016db-732e-4911-8104-2fd956166646",
   "metadata": {
    "scrolled": false
   },
   "outputs": [],
   "source": [
    "# project.run.GreenKuboDiffusionCoefficients(\n",
    "#         data_range=102, plot=True, correlation_time=10\n",
    "#     )"
   ]
  },
  {
   "cell_type": "code",
   "execution_count": 9,
   "id": "a6cc2baa",
   "metadata": {},
   "outputs": [],
   "source": [
    "# project.run.GreenKuboIonicConductivity(\n",
    "#         data_range=300, plot=True, correlation_time=1\n",
    "#     )"
   ]
  },
  {
   "cell_type": "markdown",
   "id": "2f1446a6",
   "metadata": {},
   "source": [
    "## Summary\n",
    "\n",
    "In this notebook we have introduced MDSuite as well as some of its functionality on some dummy data. Hopefully by now you are getting a feel for the general workflow of the package and are ready to try something new. In that case, check out our more advanced tutorials to get the most out of the software."
   ]
  },
  {
   "cell_type": "code",
   "execution_count": null,
   "id": "bbc37d77",
   "metadata": {},
   "outputs": [],
   "source": []
  }
 ],
 "metadata": {
  "kernelspec": {
   "display_name": "Python 3 (ipykernel)",
   "language": "python",
   "name": "python3"
  },
  "language_info": {
   "codemirror_mode": {
    "name": "ipython",
    "version": 3
   },
   "file_extension": ".py",
   "mimetype": "text/x-python",
   "name": "python",
   "nbconvert_exporter": "python",
   "pygments_lexer": "ipython3",
   "version": "3.8.12"
  }
 },
 "nbformat": 4,
 "nbformat_minor": 5
}
