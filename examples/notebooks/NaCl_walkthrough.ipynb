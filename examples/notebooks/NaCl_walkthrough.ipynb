{
 "cells": [
  {
   "cell_type": "markdown",
   "id": "f186b759",
   "metadata": {},
   "source": [
    "# Molten NaCl Example\n",
    "\n",
    "In this walkthrough we will look at a system of molten NaCl to see how MDSuite can be used for the analysis of real systems"
   ]
  },
  {
   "cell_type": "markdown",
   "id": "b5f810d7",
   "metadata": {},
   "source": [
    "###  Library imports\n",
    "\n",
    "For this specific tutorial we will use our designate data server zinchub to load the data. This is the only import other than mdsuite required for any analysis."
   ]
  },
  {
   "cell_type": "code",
   "execution_count": 1,
   "id": "5dc4e981-a7ec-4c75-9962-c47895e4d032",
   "metadata": {},
   "outputs": [
    {
     "name": "stderr",
     "output_type": "stream",
     "text": [
      "2022-02-23 10:33:37.875025: E tensorflow/stream_executor/cuda/cuda_driver.cc:271] failed call to cuInit: CUDA_ERROR_NOT_INITIALIZED: initialization error\n",
      "2022-02-23 10:33:37.875072: I tensorflow/stream_executor/cuda/cuda_diagnostics.cc:169] retrieving CUDA diagnostic information for host: tahr\n",
      "2022-02-23 10:33:37.875079: I tensorflow/stream_executor/cuda/cuda_diagnostics.cc:176] hostname: tahr\n",
      "2022-02-23 10:33:37.875214: I tensorflow/stream_executor/cuda/cuda_diagnostics.cc:200] libcuda reported version is: 470.103.1\n",
      "2022-02-23 10:33:37.875243: I tensorflow/stream_executor/cuda/cuda_diagnostics.cc:204] kernel reported version is: 470.103.1\n",
      "2022-02-23 10:33:37.875248: I tensorflow/stream_executor/cuda/cuda_diagnostics.cc:310] kernel version seems to match DSO: 470.103.1\n"
     ]
    }
   ],
   "source": [
    "from zinchub import DataHub\n",
    "import mdsuite as mds"
   ]
  },
  {
   "cell_type": "markdown",
   "id": "7770d927",
   "metadata": {},
   "source": [
    "With the following two lines we download the data from zinchub."
   ]
  },
  {
   "cell_type": "code",
   "execution_count": 2,
   "id": "3cf35074-6729-4ffc-9e46-b7b0088a02ca",
   "metadata": {},
   "outputs": [
    {
     "data": {
      "text/plain": [
       "'NaCl_gk_i_q.lammpstraj'"
      ]
     },
     "execution_count": 2,
     "metadata": {},
     "output_type": "execute_result"
    }
   ],
   "source": [
    "NaCl = DataHub(url=\"https://github.com/zincware/DataHub/tree/main/NaCl_gk_i_q\")\n",
    "NaCl.get_file(path=\".\")"
   ]
  },
  {
   "cell_type": "markdown",
   "id": "c06178db",
   "metadata": {},
   "source": [
    "### Starting your project\n",
    "\n",
    "Now we can start an MDSuite project and add some data to it. Creating a project is as simple as calling the Project class with the name."
   ]
  },
  {
   "cell_type": "code",
   "execution_count": 3,
   "id": "d64da139-7bd9-48e0-b808-0981facea3df",
   "metadata": {},
   "outputs": [
    {
     "name": "stdout",
     "output_type": "stream",
     "text": [
      "2022-02-23 10:33:43,979 - INFO: Creating new project NaCl_Example\n"
     ]
    }
   ],
   "source": [
    "project = mds.Project(\"NaCl_Example\")"
   ]
  },
  {
   "cell_type": "markdown",
   "id": "3dd39884",
   "metadata": {},
   "source": [
    "Now we can add an experiment to the project. In this case, we pass the downloaded data directly to this experiment rather than add it at a later stage."
   ]
  },
  {
   "cell_type": "code",
   "execution_count": 4,
   "id": "fb939f9c-9092-4144-b46b-b562ef1dc64f",
   "metadata": {},
   "outputs": [
    {
     "name": "stdout",
     "output_type": "stream",
     "text": [
      "2022-02-23 10:33:44,311 - INFO: Creating a new experiment!\n",
      "2022-02-23 10:33:44,969 - WARNING: No GPUs detected, continuing without GPU support\n"
     ]
    },
    {
     "name": "stderr",
     "output_type": "stream",
     "text": [
      "100%|███████████████████████████████████| 1/1 [00:06<00:00,  6.87s/it]\n"
     ]
    },
    {
     "data": {
      "text/plain": [
       "exp_NaCl_example_data"
      ]
     },
     "execution_count": 4,
     "metadata": {},
     "output_type": "execute_result"
    }
   ],
   "source": [
    "project.add_experiment(\n",
    "        name=\"NaCl_example_data\",\n",
    "        timestep=0.002,\n",
    "        temperature=1400.0,\n",
    "        units=\"metal\",\n",
    "        simulation_data=\"NaCl_gk_i_q.lammpstraj\",\n",
    "    )"
   ]
  },
  {
   "cell_type": "markdown",
   "id": "c8eb5349",
   "metadata": {},
   "source": [
    "### System analysis\n",
    "\n",
    "Now we can start looking at the system and learning from it. Let's start with a radial distribution function to see the structure."
   ]
  },
  {
   "cell_type": "code",
   "execution_count": 5,
   "id": "2d58da29",
   "metadata": {},
   "outputs": [],
   "source": [
    "# project.run.RadialDistributionFunction(number_of_configurations=100, plot=True)"
   ]
  },
  {
   "cell_type": "markdown",
   "id": "0293d3d0",
   "metadata": {},
   "source": [
    "This looks nice, but let's kick it up a notch and look at bond distributions with the angular distribution functions."
   ]
  },
  {
   "cell_type": "code",
   "execution_count": 6,
   "id": "a4de242c",
   "metadata": {},
   "outputs": [
    {
     "name": "stdout",
     "output_type": "stream",
     "text": [
      "2022-02-23 10:33:51,996 - INFO: starting Einstein Diffusion Computation\n",
      "2022-02-23 10:33:51,997 - INFO: starting Einstein Diffusion Computation\n",
      "2022-02-23 10:33:52,184 - WARNING: No GPUs detected, continuing without GPU support\n"
     ]
    },
    {
     "name": "stderr",
     "output_type": "stream",
     "text": [
      "2022-02-23 10:33:52.153137: I tensorflow/core/platform/cpu_feature_guard.cc:142] This TensorFlow binary is optimized with oneAPI Deep Neural Network Library (oneDNN) to use the following CPU instructions in performance-critical operations:  AVX2 FMA\n",
      "To enable them in other operations, rebuild TensorFlow with the appropriate compiler flags.\n",
      "2022-02-23 10:33:52.253367: I tensorflow/compiler/mlir/mlir_graph_optimization_pass.cc:185] None of the MLIR Optimization Passes are enabled (registered 2)\n",
      "Applying transformation 'Unwrapped_Positions' to 'Na': 100%|█| 1/1 [00"
     ]
    },
    {
     "name": "stdout",
     "output_type": "stream",
     "text": [
      "2022-02-23 10:33:52,580 - WARNING: No GPUs detected, continuing without GPU support\n"
     ]
    },
    {
     "name": "stderr",
     "output_type": "stream",
     "text": [
      "\n",
      "Applying transformation 'Unwrapped_Positions' to 'Cl': 100%|█| 1/1 [00"
     ]
    },
    {
     "name": "stdout",
     "output_type": "stream",
     "text": [
      "2022-02-23 10:33:53,147 - WARNING: No GPUs detected, continuing without GPU support\n"
     ]
    },
    {
     "name": "stderr",
     "output_type": "stream",
     "text": [
      "\n",
      "Na: 100%|███████████████████████████████| 1/1 [00:00<00:00,  1.42it/s]"
     ]
    },
    {
     "name": "stdout",
     "output_type": "stream",
     "text": [
      "2022-02-23 10:33:53,975 - WARNING: No GPUs detected, continuing without GPU support\n"
     ]
    },
    {
     "name": "stderr",
     "output_type": "stream",
     "text": [
      "\n",
      "Cl: 100%|███████████████████████████████| 1/1 [00:00<00:00,  1.44it/s]\n"
     ]
    },
    {
     "data": {
      "text/html": [
       "\n",
       "    <div class=\"bk-root\">\n",
       "        <a href=\"https://bokeh.org\" target=\"_blank\" class=\"bk-logo bk-logo-small bk-logo-notebook\"></a>\n",
       "        <span id=\"1002\">Loading BokehJS ...</span>\n",
       "    </div>"
      ]
     },
     "metadata": {},
     "output_type": "display_data"
    },
    {
     "data": {
      "application/javascript": [
       "\n",
       "(function(root) {\n",
       "  function now() {\n",
       "    return new Date();\n",
       "  }\n",
       "\n",
       "  var force = true;\n",
       "\n",
       "  if (typeof root._bokeh_onload_callbacks === \"undefined\" || force === true) {\n",
       "    root._bokeh_onload_callbacks = [];\n",
       "    root._bokeh_is_loading = undefined;\n",
       "  }\n",
       "\n",
       "  var JS_MIME_TYPE = 'application/javascript';\n",
       "  var HTML_MIME_TYPE = 'text/html';\n",
       "  var EXEC_MIME_TYPE = 'application/vnd.bokehjs_exec.v0+json';\n",
       "  var CLASS_NAME = 'output_bokeh rendered_html';\n",
       "\n",
       "  /**\n",
       "   * Render data to the DOM node\n",
       "   */\n",
       "  function render(props, node) {\n",
       "    var script = document.createElement(\"script\");\n",
       "    node.appendChild(script);\n",
       "  }\n",
       "\n",
       "  /**\n",
       "   * Handle when an output is cleared or removed\n",
       "   */\n",
       "  function handleClearOutput(event, handle) {\n",
       "    var cell = handle.cell;\n",
       "\n",
       "    var id = cell.output_area._bokeh_element_id;\n",
       "    var server_id = cell.output_area._bokeh_server_id;\n",
       "    // Clean up Bokeh references\n",
       "    if (id != null && id in Bokeh.index) {\n",
       "      Bokeh.index[id].model.document.clear();\n",
       "      delete Bokeh.index[id];\n",
       "    }\n",
       "\n",
       "    if (server_id !== undefined) {\n",
       "      // Clean up Bokeh references\n",
       "      var cmd = \"from bokeh.io.state import curstate; print(curstate().uuid_to_server['\" + server_id + \"'].get_sessions()[0].document.roots[0]._id)\";\n",
       "      cell.notebook.kernel.execute(cmd, {\n",
       "        iopub: {\n",
       "          output: function(msg) {\n",
       "            var id = msg.content.text.trim();\n",
       "            if (id in Bokeh.index) {\n",
       "              Bokeh.index[id].model.document.clear();\n",
       "              delete Bokeh.index[id];\n",
       "            }\n",
       "          }\n",
       "        }\n",
       "      });\n",
       "      // Destroy server and session\n",
       "      var cmd = \"import bokeh.io.notebook as ion; ion.destroy_server('\" + server_id + \"')\";\n",
       "      cell.notebook.kernel.execute(cmd);\n",
       "    }\n",
       "  }\n",
       "\n",
       "  /**\n",
       "   * Handle when a new output is added\n",
       "   */\n",
       "  function handleAddOutput(event, handle) {\n",
       "    var output_area = handle.output_area;\n",
       "    var output = handle.output;\n",
       "\n",
       "    // limit handleAddOutput to display_data with EXEC_MIME_TYPE content only\n",
       "    if ((output.output_type != \"display_data\") || (!Object.prototype.hasOwnProperty.call(output.data, EXEC_MIME_TYPE))) {\n",
       "      return\n",
       "    }\n",
       "\n",
       "    var toinsert = output_area.element.find(\".\" + CLASS_NAME.split(' ')[0]);\n",
       "\n",
       "    if (output.metadata[EXEC_MIME_TYPE][\"id\"] !== undefined) {\n",
       "      toinsert[toinsert.length - 1].firstChild.textContent = output.data[JS_MIME_TYPE];\n",
       "      // store reference to embed id on output_area\n",
       "      output_area._bokeh_element_id = output.metadata[EXEC_MIME_TYPE][\"id\"];\n",
       "    }\n",
       "    if (output.metadata[EXEC_MIME_TYPE][\"server_id\"] !== undefined) {\n",
       "      var bk_div = document.createElement(\"div\");\n",
       "      bk_div.innerHTML = output.data[HTML_MIME_TYPE];\n",
       "      var script_attrs = bk_div.children[0].attributes;\n",
       "      for (var i = 0; i < script_attrs.length; i++) {\n",
       "        toinsert[toinsert.length - 1].firstChild.setAttribute(script_attrs[i].name, script_attrs[i].value);\n",
       "        toinsert[toinsert.length - 1].firstChild.textContent = bk_div.children[0].textContent\n",
       "      }\n",
       "      // store reference to server id on output_area\n",
       "      output_area._bokeh_server_id = output.metadata[EXEC_MIME_TYPE][\"server_id\"];\n",
       "    }\n",
       "  }\n",
       "\n",
       "  function register_renderer(events, OutputArea) {\n",
       "\n",
       "    function append_mime(data, metadata, element) {\n",
       "      // create a DOM node to render to\n",
       "      var toinsert = this.create_output_subarea(\n",
       "        metadata,\n",
       "        CLASS_NAME,\n",
       "        EXEC_MIME_TYPE\n",
       "      );\n",
       "      this.keyboard_manager.register_events(toinsert);\n",
       "      // Render to node\n",
       "      var props = {data: data, metadata: metadata[EXEC_MIME_TYPE]};\n",
       "      render(props, toinsert[toinsert.length - 1]);\n",
       "      element.append(toinsert);\n",
       "      return toinsert\n",
       "    }\n",
       "\n",
       "    /* Handle when an output is cleared or removed */\n",
       "    events.on('clear_output.CodeCell', handleClearOutput);\n",
       "    events.on('delete.Cell', handleClearOutput);\n",
       "\n",
       "    /* Handle when a new output is added */\n",
       "    events.on('output_added.OutputArea', handleAddOutput);\n",
       "\n",
       "    /**\n",
       "     * Register the mime type and append_mime function with output_area\n",
       "     */\n",
       "    OutputArea.prototype.register_mime_type(EXEC_MIME_TYPE, append_mime, {\n",
       "      /* Is output safe? */\n",
       "      safe: true,\n",
       "      /* Index of renderer in `output_area.display_order` */\n",
       "      index: 0\n",
       "    });\n",
       "  }\n",
       "\n",
       "  // register the mime type if in Jupyter Notebook environment and previously unregistered\n",
       "  if (root.Jupyter !== undefined) {\n",
       "    var events = require('base/js/events');\n",
       "    var OutputArea = require('notebook/js/outputarea').OutputArea;\n",
       "\n",
       "    if (OutputArea.prototype.mime_types().indexOf(EXEC_MIME_TYPE) == -1) {\n",
       "      register_renderer(events, OutputArea);\n",
       "    }\n",
       "  }\n",
       "\n",
       "  \n",
       "  if (typeof (root._bokeh_timeout) === \"undefined\" || force === true) {\n",
       "    root._bokeh_timeout = Date.now() + 5000;\n",
       "    root._bokeh_failed_load = false;\n",
       "  }\n",
       "\n",
       "  var NB_LOAD_WARNING = {'data': {'text/html':\n",
       "     \"<div style='background-color: #fdd'>\\n\"+\n",
       "     \"<p>\\n\"+\n",
       "     \"BokehJS does not appear to have successfully loaded. If loading BokehJS from CDN, this \\n\"+\n",
       "     \"may be due to a slow or bad network connection. Possible fixes:\\n\"+\n",
       "     \"</p>\\n\"+\n",
       "     \"<ul>\\n\"+\n",
       "     \"<li>re-rerun `output_notebook()` to attempt to load from CDN again, or</li>\\n\"+\n",
       "     \"<li>use INLINE resources instead, as so:</li>\\n\"+\n",
       "     \"</ul>\\n\"+\n",
       "     \"<code>\\n\"+\n",
       "     \"from bokeh.resources import INLINE\\n\"+\n",
       "     \"output_notebook(resources=INLINE)\\n\"+\n",
       "     \"</code>\\n\"+\n",
       "     \"</div>\"}};\n",
       "\n",
       "  function display_loaded() {\n",
       "    var el = document.getElementById(\"1002\");\n",
       "    if (el != null) {\n",
       "      el.textContent = \"BokehJS is loading...\";\n",
       "    }\n",
       "    if (root.Bokeh !== undefined) {\n",
       "      if (el != null) {\n",
       "        el.textContent = \"BokehJS \" + root.Bokeh.version + \" successfully loaded.\";\n",
       "      }\n",
       "    } else if (Date.now() < root._bokeh_timeout) {\n",
       "      setTimeout(display_loaded, 100)\n",
       "    }\n",
       "  }\n",
       "\n",
       "\n",
       "  function run_callbacks() {\n",
       "    try {\n",
       "      root._bokeh_onload_callbacks.forEach(function(callback) {\n",
       "        if (callback != null)\n",
       "          callback();\n",
       "      });\n",
       "    } finally {\n",
       "      delete root._bokeh_onload_callbacks\n",
       "    }\n",
       "    console.debug(\"Bokeh: all callbacks have finished\");\n",
       "  }\n",
       "\n",
       "  function load_libs(css_urls, js_urls, callback) {\n",
       "    if (css_urls == null) css_urls = [];\n",
       "    if (js_urls == null) js_urls = [];\n",
       "\n",
       "    root._bokeh_onload_callbacks.push(callback);\n",
       "    if (root._bokeh_is_loading > 0) {\n",
       "      console.debug(\"Bokeh: BokehJS is being loaded, scheduling callback at\", now());\n",
       "      return null;\n",
       "    }\n",
       "    if (js_urls == null || js_urls.length === 0) {\n",
       "      run_callbacks();\n",
       "      return null;\n",
       "    }\n",
       "    console.debug(\"Bokeh: BokehJS not loaded, scheduling load and callback at\", now());\n",
       "    root._bokeh_is_loading = css_urls.length + js_urls.length;\n",
       "\n",
       "    function on_load() {\n",
       "      root._bokeh_is_loading--;\n",
       "      if (root._bokeh_is_loading === 0) {\n",
       "        console.debug(\"Bokeh: all BokehJS libraries/stylesheets loaded\");\n",
       "        run_callbacks()\n",
       "      }\n",
       "    }\n",
       "\n",
       "    function on_error(url) {\n",
       "      console.error(\"failed to load \" + url);\n",
       "    }\n",
       "\n",
       "    for (let i = 0; i < css_urls.length; i++) {\n",
       "      const url = css_urls[i];\n",
       "      const element = document.createElement(\"link\");\n",
       "      element.onload = on_load;\n",
       "      element.onerror = on_error.bind(null, url);\n",
       "      element.rel = \"stylesheet\";\n",
       "      element.type = \"text/css\";\n",
       "      element.href = url;\n",
       "      console.debug(\"Bokeh: injecting link tag for BokehJS stylesheet: \", url);\n",
       "      document.body.appendChild(element);\n",
       "    }\n",
       "\n",
       "    const hashes = {\"https://cdn.bokeh.org/bokeh/release/bokeh-2.3.3.min.js\": \"dM3QQsP+wXdHg42wTqW85BjZQdLNNIXqlPw/BgKoExPmTG7ZLML4EGqLMfqHT6ON\", \"https://cdn.bokeh.org/bokeh/release/bokeh-tables-2.3.3.min.js\": \"8x57I4YuIfu8XyZfFo0XVr2WAT8EK4rh/uDe3wF7YuW2FNUSNEpJbsPaB1nJ2fz2\", \"https://cdn.bokeh.org/bokeh/release/bokeh-widgets-2.3.3.min.js\": \"3QTqdz9LyAm2i0sG5XTePsHec3UHWwVsrOL68SYRoAXsafvfAyqtQ+h440+qIBhS\"};\n",
       "\n",
       "    for (let i = 0; i < js_urls.length; i++) {\n",
       "      const url = js_urls[i];\n",
       "      const element = document.createElement('script');\n",
       "      element.onload = on_load;\n",
       "      element.onerror = on_error.bind(null, url);\n",
       "      element.async = false;\n",
       "      element.src = url;\n",
       "      if (url in hashes) {\n",
       "        element.crossOrigin = \"anonymous\";\n",
       "        element.integrity = \"sha384-\" + hashes[url];\n",
       "      }\n",
       "      console.debug(\"Bokeh: injecting script tag for BokehJS library: \", url);\n",
       "      document.head.appendChild(element);\n",
       "    }\n",
       "  };\n",
       "\n",
       "  function inject_raw_css(css) {\n",
       "    const element = document.createElement(\"style\");\n",
       "    element.appendChild(document.createTextNode(css));\n",
       "    document.body.appendChild(element);\n",
       "  }\n",
       "\n",
       "  \n",
       "  var js_urls = [\"https://cdn.bokeh.org/bokeh/release/bokeh-2.3.3.min.js\", \"https://cdn.bokeh.org/bokeh/release/bokeh-widgets-2.3.3.min.js\", \"https://cdn.bokeh.org/bokeh/release/bokeh-tables-2.3.3.min.js\"];\n",
       "  var css_urls = [];\n",
       "  \n",
       "\n",
       "  var inline_js = [\n",
       "    function(Bokeh) {\n",
       "      Bokeh.set_log_level(\"info\");\n",
       "    },\n",
       "    function(Bokeh) {\n",
       "    \n",
       "    \n",
       "    }\n",
       "  ];\n",
       "\n",
       "  function run_inline_js() {\n",
       "    \n",
       "    if (root.Bokeh !== undefined || force === true) {\n",
       "      \n",
       "    for (var i = 0; i < inline_js.length; i++) {\n",
       "      inline_js[i].call(root, root.Bokeh);\n",
       "    }\n",
       "    if (force === true) {\n",
       "        display_loaded();\n",
       "      }} else if (Date.now() < root._bokeh_timeout) {\n",
       "      setTimeout(run_inline_js, 100);\n",
       "    } else if (!root._bokeh_failed_load) {\n",
       "      console.log(\"Bokeh: BokehJS failed to load within specified timeout.\");\n",
       "      root._bokeh_failed_load = true;\n",
       "    } else if (force !== true) {\n",
       "      var cell = $(document.getElementById(\"1002\")).parents('.cell').data().cell;\n",
       "      cell.output_area.append_execute_result(NB_LOAD_WARNING)\n",
       "    }\n",
       "\n",
       "  }\n",
       "\n",
       "  if (root._bokeh_is_loading === 0) {\n",
       "    console.debug(\"Bokeh: BokehJS loaded, going straight to plotting\");\n",
       "    run_inline_js();\n",
       "  } else {\n",
       "    load_libs(css_urls, js_urls, function() {\n",
       "      console.debug(\"Bokeh: BokehJS plotting callback run at\", now());\n",
       "      run_inline_js();\n",
       "    });\n",
       "  }\n",
       "}(window));"
      ],
      "application/vnd.bokehjs_load.v0+json": "\n(function(root) {\n  function now() {\n    return new Date();\n  }\n\n  var force = true;\n\n  if (typeof root._bokeh_onload_callbacks === \"undefined\" || force === true) {\n    root._bokeh_onload_callbacks = [];\n    root._bokeh_is_loading = undefined;\n  }\n\n  \n\n  \n  if (typeof (root._bokeh_timeout) === \"undefined\" || force === true) {\n    root._bokeh_timeout = Date.now() + 5000;\n    root._bokeh_failed_load = false;\n  }\n\n  var NB_LOAD_WARNING = {'data': {'text/html':\n     \"<div style='background-color: #fdd'>\\n\"+\n     \"<p>\\n\"+\n     \"BokehJS does not appear to have successfully loaded. If loading BokehJS from CDN, this \\n\"+\n     \"may be due to a slow or bad network connection. Possible fixes:\\n\"+\n     \"</p>\\n\"+\n     \"<ul>\\n\"+\n     \"<li>re-rerun `output_notebook()` to attempt to load from CDN again, or</li>\\n\"+\n     \"<li>use INLINE resources instead, as so:</li>\\n\"+\n     \"</ul>\\n\"+\n     \"<code>\\n\"+\n     \"from bokeh.resources import INLINE\\n\"+\n     \"output_notebook(resources=INLINE)\\n\"+\n     \"</code>\\n\"+\n     \"</div>\"}};\n\n  function display_loaded() {\n    var el = document.getElementById(\"1002\");\n    if (el != null) {\n      el.textContent = \"BokehJS is loading...\";\n    }\n    if (root.Bokeh !== undefined) {\n      if (el != null) {\n        el.textContent = \"BokehJS \" + root.Bokeh.version + \" successfully loaded.\";\n      }\n    } else if (Date.now() < root._bokeh_timeout) {\n      setTimeout(display_loaded, 100)\n    }\n  }\n\n\n  function run_callbacks() {\n    try {\n      root._bokeh_onload_callbacks.forEach(function(callback) {\n        if (callback != null)\n          callback();\n      });\n    } finally {\n      delete root._bokeh_onload_callbacks\n    }\n    console.debug(\"Bokeh: all callbacks have finished\");\n  }\n\n  function load_libs(css_urls, js_urls, callback) {\n    if (css_urls == null) css_urls = [];\n    if (js_urls == null) js_urls = [];\n\n    root._bokeh_onload_callbacks.push(callback);\n    if (root._bokeh_is_loading > 0) {\n      console.debug(\"Bokeh: BokehJS is being loaded, scheduling callback at\", now());\n      return null;\n    }\n    if (js_urls == null || js_urls.length === 0) {\n      run_callbacks();\n      return null;\n    }\n    console.debug(\"Bokeh: BokehJS not loaded, scheduling load and callback at\", now());\n    root._bokeh_is_loading = css_urls.length + js_urls.length;\n\n    function on_load() {\n      root._bokeh_is_loading--;\n      if (root._bokeh_is_loading === 0) {\n        console.debug(\"Bokeh: all BokehJS libraries/stylesheets loaded\");\n        run_callbacks()\n      }\n    }\n\n    function on_error(url) {\n      console.error(\"failed to load \" + url);\n    }\n\n    for (let i = 0; i < css_urls.length; i++) {\n      const url = css_urls[i];\n      const element = document.createElement(\"link\");\n      element.onload = on_load;\n      element.onerror = on_error.bind(null, url);\n      element.rel = \"stylesheet\";\n      element.type = \"text/css\";\n      element.href = url;\n      console.debug(\"Bokeh: injecting link tag for BokehJS stylesheet: \", url);\n      document.body.appendChild(element);\n    }\n\n    const hashes = {\"https://cdn.bokeh.org/bokeh/release/bokeh-2.3.3.min.js\": \"dM3QQsP+wXdHg42wTqW85BjZQdLNNIXqlPw/BgKoExPmTG7ZLML4EGqLMfqHT6ON\", \"https://cdn.bokeh.org/bokeh/release/bokeh-tables-2.3.3.min.js\": \"8x57I4YuIfu8XyZfFo0XVr2WAT8EK4rh/uDe3wF7YuW2FNUSNEpJbsPaB1nJ2fz2\", \"https://cdn.bokeh.org/bokeh/release/bokeh-widgets-2.3.3.min.js\": \"3QTqdz9LyAm2i0sG5XTePsHec3UHWwVsrOL68SYRoAXsafvfAyqtQ+h440+qIBhS\"};\n\n    for (let i = 0; i < js_urls.length; i++) {\n      const url = js_urls[i];\n      const element = document.createElement('script');\n      element.onload = on_load;\n      element.onerror = on_error.bind(null, url);\n      element.async = false;\n      element.src = url;\n      if (url in hashes) {\n        element.crossOrigin = \"anonymous\";\n        element.integrity = \"sha384-\" + hashes[url];\n      }\n      console.debug(\"Bokeh: injecting script tag for BokehJS library: \", url);\n      document.head.appendChild(element);\n    }\n  };\n\n  function inject_raw_css(css) {\n    const element = document.createElement(\"style\");\n    element.appendChild(document.createTextNode(css));\n    document.body.appendChild(element);\n  }\n\n  \n  var js_urls = [\"https://cdn.bokeh.org/bokeh/release/bokeh-2.3.3.min.js\", \"https://cdn.bokeh.org/bokeh/release/bokeh-widgets-2.3.3.min.js\", \"https://cdn.bokeh.org/bokeh/release/bokeh-tables-2.3.3.min.js\"];\n  var css_urls = [];\n  \n\n  var inline_js = [\n    function(Bokeh) {\n      Bokeh.set_log_level(\"info\");\n    },\n    function(Bokeh) {\n    \n    \n    }\n  ];\n\n  function run_inline_js() {\n    \n    if (root.Bokeh !== undefined || force === true) {\n      \n    for (var i = 0; i < inline_js.length; i++) {\n      inline_js[i].call(root, root.Bokeh);\n    }\n    if (force === true) {\n        display_loaded();\n      }} else if (Date.now() < root._bokeh_timeout) {\n      setTimeout(run_inline_js, 100);\n    } else if (!root._bokeh_failed_load) {\n      console.log(\"Bokeh: BokehJS failed to load within specified timeout.\");\n      root._bokeh_failed_load = true;\n    } else if (force !== true) {\n      var cell = $(document.getElementById(\"1002\")).parents('.cell').data().cell;\n      cell.output_area.append_execute_result(NB_LOAD_WARNING)\n    }\n\n  }\n\n  if (root._bokeh_is_loading === 0) {\n    console.debug(\"Bokeh: BokehJS loaded, going straight to plotting\");\n    run_inline_js();\n  } else {\n    load_libs(css_urls, js_urls, function() {\n      console.debug(\"Bokeh: BokehJS plotting callback run at\", now());\n      run_inline_js();\n    });\n  }\n}(window));"
     },
     "metadata": {},
     "output_type": "display_data"
    },
    {
     "data": {
      "text/html": [
       "\n",
       "\n",
       "\n",
       "\n",
       "\n",
       "\n",
       "  <div class=\"bk-root\" id=\"ff8cf85d-c62e-4849-a4ec-13e5eed66562\" data-root-id=\"1132\"></div>\n"
      ]
     },
     "metadata": {},
     "output_type": "display_data"
    },
    {
     "data": {
      "application/javascript": [
       "(function(root) {\n",
       "  function embed_document(root) {\n",
       "    \n",
       "  var docs_json = {\"c71a5e15-711b-4976-af35-dd97e96a43cc\":{\"defs\":[],\"roots\":{\"references\":[{\"attributes\":{\"children\":[{\"id\":\"1131\"},{\"id\":\"1129\"}],\"sizing_mode\":\"scale_both\"},\"id\":\"1132\",\"type\":\"Column\"},{\"attributes\":{\"line_color\":\"#1f77b4\",\"x\":{\"field\":\"x\"},\"y\":{\"field\":\"y\"}},\"id\":\"1086\",\"type\":\"Line\"},{\"attributes\":{\"axis_label\":\"$$\\\\text{MSD} / $m^{2}$$\",\"formatter\":{\"id\":\"1092\"},\"major_label_policy\":{\"id\":\"1094\"},\"ticker\":{\"id\":\"1068\"}},\"id\":\"1067\",\"type\":\"LinearAxis\"},{\"attributes\":{},\"id\":\"1059\",\"type\":\"LinearScale\"},{\"attributes\":{\"label\":{\"value\":\"Cl:  2.068E-08 +-  4.718E-10\"},\"renderers\":[{\"id\":\"1088\"}]},\"id\":\"1102\",\"type\":\"LegendItem\"},{\"attributes\":{\"overlay\":{\"id\":\"1026\"}},\"id\":\"1022\",\"type\":\"BoxZoomTool\"},{\"attributes\":{\"active_multi\":null,\"tools\":[{\"id\":\"1020\"},{\"id\":\"1021\"},{\"id\":\"1022\"},{\"id\":\"1023\"},{\"id\":\"1024\"},{\"id\":\"1025\"},{\"id\":\"1052\"}]},\"id\":\"1027\",\"type\":\"Toolbar\"},{\"attributes\":{\"items\":[{\"id\":\"1102\"}]},\"id\":\"1101\",\"type\":\"Legend\"},{\"attributes\":{\"below\":[{\"id\":\"1012\"}],\"center\":[{\"id\":\"1015\"},{\"id\":\"1019\"},{\"id\":\"1050\"}],\"left\":[{\"id\":\"1016\"}],\"renderers\":[{\"id\":\"1037\"}],\"sizing_mode\":\"scale_both\",\"title\":{\"id\":\"1040\"},\"toolbar\":{\"id\":\"1027\"},\"toolbar_location\":null,\"x_range\":{\"id\":\"1004\"},\"x_scale\":{\"id\":\"1008\"},\"y_range\":{\"id\":\"1006\"},\"y_scale\":{\"id\":\"1010\"}},\"id\":\"1003\",\"subtype\":\"Figure\",\"type\":\"Plot\"},{\"attributes\":{},\"id\":\"1013\",\"type\":\"BasicTicker\"},{\"attributes\":{},\"id\":\"1071\",\"type\":\"PanTool\"},{\"attributes\":{},\"id\":\"1025\",\"type\":\"HelpTool\"},{\"attributes\":{\"axis\":{\"id\":\"1012\"},\"ticker\":null},\"id\":\"1015\",\"type\":\"Grid\"},{\"attributes\":{\"axis\":{\"id\":\"1067\"},\"dimension\":1,\"ticker\":null},\"id\":\"1070\",\"type\":\"Grid\"},{\"attributes\":{\"callback\":null},\"id\":\"1052\",\"type\":\"HoverTool\"},{\"attributes\":{},\"id\":\"1017\",\"type\":\"BasicTicker\"},{\"attributes\":{\"items\":[{\"id\":\"1051\"}]},\"id\":\"1050\",\"type\":\"Legend\"},{\"attributes\":{\"line_alpha\":0.1,\"line_color\":\"#1f77b4\",\"x\":{\"field\":\"x\"},\"y\":{\"field\":\"y\"}},\"id\":\"1036\",\"type\":\"Line\"},{\"attributes\":{\"source\":{\"id\":\"1085\"}},\"id\":\"1089\",\"type\":\"CDSView\"},{\"attributes\":{\"axis_label\":\"$$\\\\text{MSD} / $m^{2}$$\",\"formatter\":{\"id\":\"1041\"},\"major_label_policy\":{\"id\":\"1043\"},\"ticker\":{\"id\":\"1017\"}},\"id\":\"1016\",\"type\":\"LinearAxis\"},{\"attributes\":{},\"id\":\"1024\",\"type\":\"ResetTool\"},{\"attributes\":{},\"id\":\"1041\",\"type\":\"BasicTickFormatter\"},{\"attributes\":{\"data\":{\"x\":{\"__ndarray__\":\"AAAAAAAAAAAWVueerwPiPBZW556vA/I8IAFbbocF+zwWVueerwMCPZsroYabhAY9IAFbbocFCz2m1hRWc4YPPRZW556vAxI92UDEkiVEFD2bK6GGm4QWPV0WfnoRxRg9IAFbbocFGz3k6zdi/UUdPabWFFZzhh89tOD4pHTjID0WVueerwMiPXfL1ZjqIyM92UDEkiVEJD05trKMYGQlPZsroYabhCY9/aCPgNakJz1dFn56EcUoPb+LbHRM5Sk9IAFbbocFKz2CdklowiUsPeTrN2L9RS09RGEmXDhmLj2m1hRWc4YvPQSmAShXUzA9tOD4pHTjMD1lG/AhknMxPRZW556vAzI9xpDeG82TMj13y9WY6iMzPSgGzRUItDM92UDEkiVEND2Je7sPQ9Q0PTm2soxgZDU96vCpCX70NT2bK6GGm4Q2PUxmmAO5FDc9/aCPgNakNz2t24b98zQ4PV0WfnoRxTg9DlF19y5VOT2/i2x0TOU5PXDGY/FpdTo9IAFbbocFOz3RO1LrpJU7PYJ2SWjCJTw9M7FA5d+1PD3k6zdi/UU9PZMmL98a1j09RGEmXDhmPj31mx3ZVfY+PabWFFZzhj89qwiGaUgLQD0EpgEoV1NAPVxDfeZlm0A9tOD4pHTjQD0MfnRjgytBPWUb8CGSc0E9vbhr4KC7QT0WVueerwNCPW7zYl2+S0I9xpDeG82TQj0fLlra29tCPXfL1ZjqI0M90GhRV/lrQz0oBs0VCLRDPYCjSNQW/EM92UDEkiVERD0w3j9RNIxEPYl7uw9D1EQ94Rg3zlEcRT05trKMYGRFPZJTLktvrEU96vCpCX70RT1DjiXIjDxGPZsroYabhEY988gcRarMRj1MZpgDuRRHPaQDFMLHXEc9/aCPgNakRz1VPgs/5exHPa3bhv3zNEg9BnkCvAJ9SD1dFn56EcVIPbaz+TggDUk9DlF19y5VST1m7vC1PZ1JPb+LbHRM5Uk9FynoMlstSj1wxmPxaXVKPchj3694vUo9IAFbbocFSz15ntYslk1LPdE7UuuklUs9KtnNqbPdSz0=\",\"dtype\":\"float64\",\"order\":\"little\",\"shape\":[100]},\"y\":{\"__ndarray__\":\"AAAAAAAAAABLyq/kZh00O5tCFp2mFFQ7F3MyfPGGZjvKVE4OBvJzO9yzZakFAn87+EQYr3AwhjviRQevRfyNOyGxjgT3a5M7cnb42r5amDuoJoRg9cKdO7vJrlhTzqE7AvwIV8jvpDtkcJMlokGoO7zG01mgv6s7efoIpoJlrzuCKsu+hpexO/gHx4YHjLM7ga9aGzKOtTsH/4kA/5u3OzfQSph0s7k7lIsZMKzSuzvWxQtG2Pe9O70PGuukEMA79uPlubkmwTtQtLbedD3CO5ckymwxVMM7CaZFjltqxDsvTRvMcH/FO9Q/2xUAk8Y7oOM0kKikxzvseRNUGLTIO+DfNhYLwck78C7m20jLyjs4aSq2pNLLO1HRrMf71sw7CfExDjTYzTtSwoamO9bOO3MIWwUI0c87rEp5n0pk0Dsj+Nu3ct7QO+cIyLn/VtE7XVVs7vbN0TuHwcj9XkPSO7U592s/t9I7uq3rZaAp0zvnnbmGiprTO8wql70GCtQ7zrELLx541DvhSuMs2uTUOxUDGyBEUNU7WYOCXGW61Tux1RJqRyPWO7zsH/LzitY7srh43HTx1jtvpUU/1FbXO3+ZdTgcu9c7D/WOwFYe2DtGOovLjYDYOyp9RS7L4dg7+6ktrBhC2Tuw1ZS0f6HZO771ylkJANo7czLgYL5d2jsjJYdVp7raO0eRso/MFts7AwgHWzZy2ztpqH3q7MzbO9ZpcU/4Jtw7uiSjYmCA3DuD726oLNncO7W5rmhkMd07wPJ0jA6J3Ts10Dx9MeDdO7+rIA3TNt47/hmxWPiM3jvLeR3RpeLeOw92hwXfN987X233wqaM3ztF7Iob/+DfO3La4LR0GuA7jG51ODNE4DvXO5Yvu23gO5sZhYcMl+A7j7DDACfA4DuhhC07CungO4139c21EeE7xziQQCk64TvG5ZH6Y2LhO95yCkxliuE7/FREWiyy4TsgipgXuNnhO3Miol4HAeI7BD14/Bgo4jva5inT607iOxjQq9Z+deI7M82lNtGb4jvXsftv4sHiO9jIlUey5+I7AGX13EAN4zs=\",\"dtype\":\"float64\",\"order\":\"little\",\"shape\":[100]}},\"selected\":{\"id\":\"1048\"},\"selection_policy\":{\"id\":\"1047\"}},\"id\":\"1034\",\"type\":\"ColumnDataSource\"},{\"attributes\":{\"axis\":{\"id\":\"1063\"},\"ticker\":null},\"id\":\"1066\",\"type\":\"Grid\"},{\"attributes\":{\"line_color\":\"#1f77b4\",\"x\":{\"field\":\"x\"},\"y\":{\"field\":\"y\"}},\"id\":\"1035\",\"type\":\"Line\"},{\"attributes\":{},\"id\":\"1064\",\"type\":\"BasicTicker\"},{\"attributes\":{\"overlay\":{\"id\":\"1077\"}},\"id\":\"1073\",\"type\":\"BoxZoomTool\"},{\"attributes\":{},\"id\":\"1055\",\"type\":\"DataRange1d\"},{\"attributes\":{\"callback\":null},\"id\":\"1103\",\"type\":\"HoverTool\"},{\"attributes\":{\"axis\":{\"id\":\"1016\"},\"dimension\":1,\"ticker\":null},\"id\":\"1019\",\"type\":\"Grid\"},{\"attributes\":{\"axis_label\":\"$$\\\\text{Time} / s$$\",\"formatter\":{\"id\":\"1095\"},\"major_label_policy\":{\"id\":\"1097\"},\"ticker\":{\"id\":\"1064\"}},\"id\":\"1063\",\"type\":\"LinearAxis\"},{\"attributes\":{},\"id\":\"1044\",\"type\":\"BasicTickFormatter\"},{\"attributes\":{},\"id\":\"1048\",\"type\":\"Selection\"},{\"attributes\":{},\"id\":\"1092\",\"type\":\"BasicTickFormatter\"},{\"attributes\":{\"children\":[[{\"id\":\"1003\"},0,0],[{\"id\":\"1054\"},0,1]]},\"id\":\"1129\",\"type\":\"GridBox\"},{\"attributes\":{\"toolbars\":[{\"id\":\"1027\"},{\"id\":\"1078\"}],\"tools\":[{\"id\":\"1020\"},{\"id\":\"1021\"},{\"id\":\"1022\"},{\"id\":\"1023\"},{\"id\":\"1024\"},{\"id\":\"1025\"},{\"id\":\"1052\"},{\"id\":\"1071\"},{\"id\":\"1072\"},{\"id\":\"1073\"},{\"id\":\"1074\"},{\"id\":\"1075\"},{\"id\":\"1076\"},{\"id\":\"1103\"}]},\"id\":\"1130\",\"type\":\"ProxyToolbar\"},{\"attributes\":{},\"id\":\"1023\",\"type\":\"SaveTool\"},{\"attributes\":{},\"id\":\"1091\",\"type\":\"Title\"},{\"attributes\":{},\"id\":\"1020\",\"type\":\"PanTool\"},{\"attributes\":{},\"id\":\"1046\",\"type\":\"AllLabels\"},{\"attributes\":{\"below\":[{\"id\":\"1063\"}],\"center\":[{\"id\":\"1066\"},{\"id\":\"1070\"},{\"id\":\"1101\"}],\"left\":[{\"id\":\"1067\"}],\"renderers\":[{\"id\":\"1088\"}],\"sizing_mode\":\"scale_both\",\"title\":{\"id\":\"1091\"},\"toolbar\":{\"id\":\"1078\"},\"toolbar_location\":null,\"x_range\":{\"id\":\"1055\"},\"x_scale\":{\"id\":\"1059\"},\"y_range\":{\"id\":\"1057\"},\"y_scale\":{\"id\":\"1061\"}},\"id\":\"1054\",\"subtype\":\"Figure\",\"type\":\"Plot\"},{\"attributes\":{},\"id\":\"1094\",\"type\":\"AllLabels\"},{\"attributes\":{\"line_alpha\":0.1,\"line_color\":\"#1f77b4\",\"x\":{\"field\":\"x\"},\"y\":{\"field\":\"y\"}},\"id\":\"1087\",\"type\":\"Line\"},{\"attributes\":{\"data_source\":{\"id\":\"1085\"},\"glyph\":{\"id\":\"1086\"},\"hover_glyph\":null,\"muted_glyph\":null,\"nonselection_glyph\":{\"id\":\"1087\"},\"view\":{\"id\":\"1089\"}},\"id\":\"1088\",\"type\":\"GlyphRenderer\"},{\"attributes\":{},\"id\":\"1010\",\"type\":\"LinearScale\"},{\"attributes\":{},\"id\":\"1057\",\"type\":\"DataRange1d\"},{\"attributes\":{\"bottom_units\":\"screen\",\"fill_alpha\":0.5,\"fill_color\":\"lightgrey\",\"left_units\":\"screen\",\"level\":\"overlay\",\"line_alpha\":1.0,\"line_color\":\"black\",\"line_dash\":[4,4],\"line_width\":2,\"right_units\":\"screen\",\"syncable\":false,\"top_units\":\"screen\"},\"id\":\"1026\",\"type\":\"BoxAnnotation\"},{\"attributes\":{\"data_source\":{\"id\":\"1034\"},\"glyph\":{\"id\":\"1035\"},\"hover_glyph\":null,\"muted_glyph\":null,\"nonselection_glyph\":{\"id\":\"1036\"},\"view\":{\"id\":\"1038\"}},\"id\":\"1037\",\"type\":\"GlyphRenderer\"},{\"attributes\":{},\"id\":\"1043\",\"type\":\"AllLabels\"},{\"attributes\":{},\"id\":\"1099\",\"type\":\"Selection\"},{\"attributes\":{},\"id\":\"1095\",\"type\":\"BasicTickFormatter\"},{\"attributes\":{},\"id\":\"1072\",\"type\":\"WheelZoomTool\"},{\"attributes\":{},\"id\":\"1068\",\"type\":\"BasicTicker\"},{\"attributes\":{},\"id\":\"1004\",\"type\":\"DataRange1d\"},{\"attributes\":{\"source\":{\"id\":\"1034\"}},\"id\":\"1038\",\"type\":\"CDSView\"},{\"attributes\":{},\"id\":\"1098\",\"type\":\"UnionRenderers\"},{\"attributes\":{\"toolbar\":{\"id\":\"1130\"},\"toolbar_location\":\"above\"},\"id\":\"1131\",\"type\":\"ToolbarBox\"},{\"attributes\":{},\"id\":\"1061\",\"type\":\"LinearScale\"},{\"attributes\":{},\"id\":\"1076\",\"type\":\"HelpTool\"},{\"attributes\":{},\"id\":\"1040\",\"type\":\"Title\"},{\"attributes\":{},\"id\":\"1021\",\"type\":\"WheelZoomTool\"},{\"attributes\":{\"data\":{\"x\":{\"__ndarray__\":\"AAAAAAAAAAAWVueerwPiPBZW556vA/I8IAFbbocF+zwWVueerwMCPZsroYabhAY9IAFbbocFCz2m1hRWc4YPPRZW556vAxI92UDEkiVEFD2bK6GGm4QWPV0WfnoRxRg9IAFbbocFGz3k6zdi/UUdPabWFFZzhh89tOD4pHTjID0WVueerwMiPXfL1ZjqIyM92UDEkiVEJD05trKMYGQlPZsroYabhCY9/aCPgNakJz1dFn56EcUoPb+LbHRM5Sk9IAFbbocFKz2CdklowiUsPeTrN2L9RS09RGEmXDhmLj2m1hRWc4YvPQSmAShXUzA9tOD4pHTjMD1lG/AhknMxPRZW556vAzI9xpDeG82TMj13y9WY6iMzPSgGzRUItDM92UDEkiVEND2Je7sPQ9Q0PTm2soxgZDU96vCpCX70NT2bK6GGm4Q2PUxmmAO5FDc9/aCPgNakNz2t24b98zQ4PV0WfnoRxTg9DlF19y5VOT2/i2x0TOU5PXDGY/FpdTo9IAFbbocFOz3RO1LrpJU7PYJ2SWjCJTw9M7FA5d+1PD3k6zdi/UU9PZMmL98a1j09RGEmXDhmPj31mx3ZVfY+PabWFFZzhj89qwiGaUgLQD0EpgEoV1NAPVxDfeZlm0A9tOD4pHTjQD0MfnRjgytBPWUb8CGSc0E9vbhr4KC7QT0WVueerwNCPW7zYl2+S0I9xpDeG82TQj0fLlra29tCPXfL1ZjqI0M90GhRV/lrQz0oBs0VCLRDPYCjSNQW/EM92UDEkiVERD0w3j9RNIxEPYl7uw9D1EQ94Rg3zlEcRT05trKMYGRFPZJTLktvrEU96vCpCX70RT1DjiXIjDxGPZsroYabhEY988gcRarMRj1MZpgDuRRHPaQDFMLHXEc9/aCPgNakRz1VPgs/5exHPa3bhv3zNEg9BnkCvAJ9SD1dFn56EcVIPbaz+TggDUk9DlF19y5VST1m7vC1PZ1JPb+LbHRM5Uk9FynoMlstSj1wxmPxaXVKPchj3694vUo9IAFbbocFSz15ntYslk1LPdE7UuuklUs9KtnNqbPdSz0=\",\"dtype\":\"float64\",\"order\":\"little\",\"shape\":[100]},\"y\":{\"__ndarray__\":\"AAAAAAAAAACIsqs6hEonO5dLQalsQkc7H5HVSoAbWjsZAE396yFnO/S0Gz2A/3E7R2VZU5HJeTuw7JuYQHKBOyIsWLkLooY75EtGgl5tjDs9m1r1bGaRO7ltfZRU3JQ7T5BVXFCUmDurwJ/9LYqcO0tK4aHVXKA7y3MS6z6PojuZVLOpLNqkO/TdzgV6O6c7FvW1aAaxqTsbueBEuDisOxtyH56A0K47SGXd9y+7sDtIy/tmNRSyOwl5NoNncrM7dS2paevUtDu72mHH9Dq2Ox6RL1TGo7c7/KeUx7EOuTv9AZovGHu6O1cJhwlq6Ls7LZyUSSZWvTuywM1a2cO+O4WYM4ONGMA7+d/3NMfOwDt1jQ5FcITBO9eFCDJkOcI7N/72OoPtwjtVqBt/sqDDO+LTHJPbUsQ7FNXeWewDxTuAjayS1rPFO6FQ7C6PYsY7YEnu9g0QxzujbmbfTLzHOzv/zc5HZ8g7+kZDW/wQyTvC82yZabnJO0zjByqQYMo7K/WPOXIGyzvWgAyOE6vLO6GYukZ5Tsw7lblcnqnwzDt7ZS+yq5HNOwaSOGCHMc47VzAiW0XQzjujeIQN723PO+2O/P1GBdA7fNmwvRVT0Dt/RfwraKDQO8QMMlxC7dA7Nvah5qc50TtYYErfm4XRO4Y8ieMg0dE73bjFJjkc0jtFAjif5mbSOzv/FzYrsdI7jRTxzgj70jt5gdVXgUTTO88XA92WjdM7CMg4b0vW0zuHeRkYoR7UO0g929eZZtQ70Pixdzeu1DtY6jihe/XUO7MEC6BnPNU73X31fPyC1TtRTscIO8nVOzLZlOMjD9Y7RybDcrdU1jsa544T9pnWO94lxiTg3tY7GGSI+HUj1zvu7b72t2fXO+wspZemq9c7xufBhULv1zu49RV/jDLYO+QZqkmFddg7z1qryC242DuuqQDdhvrYOyiCFS2RPNk7D0bBP01+2TvZSUJku7/ZOyBCOrbbANo7mYXNJK5B2jt8WmWJMoLaO+PLybdowto7wsPCfVAC2zsE+Rmu6UHbO6sxDzM0gds7oUZtCTDA2zs=\",\"dtype\":\"float64\",\"order\":\"little\",\"shape\":[100]}},\"selected\":{\"id\":\"1099\"},\"selection_policy\":{\"id\":\"1098\"}},\"id\":\"1085\",\"type\":\"ColumnDataSource\"},{\"attributes\":{},\"id\":\"1097\",\"type\":\"AllLabels\"},{\"attributes\":{},\"id\":\"1008\",\"type\":\"LinearScale\"},{\"attributes\":{},\"id\":\"1047\",\"type\":\"UnionRenderers\"},{\"attributes\":{},\"id\":\"1074\",\"type\":\"SaveTool\"},{\"attributes\":{\"active_multi\":null,\"tools\":[{\"id\":\"1071\"},{\"id\":\"1072\"},{\"id\":\"1073\"},{\"id\":\"1074\"},{\"id\":\"1075\"},{\"id\":\"1076\"},{\"id\":\"1103\"}]},\"id\":\"1078\",\"type\":\"Toolbar\"},{\"attributes\":{\"bottom_units\":\"screen\",\"fill_alpha\":0.5,\"fill_color\":\"lightgrey\",\"left_units\":\"screen\",\"level\":\"overlay\",\"line_alpha\":1.0,\"line_color\":\"black\",\"line_dash\":[4,4],\"line_width\":2,\"right_units\":\"screen\",\"syncable\":false,\"top_units\":\"screen\"},\"id\":\"1077\",\"type\":\"BoxAnnotation\"},{\"attributes\":{\"label\":{\"value\":\"Na:  2.596E-08 +-  9.189E-10\"},\"renderers\":[{\"id\":\"1037\"}]},\"id\":\"1051\",\"type\":\"LegendItem\"},{\"attributes\":{},\"id\":\"1006\",\"type\":\"DataRange1d\"},{\"attributes\":{},\"id\":\"1075\",\"type\":\"ResetTool\"},{\"attributes\":{\"axis_label\":\"$$\\\\text{Time} / s$$\",\"formatter\":{\"id\":\"1044\"},\"major_label_policy\":{\"id\":\"1046\"},\"ticker\":{\"id\":\"1013\"}},\"id\":\"1012\",\"type\":\"LinearAxis\"}],\"root_ids\":[\"1132\"]},\"title\":\"Bokeh Application\",\"version\":\"2.3.3\"}};\n",
       "  var render_items = [{\"docid\":\"c71a5e15-711b-4976-af35-dd97e96a43cc\",\"root_ids\":[\"1132\"],\"roots\":{\"1132\":\"ff8cf85d-c62e-4849-a4ec-13e5eed66562\"}}];\n",
       "  root.Bokeh.embed.embed_items_notebook(docs_json, render_items);\n",
       "\n",
       "  }\n",
       "  if (root.Bokeh !== undefined) {\n",
       "    embed_document(root);\n",
       "  } else {\n",
       "    var attempts = 0;\n",
       "    var timer = setInterval(function(root) {\n",
       "      if (root.Bokeh !== undefined) {\n",
       "        clearInterval(timer);\n",
       "        embed_document(root);\n",
       "      } else {\n",
       "        attempts++;\n",
       "        if (attempts > 100) {\n",
       "          clearInterval(timer);\n",
       "          console.log(\"Bokeh: ERROR: Unable to run BokehJS code because BokehJS library is missing\");\n",
       "        }\n",
       "      }\n",
       "    }, 10, root)\n",
       "  }\n",
       "})(window);"
      ],
      "application/vnd.bokehjs_exec.v0+json": ""
     },
     "metadata": {
      "application/vnd.bokehjs_exec.v0+json": {
       "id": "1132"
      }
     },
     "output_type": "display_data"
    },
    {
     "data": {
      "text/plain": [
       "{'NaCl_example_data': Exp1_Einstein Self-Diffusion Coefficients_1}"
      ]
     },
     "execution_count": 6,
     "metadata": {},
     "output_type": "execute_result"
    }
   ],
   "source": [
    "project.run.EinsteinDiffusionCoefficients()"
   ]
  },
  {
   "cell_type": "code",
   "execution_count": 7,
   "id": "3bc18982",
   "metadata": {},
   "outputs": [
    {
     "name": "stdout",
     "output_type": "stream",
     "text": [
      "2022-02-23 10:33:55,579 - INFO: starting Einstein Diffusion Computation\n",
      "2022-02-23 10:33:55,580 - INFO: starting Einstein Diffusion Computation\n",
      "2022-02-23 10:33:55,683 - WARNING: No GPUs detected, continuing without GPU support\n"
     ]
    },
    {
     "name": "stderr",
     "output_type": "stream",
     "text": [
      "Na: 100%|███████████████████████████████| 1/1 [00:00<00:00,  1.49it/s]\n"
     ]
    },
    {
     "data": {
      "text/html": [
       "\n",
       "    <div class=\"bk-root\">\n",
       "        <a href=\"https://bokeh.org\" target=\"_blank\" class=\"bk-logo bk-logo-small bk-logo-notebook\"></a>\n",
       "        <span id=\"1265\">Loading BokehJS ...</span>\n",
       "    </div>"
      ]
     },
     "metadata": {},
     "output_type": "display_data"
    },
    {
     "data": {
      "application/javascript": [
       "\n",
       "(function(root) {\n",
       "  function now() {\n",
       "    return new Date();\n",
       "  }\n",
       "\n",
       "  var force = true;\n",
       "\n",
       "  if (typeof root._bokeh_onload_callbacks === \"undefined\" || force === true) {\n",
       "    root._bokeh_onload_callbacks = [];\n",
       "    root._bokeh_is_loading = undefined;\n",
       "  }\n",
       "\n",
       "  var JS_MIME_TYPE = 'application/javascript';\n",
       "  var HTML_MIME_TYPE = 'text/html';\n",
       "  var EXEC_MIME_TYPE = 'application/vnd.bokehjs_exec.v0+json';\n",
       "  var CLASS_NAME = 'output_bokeh rendered_html';\n",
       "\n",
       "  /**\n",
       "   * Render data to the DOM node\n",
       "   */\n",
       "  function render(props, node) {\n",
       "    var script = document.createElement(\"script\");\n",
       "    node.appendChild(script);\n",
       "  }\n",
       "\n",
       "  /**\n",
       "   * Handle when an output is cleared or removed\n",
       "   */\n",
       "  function handleClearOutput(event, handle) {\n",
       "    var cell = handle.cell;\n",
       "\n",
       "    var id = cell.output_area._bokeh_element_id;\n",
       "    var server_id = cell.output_area._bokeh_server_id;\n",
       "    // Clean up Bokeh references\n",
       "    if (id != null && id in Bokeh.index) {\n",
       "      Bokeh.index[id].model.document.clear();\n",
       "      delete Bokeh.index[id];\n",
       "    }\n",
       "\n",
       "    if (server_id !== undefined) {\n",
       "      // Clean up Bokeh references\n",
       "      var cmd = \"from bokeh.io.state import curstate; print(curstate().uuid_to_server['\" + server_id + \"'].get_sessions()[0].document.roots[0]._id)\";\n",
       "      cell.notebook.kernel.execute(cmd, {\n",
       "        iopub: {\n",
       "          output: function(msg) {\n",
       "            var id = msg.content.text.trim();\n",
       "            if (id in Bokeh.index) {\n",
       "              Bokeh.index[id].model.document.clear();\n",
       "              delete Bokeh.index[id];\n",
       "            }\n",
       "          }\n",
       "        }\n",
       "      });\n",
       "      // Destroy server and session\n",
       "      var cmd = \"import bokeh.io.notebook as ion; ion.destroy_server('\" + server_id + \"')\";\n",
       "      cell.notebook.kernel.execute(cmd);\n",
       "    }\n",
       "  }\n",
       "\n",
       "  /**\n",
       "   * Handle when a new output is added\n",
       "   */\n",
       "  function handleAddOutput(event, handle) {\n",
       "    var output_area = handle.output_area;\n",
       "    var output = handle.output;\n",
       "\n",
       "    // limit handleAddOutput to display_data with EXEC_MIME_TYPE content only\n",
       "    if ((output.output_type != \"display_data\") || (!Object.prototype.hasOwnProperty.call(output.data, EXEC_MIME_TYPE))) {\n",
       "      return\n",
       "    }\n",
       "\n",
       "    var toinsert = output_area.element.find(\".\" + CLASS_NAME.split(' ')[0]);\n",
       "\n",
       "    if (output.metadata[EXEC_MIME_TYPE][\"id\"] !== undefined) {\n",
       "      toinsert[toinsert.length - 1].firstChild.textContent = output.data[JS_MIME_TYPE];\n",
       "      // store reference to embed id on output_area\n",
       "      output_area._bokeh_element_id = output.metadata[EXEC_MIME_TYPE][\"id\"];\n",
       "    }\n",
       "    if (output.metadata[EXEC_MIME_TYPE][\"server_id\"] !== undefined) {\n",
       "      var bk_div = document.createElement(\"div\");\n",
       "      bk_div.innerHTML = output.data[HTML_MIME_TYPE];\n",
       "      var script_attrs = bk_div.children[0].attributes;\n",
       "      for (var i = 0; i < script_attrs.length; i++) {\n",
       "        toinsert[toinsert.length - 1].firstChild.setAttribute(script_attrs[i].name, script_attrs[i].value);\n",
       "        toinsert[toinsert.length - 1].firstChild.textContent = bk_div.children[0].textContent\n",
       "      }\n",
       "      // store reference to server id on output_area\n",
       "      output_area._bokeh_server_id = output.metadata[EXEC_MIME_TYPE][\"server_id\"];\n",
       "    }\n",
       "  }\n",
       "\n",
       "  function register_renderer(events, OutputArea) {\n",
       "\n",
       "    function append_mime(data, metadata, element) {\n",
       "      // create a DOM node to render to\n",
       "      var toinsert = this.create_output_subarea(\n",
       "        metadata,\n",
       "        CLASS_NAME,\n",
       "        EXEC_MIME_TYPE\n",
       "      );\n",
       "      this.keyboard_manager.register_events(toinsert);\n",
       "      // Render to node\n",
       "      var props = {data: data, metadata: metadata[EXEC_MIME_TYPE]};\n",
       "      render(props, toinsert[toinsert.length - 1]);\n",
       "      element.append(toinsert);\n",
       "      return toinsert\n",
       "    }\n",
       "\n",
       "    /* Handle when an output is cleared or removed */\n",
       "    events.on('clear_output.CodeCell', handleClearOutput);\n",
       "    events.on('delete.Cell', handleClearOutput);\n",
       "\n",
       "    /* Handle when a new output is added */\n",
       "    events.on('output_added.OutputArea', handleAddOutput);\n",
       "\n",
       "    /**\n",
       "     * Register the mime type and append_mime function with output_area\n",
       "     */\n",
       "    OutputArea.prototype.register_mime_type(EXEC_MIME_TYPE, append_mime, {\n",
       "      /* Is output safe? */\n",
       "      safe: true,\n",
       "      /* Index of renderer in `output_area.display_order` */\n",
       "      index: 0\n",
       "    });\n",
       "  }\n",
       "\n",
       "  // register the mime type if in Jupyter Notebook environment and previously unregistered\n",
       "  if (root.Jupyter !== undefined) {\n",
       "    var events = require('base/js/events');\n",
       "    var OutputArea = require('notebook/js/outputarea').OutputArea;\n",
       "\n",
       "    if (OutputArea.prototype.mime_types().indexOf(EXEC_MIME_TYPE) == -1) {\n",
       "      register_renderer(events, OutputArea);\n",
       "    }\n",
       "  }\n",
       "\n",
       "  \n",
       "  if (typeof (root._bokeh_timeout) === \"undefined\" || force === true) {\n",
       "    root._bokeh_timeout = Date.now() + 5000;\n",
       "    root._bokeh_failed_load = false;\n",
       "  }\n",
       "\n",
       "  var NB_LOAD_WARNING = {'data': {'text/html':\n",
       "     \"<div style='background-color: #fdd'>\\n\"+\n",
       "     \"<p>\\n\"+\n",
       "     \"BokehJS does not appear to have successfully loaded. If loading BokehJS from CDN, this \\n\"+\n",
       "     \"may be due to a slow or bad network connection. Possible fixes:\\n\"+\n",
       "     \"</p>\\n\"+\n",
       "     \"<ul>\\n\"+\n",
       "     \"<li>re-rerun `output_notebook()` to attempt to load from CDN again, or</li>\\n\"+\n",
       "     \"<li>use INLINE resources instead, as so:</li>\\n\"+\n",
       "     \"</ul>\\n\"+\n",
       "     \"<code>\\n\"+\n",
       "     \"from bokeh.resources import INLINE\\n\"+\n",
       "     \"output_notebook(resources=INLINE)\\n\"+\n",
       "     \"</code>\\n\"+\n",
       "     \"</div>\"}};\n",
       "\n",
       "  function display_loaded() {\n",
       "    var el = document.getElementById(\"1265\");\n",
       "    if (el != null) {\n",
       "      el.textContent = \"BokehJS is loading...\";\n",
       "    }\n",
       "    if (root.Bokeh !== undefined) {\n",
       "      if (el != null) {\n",
       "        el.textContent = \"BokehJS \" + root.Bokeh.version + \" successfully loaded.\";\n",
       "      }\n",
       "    } else if (Date.now() < root._bokeh_timeout) {\n",
       "      setTimeout(display_loaded, 100)\n",
       "    }\n",
       "  }\n",
       "\n",
       "\n",
       "  function run_callbacks() {\n",
       "    try {\n",
       "      root._bokeh_onload_callbacks.forEach(function(callback) {\n",
       "        if (callback != null)\n",
       "          callback();\n",
       "      });\n",
       "    } finally {\n",
       "      delete root._bokeh_onload_callbacks\n",
       "    }\n",
       "    console.debug(\"Bokeh: all callbacks have finished\");\n",
       "  }\n",
       "\n",
       "  function load_libs(css_urls, js_urls, callback) {\n",
       "    if (css_urls == null) css_urls = [];\n",
       "    if (js_urls == null) js_urls = [];\n",
       "\n",
       "    root._bokeh_onload_callbacks.push(callback);\n",
       "    if (root._bokeh_is_loading > 0) {\n",
       "      console.debug(\"Bokeh: BokehJS is being loaded, scheduling callback at\", now());\n",
       "      return null;\n",
       "    }\n",
       "    if (js_urls == null || js_urls.length === 0) {\n",
       "      run_callbacks();\n",
       "      return null;\n",
       "    }\n",
       "    console.debug(\"Bokeh: BokehJS not loaded, scheduling load and callback at\", now());\n",
       "    root._bokeh_is_loading = css_urls.length + js_urls.length;\n",
       "\n",
       "    function on_load() {\n",
       "      root._bokeh_is_loading--;\n",
       "      if (root._bokeh_is_loading === 0) {\n",
       "        console.debug(\"Bokeh: all BokehJS libraries/stylesheets loaded\");\n",
       "        run_callbacks()\n",
       "      }\n",
       "    }\n",
       "\n",
       "    function on_error(url) {\n",
       "      console.error(\"failed to load \" + url);\n",
       "    }\n",
       "\n",
       "    for (let i = 0; i < css_urls.length; i++) {\n",
       "      const url = css_urls[i];\n",
       "      const element = document.createElement(\"link\");\n",
       "      element.onload = on_load;\n",
       "      element.onerror = on_error.bind(null, url);\n",
       "      element.rel = \"stylesheet\";\n",
       "      element.type = \"text/css\";\n",
       "      element.href = url;\n",
       "      console.debug(\"Bokeh: injecting link tag for BokehJS stylesheet: \", url);\n",
       "      document.body.appendChild(element);\n",
       "    }\n",
       "\n",
       "    const hashes = {\"https://cdn.bokeh.org/bokeh/release/bokeh-2.3.3.min.js\": \"dM3QQsP+wXdHg42wTqW85BjZQdLNNIXqlPw/BgKoExPmTG7ZLML4EGqLMfqHT6ON\", \"https://cdn.bokeh.org/bokeh/release/bokeh-tables-2.3.3.min.js\": \"8x57I4YuIfu8XyZfFo0XVr2WAT8EK4rh/uDe3wF7YuW2FNUSNEpJbsPaB1nJ2fz2\", \"https://cdn.bokeh.org/bokeh/release/bokeh-widgets-2.3.3.min.js\": \"3QTqdz9LyAm2i0sG5XTePsHec3UHWwVsrOL68SYRoAXsafvfAyqtQ+h440+qIBhS\"};\n",
       "\n",
       "    for (let i = 0; i < js_urls.length; i++) {\n",
       "      const url = js_urls[i];\n",
       "      const element = document.createElement('script');\n",
       "      element.onload = on_load;\n",
       "      element.onerror = on_error.bind(null, url);\n",
       "      element.async = false;\n",
       "      element.src = url;\n",
       "      if (url in hashes) {\n",
       "        element.crossOrigin = \"anonymous\";\n",
       "        element.integrity = \"sha384-\" + hashes[url];\n",
       "      }\n",
       "      console.debug(\"Bokeh: injecting script tag for BokehJS library: \", url);\n",
       "      document.head.appendChild(element);\n",
       "    }\n",
       "  };\n",
       "\n",
       "  function inject_raw_css(css) {\n",
       "    const element = document.createElement(\"style\");\n",
       "    element.appendChild(document.createTextNode(css));\n",
       "    document.body.appendChild(element);\n",
       "  }\n",
       "\n",
       "  \n",
       "  var js_urls = [\"https://cdn.bokeh.org/bokeh/release/bokeh-2.3.3.min.js\", \"https://cdn.bokeh.org/bokeh/release/bokeh-widgets-2.3.3.min.js\", \"https://cdn.bokeh.org/bokeh/release/bokeh-tables-2.3.3.min.js\"];\n",
       "  var css_urls = [];\n",
       "  \n",
       "\n",
       "  var inline_js = [\n",
       "    function(Bokeh) {\n",
       "      Bokeh.set_log_level(\"info\");\n",
       "    },\n",
       "    function(Bokeh) {\n",
       "    \n",
       "    \n",
       "    }\n",
       "  ];\n",
       "\n",
       "  function run_inline_js() {\n",
       "    \n",
       "    if (root.Bokeh !== undefined || force === true) {\n",
       "      \n",
       "    for (var i = 0; i < inline_js.length; i++) {\n",
       "      inline_js[i].call(root, root.Bokeh);\n",
       "    }\n",
       "    if (force === true) {\n",
       "        display_loaded();\n",
       "      }} else if (Date.now() < root._bokeh_timeout) {\n",
       "      setTimeout(run_inline_js, 100);\n",
       "    } else if (!root._bokeh_failed_load) {\n",
       "      console.log(\"Bokeh: BokehJS failed to load within specified timeout.\");\n",
       "      root._bokeh_failed_load = true;\n",
       "    } else if (force !== true) {\n",
       "      var cell = $(document.getElementById(\"1265\")).parents('.cell').data().cell;\n",
       "      cell.output_area.append_execute_result(NB_LOAD_WARNING)\n",
       "    }\n",
       "\n",
       "  }\n",
       "\n",
       "  if (root._bokeh_is_loading === 0) {\n",
       "    console.debug(\"Bokeh: BokehJS loaded, going straight to plotting\");\n",
       "    run_inline_js();\n",
       "  } else {\n",
       "    load_libs(css_urls, js_urls, function() {\n",
       "      console.debug(\"Bokeh: BokehJS plotting callback run at\", now());\n",
       "      run_inline_js();\n",
       "    });\n",
       "  }\n",
       "}(window));"
      ],
      "application/vnd.bokehjs_load.v0+json": "\n(function(root) {\n  function now() {\n    return new Date();\n  }\n\n  var force = true;\n\n  if (typeof root._bokeh_onload_callbacks === \"undefined\" || force === true) {\n    root._bokeh_onload_callbacks = [];\n    root._bokeh_is_loading = undefined;\n  }\n\n  \n\n  \n  if (typeof (root._bokeh_timeout) === \"undefined\" || force === true) {\n    root._bokeh_timeout = Date.now() + 5000;\n    root._bokeh_failed_load = false;\n  }\n\n  var NB_LOAD_WARNING = {'data': {'text/html':\n     \"<div style='background-color: #fdd'>\\n\"+\n     \"<p>\\n\"+\n     \"BokehJS does not appear to have successfully loaded. If loading BokehJS from CDN, this \\n\"+\n     \"may be due to a slow or bad network connection. Possible fixes:\\n\"+\n     \"</p>\\n\"+\n     \"<ul>\\n\"+\n     \"<li>re-rerun `output_notebook()` to attempt to load from CDN again, or</li>\\n\"+\n     \"<li>use INLINE resources instead, as so:</li>\\n\"+\n     \"</ul>\\n\"+\n     \"<code>\\n\"+\n     \"from bokeh.resources import INLINE\\n\"+\n     \"output_notebook(resources=INLINE)\\n\"+\n     \"</code>\\n\"+\n     \"</div>\"}};\n\n  function display_loaded() {\n    var el = document.getElementById(\"1265\");\n    if (el != null) {\n      el.textContent = \"BokehJS is loading...\";\n    }\n    if (root.Bokeh !== undefined) {\n      if (el != null) {\n        el.textContent = \"BokehJS \" + root.Bokeh.version + \" successfully loaded.\";\n      }\n    } else if (Date.now() < root._bokeh_timeout) {\n      setTimeout(display_loaded, 100)\n    }\n  }\n\n\n  function run_callbacks() {\n    try {\n      root._bokeh_onload_callbacks.forEach(function(callback) {\n        if (callback != null)\n          callback();\n      });\n    } finally {\n      delete root._bokeh_onload_callbacks\n    }\n    console.debug(\"Bokeh: all callbacks have finished\");\n  }\n\n  function load_libs(css_urls, js_urls, callback) {\n    if (css_urls == null) css_urls = [];\n    if (js_urls == null) js_urls = [];\n\n    root._bokeh_onload_callbacks.push(callback);\n    if (root._bokeh_is_loading > 0) {\n      console.debug(\"Bokeh: BokehJS is being loaded, scheduling callback at\", now());\n      return null;\n    }\n    if (js_urls == null || js_urls.length === 0) {\n      run_callbacks();\n      return null;\n    }\n    console.debug(\"Bokeh: BokehJS not loaded, scheduling load and callback at\", now());\n    root._bokeh_is_loading = css_urls.length + js_urls.length;\n\n    function on_load() {\n      root._bokeh_is_loading--;\n      if (root._bokeh_is_loading === 0) {\n        console.debug(\"Bokeh: all BokehJS libraries/stylesheets loaded\");\n        run_callbacks()\n      }\n    }\n\n    function on_error(url) {\n      console.error(\"failed to load \" + url);\n    }\n\n    for (let i = 0; i < css_urls.length; i++) {\n      const url = css_urls[i];\n      const element = document.createElement(\"link\");\n      element.onload = on_load;\n      element.onerror = on_error.bind(null, url);\n      element.rel = \"stylesheet\";\n      element.type = \"text/css\";\n      element.href = url;\n      console.debug(\"Bokeh: injecting link tag for BokehJS stylesheet: \", url);\n      document.body.appendChild(element);\n    }\n\n    const hashes = {\"https://cdn.bokeh.org/bokeh/release/bokeh-2.3.3.min.js\": \"dM3QQsP+wXdHg42wTqW85BjZQdLNNIXqlPw/BgKoExPmTG7ZLML4EGqLMfqHT6ON\", \"https://cdn.bokeh.org/bokeh/release/bokeh-tables-2.3.3.min.js\": \"8x57I4YuIfu8XyZfFo0XVr2WAT8EK4rh/uDe3wF7YuW2FNUSNEpJbsPaB1nJ2fz2\", \"https://cdn.bokeh.org/bokeh/release/bokeh-widgets-2.3.3.min.js\": \"3QTqdz9LyAm2i0sG5XTePsHec3UHWwVsrOL68SYRoAXsafvfAyqtQ+h440+qIBhS\"};\n\n    for (let i = 0; i < js_urls.length; i++) {\n      const url = js_urls[i];\n      const element = document.createElement('script');\n      element.onload = on_load;\n      element.onerror = on_error.bind(null, url);\n      element.async = false;\n      element.src = url;\n      if (url in hashes) {\n        element.crossOrigin = \"anonymous\";\n        element.integrity = \"sha384-\" + hashes[url];\n      }\n      console.debug(\"Bokeh: injecting script tag for BokehJS library: \", url);\n      document.head.appendChild(element);\n    }\n  };\n\n  function inject_raw_css(css) {\n    const element = document.createElement(\"style\");\n    element.appendChild(document.createTextNode(css));\n    document.body.appendChild(element);\n  }\n\n  \n  var js_urls = [\"https://cdn.bokeh.org/bokeh/release/bokeh-2.3.3.min.js\", \"https://cdn.bokeh.org/bokeh/release/bokeh-widgets-2.3.3.min.js\", \"https://cdn.bokeh.org/bokeh/release/bokeh-tables-2.3.3.min.js\"];\n  var css_urls = [];\n  \n\n  var inline_js = [\n    function(Bokeh) {\n      Bokeh.set_log_level(\"info\");\n    },\n    function(Bokeh) {\n    \n    \n    }\n  ];\n\n  function run_inline_js() {\n    \n    if (root.Bokeh !== undefined || force === true) {\n      \n    for (var i = 0; i < inline_js.length; i++) {\n      inline_js[i].call(root, root.Bokeh);\n    }\n    if (force === true) {\n        display_loaded();\n      }} else if (Date.now() < root._bokeh_timeout) {\n      setTimeout(run_inline_js, 100);\n    } else if (!root._bokeh_failed_load) {\n      console.log(\"Bokeh: BokehJS failed to load within specified timeout.\");\n      root._bokeh_failed_load = true;\n    } else if (force !== true) {\n      var cell = $(document.getElementById(\"1265\")).parents('.cell').data().cell;\n      cell.output_area.append_execute_result(NB_LOAD_WARNING)\n    }\n\n  }\n\n  if (root._bokeh_is_loading === 0) {\n    console.debug(\"Bokeh: BokehJS loaded, going straight to plotting\");\n    run_inline_js();\n  } else {\n    load_libs(css_urls, js_urls, function() {\n      console.debug(\"Bokeh: BokehJS plotting callback run at\", now());\n      run_inline_js();\n    });\n  }\n}(window));"
     },
     "metadata": {},
     "output_type": "display_data"
    },
    {
     "data": {
      "text/html": [
       "\n",
       "\n",
       "\n",
       "\n",
       "\n",
       "\n",
       "  <div class=\"bk-root\" id=\"b9a5cfc0-ac22-48d7-860c-d42753f1daa3\" data-root-id=\"1332\"></div>\n"
      ]
     },
     "metadata": {},
     "output_type": "display_data"
    },
    {
     "data": {
      "application/javascript": [
       "(function(root) {\n",
       "  function embed_document(root) {\n",
       "    \n",
       "  var docs_json = {\"b981de74-fc02-4ffa-a76e-8f0e307700bd\":{\"defs\":[],\"roots\":{\"references\":[{\"attributes\":{\"children\":[{\"id\":\"1331\"},{\"id\":\"1329\"}],\"sizing_mode\":\"scale_both\"},\"id\":\"1332\",\"type\":\"Column\"},{\"attributes\":{},\"id\":\"1309\",\"type\":\"AllLabels\"},{\"attributes\":{\"toolbars\":[{\"id\":\"1290\"}],\"tools\":[{\"id\":\"1283\"},{\"id\":\"1284\"},{\"id\":\"1285\"},{\"id\":\"1286\"},{\"id\":\"1287\"},{\"id\":\"1288\"},{\"id\":\"1315\"}]},\"id\":\"1330\",\"type\":\"ProxyToolbar\"},{\"attributes\":{},\"id\":\"1303\",\"type\":\"Title\"},{\"attributes\":{\"data_source\":{\"id\":\"1297\"},\"glyph\":{\"id\":\"1298\"},\"hover_glyph\":null,\"muted_glyph\":null,\"nonselection_glyph\":{\"id\":\"1299\"},\"view\":{\"id\":\"1301\"}},\"id\":\"1300\",\"type\":\"GlyphRenderer\"},{\"attributes\":{},\"id\":\"1276\",\"type\":\"BasicTicker\"},{\"attributes\":{\"label\":{\"value\":\"Na:  3.434E-08 +-  5.039E-10\"},\"renderers\":[{\"id\":\"1300\"}]},\"id\":\"1314\",\"type\":\"LegendItem\"},{\"attributes\":{\"overlay\":{\"id\":\"1289\"}},\"id\":\"1285\",\"type\":\"BoxZoomTool\"},{\"attributes\":{},\"id\":\"1269\",\"type\":\"DataRange1d\"},{\"attributes\":{},\"id\":\"1286\",\"type\":\"SaveTool\"},{\"attributes\":{\"data\":{\"x\":{\"__ndarray__\":\"AAAAAAAAAAAWVueerwPiPBZW556vA/I8IAFbbocF+zwWVueerwMCPZsroYabhAY9IAFbbocFCz2m1hRWc4YPPRZW556vAxI92UDEkiVEFD2bK6GGm4QWPV0WfnoRxRg9IAFbbocFGz3k6zdi/UUdPabWFFZzhh89tOD4pHTjID0WVueerwMiPXfL1ZjqIyM92UDEkiVEJD05trKMYGQlPZsroYabhCY9/aCPgNakJz1dFn56EcUoPb+LbHRM5Sk9IAFbbocFKz2CdklowiUsPeTrN2L9RS09RGEmXDhmLj2m1hRWc4YvPQSmAShXUzA9tOD4pHTjMD1lG/AhknMxPRZW556vAzI9xpDeG82TMj13y9WY6iMzPSgGzRUItDM92UDEkiVEND2Je7sPQ9Q0PTm2soxgZDU96vCpCX70NT2bK6GGm4Q2PUxmmAO5FDc9/aCPgNakNz2t24b98zQ4PV0WfnoRxTg9DlF19y5VOT2/i2x0TOU5PXDGY/FpdTo9IAFbbocFOz3RO1LrpJU7PQ==\",\"dtype\":\"float64\",\"order\":\"little\",\"shape\":[50]},\"y\":{\"__ndarray__\":\"AAAAAAAAAADTU6SGBK0yO1Cw6iwipVI7RC4gSQPrZDsLQbputIVyO43rStFjzHw7Q010O02chDt9IOPOGtuLO+iSn3iOC5I70iYLoMyhljt0umTiZqmbO6ogPrSKjaA7KoAll6N3ozt7l04aII+mO27fbi4Z0Kk7+Z1D+aY2rTs+mxaqcl+wO7mQSDh8MrI7D++JwYgStDtJSsfxuf21O4gWGuQ98rc7duHV5VPuuTtc1RzbUfC7O7/Rxjyp9r07T1VGvOn/vzvzyv3nYAXBO1g8rhv/CsI7PbMBS0UQwzv4EzcHuRTEOyOZiZvvF8U7bjScD40Zxjufwt8MQxnHOx9elJ3PFsg7rkE4HvwRyTvRgyYWnArKOyoeFlGMAMs7ileJ1bHzyzv+s0Mv+ePMO9sHLclV0c07h8O1N8G7zjsjmwXAOqPPOwyX2xPjQ9A7C0beabW00DtsR55tGSTROwAeZCAVktE74QcsO6/+0Tu5zowF72nSO3X0GT/c09I7wZBI+X480zvvXSuZ36PTOw==\",\"dtype\":\"float64\",\"order\":\"little\",\"shape\":[50]}},\"selected\":{\"id\":\"1311\"},\"selection_policy\":{\"id\":\"1310\"}},\"id\":\"1297\",\"type\":\"ColumnDataSource\"},{\"attributes\":{},\"id\":\"1283\",\"type\":\"PanTool\"},{\"attributes\":{\"toolbar\":{\"id\":\"1330\"},\"toolbar_location\":\"above\"},\"id\":\"1331\",\"type\":\"ToolbarBox\"},{\"attributes\":{},\"id\":\"1307\",\"type\":\"BasicTickFormatter\"},{\"attributes\":{\"items\":[{\"id\":\"1314\"}]},\"id\":\"1313\",\"type\":\"Legend\"},{\"attributes\":{},\"id\":\"1288\",\"type\":\"HelpTool\"},{\"attributes\":{\"axis\":{\"id\":\"1275\"},\"ticker\":null},\"id\":\"1278\",\"type\":\"Grid\"},{\"attributes\":{\"axis_label\":\"$$\\\\text{MSD} / $m^{2}$$\",\"formatter\":{\"id\":\"1304\"},\"major_label_policy\":{\"id\":\"1306\"},\"ticker\":{\"id\":\"1280\"}},\"id\":\"1279\",\"type\":\"LinearAxis\"},{\"attributes\":{\"source\":{\"id\":\"1297\"}},\"id\":\"1301\",\"type\":\"CDSView\"},{\"attributes\":{},\"id\":\"1273\",\"type\":\"LinearScale\"},{\"attributes\":{\"line_alpha\":0.1,\"line_color\":\"#1f77b4\",\"x\":{\"field\":\"x\"},\"y\":{\"field\":\"y\"}},\"id\":\"1299\",\"type\":\"Line\"},{\"attributes\":{\"axis_label\":\"$$\\\\text{Time} / s$$\",\"formatter\":{\"id\":\"1307\"},\"major_label_policy\":{\"id\":\"1309\"},\"ticker\":{\"id\":\"1276\"}},\"id\":\"1275\",\"type\":\"LinearAxis\"},{\"attributes\":{\"axis\":{\"id\":\"1279\"},\"dimension\":1,\"ticker\":null},\"id\":\"1282\",\"type\":\"Grid\"},{\"attributes\":{},\"id\":\"1311\",\"type\":\"Selection\"},{\"attributes\":{\"below\":[{\"id\":\"1275\"}],\"center\":[{\"id\":\"1278\"},{\"id\":\"1282\"},{\"id\":\"1313\"}],\"left\":[{\"id\":\"1279\"}],\"renderers\":[{\"id\":\"1300\"}],\"sizing_mode\":\"scale_both\",\"title\":{\"id\":\"1303\"},\"toolbar\":{\"id\":\"1290\"},\"toolbar_location\":null,\"x_range\":{\"id\":\"1267\"},\"x_scale\":{\"id\":\"1271\"},\"y_range\":{\"id\":\"1269\"},\"y_scale\":{\"id\":\"1273\"}},\"id\":\"1266\",\"subtype\":\"Figure\",\"type\":\"Plot\"},{\"attributes\":{},\"id\":\"1304\",\"type\":\"BasicTickFormatter\"},{\"attributes\":{\"callback\":null},\"id\":\"1315\",\"type\":\"HoverTool\"},{\"attributes\":{},\"id\":\"1280\",\"type\":\"BasicTicker\"},{\"attributes\":{\"active_multi\":null,\"tools\":[{\"id\":\"1283\"},{\"id\":\"1284\"},{\"id\":\"1285\"},{\"id\":\"1286\"},{\"id\":\"1287\"},{\"id\":\"1288\"},{\"id\":\"1315\"}]},\"id\":\"1290\",\"type\":\"Toolbar\"},{\"attributes\":{},\"id\":\"1306\",\"type\":\"AllLabels\"},{\"attributes\":{},\"id\":\"1284\",\"type\":\"WheelZoomTool\"},{\"attributes\":{\"bottom_units\":\"screen\",\"fill_alpha\":0.5,\"fill_color\":\"lightgrey\",\"left_units\":\"screen\",\"level\":\"overlay\",\"line_alpha\":1.0,\"line_color\":\"black\",\"line_dash\":[4,4],\"line_width\":2,\"right_units\":\"screen\",\"syncable\":false,\"top_units\":\"screen\"},\"id\":\"1289\",\"type\":\"BoxAnnotation\"},{\"attributes\":{\"line_color\":\"#1f77b4\",\"x\":{\"field\":\"x\"},\"y\":{\"field\":\"y\"}},\"id\":\"1298\",\"type\":\"Line\"},{\"attributes\":{\"children\":[[{\"id\":\"1266\"},0,0]]},\"id\":\"1329\",\"type\":\"GridBox\"},{\"attributes\":{},\"id\":\"1310\",\"type\":\"UnionRenderers\"},{\"attributes\":{},\"id\":\"1287\",\"type\":\"ResetTool\"},{\"attributes\":{},\"id\":\"1267\",\"type\":\"DataRange1d\"},{\"attributes\":{},\"id\":\"1271\",\"type\":\"LinearScale\"}],\"root_ids\":[\"1332\"]},\"title\":\"Bokeh Application\",\"version\":\"2.3.3\"}};\n",
       "  var render_items = [{\"docid\":\"b981de74-fc02-4ffa-a76e-8f0e307700bd\",\"root_ids\":[\"1332\"],\"roots\":{\"1332\":\"b9a5cfc0-ac22-48d7-860c-d42753f1daa3\"}}];\n",
       "  root.Bokeh.embed.embed_items_notebook(docs_json, render_items);\n",
       "\n",
       "  }\n",
       "  if (root.Bokeh !== undefined) {\n",
       "    embed_document(root);\n",
       "  } else {\n",
       "    var attempts = 0;\n",
       "    var timer = setInterval(function(root) {\n",
       "      if (root.Bokeh !== undefined) {\n",
       "        clearInterval(timer);\n",
       "        embed_document(root);\n",
       "      } else {\n",
       "        attempts++;\n",
       "        if (attempts > 100) {\n",
       "          clearInterval(timer);\n",
       "          console.log(\"Bokeh: ERROR: Unable to run BokehJS code because BokehJS library is missing\");\n",
       "        }\n",
       "      }\n",
       "    }, 10, root)\n",
       "  }\n",
       "})(window);"
      ],
      "application/vnd.bokehjs_exec.v0+json": ""
     },
     "metadata": {
      "application/vnd.bokehjs_exec.v0+json": {
       "id": "1332"
      }
     },
     "output_type": "display_data"
    },
    {
     "data": {
      "text/plain": [
       "{'NaCl_example_data': Exp1_Einstein Self-Diffusion Coefficients_2}"
      ]
     },
     "execution_count": 7,
     "metadata": {},
     "output_type": "execute_result"
    }
   ],
   "source": [
    "project.run.EinsteinDiffusionCoefficients(species=[\"Na\"], data_range=50)"
   ]
  },
  {
   "cell_type": "code",
   "execution_count": 8,
   "id": "72481f26",
   "metadata": {},
   "outputs": [],
   "source": [
    "# project.run.AngularDistributionFunction(number_of_configurations=50, plot=True, cutoff=3.6)"
   ]
  },
  {
   "cell_type": "markdown",
   "id": "b1c70313",
   "metadata": {},
   "source": [
    "Finally, let's take a look at the Green-Kubo diffusion coefficients and ionic conductivity."
   ]
  },
  {
   "cell_type": "code",
   "execution_count": 9,
   "id": "af1016db-732e-4911-8104-2fd956166646",
   "metadata": {
    "scrolled": false
   },
   "outputs": [],
   "source": [
    "# project.run.GreenKuboDiffusionCoefficients(\n",
    "#         data_range=102, plot=True, correlation_time=10\n",
    "#     )"
   ]
  },
  {
   "cell_type": "code",
   "execution_count": 10,
   "id": "a6cc2baa",
   "metadata": {},
   "outputs": [],
   "source": [
    "# project.run.GreenKuboIonicConductivity(\n",
    "#         data_range=300, plot=True, correlation_time=1\n",
    "#     )"
   ]
  }
 ],
 "metadata": {
  "kernelspec": {
   "display_name": "Python 3 (ipykernel)",
   "language": "python",
   "name": "python3"
  },
  "language_info": {
   "codemirror_mode": {
    "name": "ipython",
    "version": 3
   },
   "file_extension": ".py",
   "mimetype": "text/x-python",
   "name": "python",
   "nbconvert_exporter": "python",
   "pygments_lexer": "ipython3",
   "version": "3.8.12"
  }
 },
 "nbformat": 4,
 "nbformat_minor": 5
}
