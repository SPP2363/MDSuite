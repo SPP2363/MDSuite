{
 "cells": [
  {
   "cell_type": "markdown",
   "id": "f186b759",
   "metadata": {},
   "source": [
    "# Molten NaCl Example\n",
    "\n",
    "In this walkthrough we will look at a system of molten NaCl to see how MDSuite can be used for the analysis of real systems"
   ]
  },
  {
   "cell_type": "markdown",
   "id": "b5f810d7",
   "metadata": {},
   "source": [
    "###  Library imports\n",
    "\n",
    "For this specific tutorial we will use our designate data server zinchub to load the data. This is the only import other than mdsuite required for any analysis."
   ]
  },
  {
   "cell_type": "code",
   "execution_count": 1,
   "id": "5dc4e981-a7ec-4c75-9962-c47895e4d032",
   "metadata": {
    "scrolled": false
   },
   "outputs": [
    {
     "name": "stdout",
     "output_type": "stream",
     "text": [
      "Jupyter environment detected. Enabling Open3D WebVisualizer.\n",
      "[Open3D INFO] WebRTC GUI backend enabled.\n",
      "[Open3D INFO] WebRTCWindowSystem: HTTP handshake server disabled.\n"
     ]
    },
    {
     "name": "stderr",
     "output_type": "stream",
     "text": [
      "2022-06-22 20:46:04.489064: W tensorflow/stream_executor/platform/default/dso_loader.cc:64] Could not load dynamic library 'libcudnn.so.8'; dlerror: libcudnn.so.8: cannot open shared object file: No such file or directory; LD_LIBRARY_PATH: /usr/local/cuda-11.2/targets/x86_64-linux/lib:/usr/local/cuda-11.2/targets/x86_64-linux/lib:\n",
      "2022-06-22 20:46:04.489079: W tensorflow/core/common_runtime/gpu/gpu_device.cc:1850] Cannot dlopen some GPU libraries. Please make sure the missing libraries mentioned above are installed properly if you would like to use GPU. Follow the guide at https://www.tensorflow.org/install/gpu for how to download and setup the required libraries for your platform.\n",
      "Skipping registering GPU devices...\n"
     ]
    }
   ],
   "source": [
    "from zinchub import DataHub\n",
    "import mdsuite as mds\n",
    "\n",
    "from mdsuite.calculators.einstein_diffusion_coefficients import EinsteinDiffusionCoefficients"
   ]
  },
  {
   "cell_type": "markdown",
   "id": "7770d927",
   "metadata": {},
   "source": [
    "With the following two lines we download the data from zinchub."
   ]
  },
  {
   "cell_type": "code",
   "execution_count": 2,
   "id": "3cf35074-6729-4ffc-9e46-b7b0088a02ca",
   "metadata": {},
   "outputs": [
    {
     "data": {
      "text/plain": [
       "'NaCl_gk_i_q.lammpstraj'"
      ]
     },
     "execution_count": 2,
     "metadata": {},
     "output_type": "execute_result"
    }
   ],
   "source": [
    "NaCl = DataHub(url=\"https://github.com/zincware/DataHub/tree/main/NaCl_gk_i_q\", tag=\"v0.1.0\")\n",
    "NaCl.get_file(path=\".\")"
   ]
  },
  {
   "cell_type": "markdown",
   "id": "c06178db",
   "metadata": {},
   "source": [
    "### Starting your project\n",
    "\n",
    "Now we can start an MDSuite project and add some data to it. Creating a project is as simple as calling the Project class with the name."
   ]
  },
  {
   "cell_type": "code",
   "execution_count": 3,
   "id": "d64da139-7bd9-48e0-b808-0981facea3df",
   "metadata": {},
   "outputs": [
    {
     "name": "stdout",
     "output_type": "stream",
     "text": [
      "2022-06-22 20:46:08,268 - INFO: Creating new project NaCl_Example\n"
     ]
    },
    {
     "name": "stderr",
     "output_type": "stream",
     "text": [
      "INFO - 2022-06-22 20:46:08,268 - project - Creating new project NaCl_Example\n",
      "DEBUG - 2022-06-22 20:46:08,269 - database_base - Creating the database if it does not exist.\n"
     ]
    }
   ],
   "source": [
    "project = mds.Project(\"NaCl_Example\")"
   ]
  },
  {
   "cell_type": "markdown",
   "id": "3dd39884",
   "metadata": {},
   "source": [
    "Now we can add an experiment to the project. In this case, we pass the downloaded data directly to this experiment rather than add it at a later stage."
   ]
  },
  {
   "cell_type": "code",
   "execution_count": 4,
   "id": "fb939f9c-9092-4144-b46b-b562ef1dc64f",
   "metadata": {},
   "outputs": [
    {
     "name": "stderr",
     "output_type": "stream",
     "text": [
      "DEBUG - 2022-06-22 20:46:08,452 - experiment_database - Got no database entries for number_of_configurations\n",
      "DEBUG - 2022-06-22 20:46:08,550 - experiment_database - Got no database entries for units\n"
     ]
    },
    {
     "name": "stdout",
     "output_type": "stream",
     "text": [
      "2022-06-22 20:46:08,583 - INFO: Creating a new experiment!\n"
     ]
    },
    {
     "name": "stderr",
     "output_type": "stream",
     "text": [
      "INFO - 2022-06-22 20:46:08,583 - experiment - Creating a new experiment!\n",
      "DEBUG - 2022-06-22 20:46:08,615 - experiment_database - Got no database entries for sample_rate\n",
      "DEBUG - 2022-06-22 20:46:08,663 - experiment_database - Got no database entries for read_files\n",
      "100%|███████████████████████████████████| 1/1 [00:02<00:00,  2.46s/it]\n",
      "DEBUG - 2022-06-22 20:46:11,790 - experiment_database - Got no database entries for version\n",
      "DEBUG - 2022-06-22 20:46:11,839 - experiment_database - Got no database entries for read_files\n"
     ]
    },
    {
     "data": {
      "text/plain": [
       "exp_NaCl_example_data"
      ]
     },
     "execution_count": 4,
     "metadata": {},
     "output_type": "execute_result"
    }
   ],
   "source": [
    "project.add_experiment(\n",
    "        name=\"NaCl_example_data\",\n",
    "        timestep=0.002,\n",
    "        temperature=1400.0,\n",
    "        units=\"metal\",\n",
    "        simulation_data=\"NaCl_gk_i_q.lammpstraj\",\n",
    "    )"
   ]
  },
  {
   "cell_type": "markdown",
   "id": "c8eb5349",
   "metadata": {},
   "source": [
    "### System analysis\n",
    "\n",
    "Now we can start looking at the system and learning from it. Let's start with a radial distribution function to see the structure."
   ]
  },
  {
   "cell_type": "code",
   "execution_count": 5,
   "id": "2d58da29",
   "metadata": {},
   "outputs": [],
   "source": [
    "# project.run.RadialDistributionFunction(number_of_configurations=100, plot=True)"
   ]
  },
  {
   "cell_type": "markdown",
   "id": "0293d3d0",
   "metadata": {},
   "source": [
    "This looks nice, but let's kick it up a notch and look at bond distributions with the angular distribution functions."
   ]
  },
  {
   "cell_type": "code",
   "execution_count": 6,
   "id": "a4de242c",
   "metadata": {},
   "outputs": [],
   "source": [
    "# project.execute_operation(my_calc)"
   ]
  },
  {
   "cell_type": "code",
   "execution_count": 7,
   "id": "3bc18982",
   "metadata": {
    "scrolled": false
   },
   "outputs": [
    {
     "name": "stdout",
     "output_type": "stream",
     "text": [
      "2022-06-22 20:46:11,926 - INFO: starting Einstein Diffusion Computation\n"
     ]
    },
    {
     "name": "stderr",
     "output_type": "stream",
     "text": [
      "INFO - 2022-06-22 20:46:11,926 - einstein_diffusion_coefficients - starting Einstein Diffusion Computation\n",
      "DEBUG - 2022-06-22 20:46:11,936 - calculator_database - Getting data for NaCl_example_data, computation Einstein Self-Diffusion Coefficients with args StoredParameters(data_range=50, correlation_time=1, atom_selection=slice(None, None, None), tau_values=array([ 0,  1,  2,  3,  4,  5,  6,  7,  8,  9, 10, 11, 12, 13, 14, 15, 16,\n",
      "       17, 18, 19, 20, 21, 22, 23, 24, 25, 26, 27, 28, 29, 30, 31, 32, 33,\n",
      "       34, 35, 36, 37, 38, 39, 40, 41, 42, 43, 44, 45, 46, 47, 48, 49]), molecules=False, species=['Na'], fit_range=49)\n"
     ]
    },
    {
     "name": "stdout",
     "output_type": "stream",
     "text": [
      "2022-06-22 20:46:11,981 - INFO: Data not in database, performing computation.\n"
     ]
    },
    {
     "name": "stderr",
     "output_type": "stream",
     "text": [
      "INFO - 2022-06-22 20:46:11,981 - experiment - Data not in database, performing computation.\n",
      "Applying transformation 'Unwrapped_Positions' to 'Na':   0%| | 0/1 [00DEBUG - 2022-06-22 20:46:12,201 - simulation_database - Expected str|Path but found <class 'bytes'>\n",
      "Applying transformation 'Unwrapped_Positions' to 'Na': 100%|█| 1/1 [00\n",
      "Applying transformation 'Unwrapped_Positions' to 'Cl':   0%| | 0/1 [00DEBUG - 2022-06-22 20:46:12,420 - simulation_database - Expected str|Path but found <class 'bytes'>\n",
      "Applying transformation 'Unwrapped_Positions' to 'Cl': 100%|█| 1/1 [00\n",
      "Na:   0%|                                       | 0/1 [00:00<?, ?it/s]DEBUG - 2022-06-22 20:46:12,568 - simulation_database - Expected str|Path but found <class 'bytes'>\n",
      "Na: 100%|███████████████████████████████| 1/1 [00:00<00:00,  2.71it/s]\n",
      "DEBUG - 2022-06-22 20:46:12,932 - experiment_database - Returning a dictionary for units\n",
      "DEBUG - 2022-06-22 20:46:12,948 - experiment_database - Returning a dictionary for units\n",
      "DEBUG - 2022-06-22 20:46:17,997 - calculator_database - Getting data for NaCl_example_data, computation Einstein Self-Diffusion Coefficients with args StoredParameters(data_range=50, correlation_time=1, atom_selection=slice(None, None, None), tau_values=array([ 0,  1,  2,  3,  4,  5,  6,  7,  8,  9, 10, 11, 12, 13, 14, 15, 16,\n",
      "       17, 18, 19, 20, 21, 22, 23, 24, 25, 26, 27, 28, 29, 30, 31, 32, 33,\n",
      "       34, 35, 36, 37, 38, 39, 40, 41, 42, 43, 44, 45, 46, 47, 48, 49]), molecules=False, species=['Na'], fit_range=49)\n"
     ]
    }
   ],
   "source": [
    "my_calc = EinsteinDiffusionCoefficients(species=[\"Na\"], data_range=50)\n",
    "data = project.experiments.NaCl_example_data.execute_operation(my_calc)"
   ]
  },
  {
   "cell_type": "code",
   "execution_count": 8,
   "id": "7a25d676",
   "metadata": {},
   "outputs": [
    {
     "ename": "AttributeError",
     "evalue": "'NoneType' object has no attribute 'data_dict'",
     "output_type": "error",
     "traceback": [
      "\u001b[0;31m---------------------------------------------------------------------------\u001b[0m",
      "\u001b[0;31mAttributeError\u001b[0m                            Traceback (most recent call last)",
      "Input \u001b[0;32mIn [8]\u001b[0m, in \u001b[0;36m<cell line: 1>\u001b[0;34m()\u001b[0m\n\u001b[0;32m----> 1\u001b[0m \u001b[38;5;28mprint\u001b[39m(\u001b[43mdata\u001b[49m\u001b[38;5;241;43m.\u001b[39;49m\u001b[43mdata_dict\u001b[49m)\n",
      "\u001b[0;31mAttributeError\u001b[0m: 'NoneType' object has no attribute 'data_dict'"
     ]
    }
   ],
   "source": [
    "print(data.data_dict)"
   ]
  },
  {
   "cell_type": "code",
   "execution_count": null,
   "id": "72481f26",
   "metadata": {},
   "outputs": [],
   "source": [
    "# project.run.AngularDistributionFunction(number_of_configurations=50, plot=True, cutoff=3.6)"
   ]
  },
  {
   "cell_type": "markdown",
   "id": "b1c70313",
   "metadata": {},
   "source": [
    "Finally, let's take a look at the Green-Kubo diffusion coefficients and ionic conductivity."
   ]
  },
  {
   "cell_type": "code",
   "execution_count": null,
   "id": "af1016db-732e-4911-8104-2fd956166646",
   "metadata": {
    "scrolled": false
   },
   "outputs": [],
   "source": [
    "# project.run.GreenKuboDiffusionCoefficients(\n",
    "#         data_range=102, plot=True, correlation_time=10\n",
    "#     )"
   ]
  },
  {
   "cell_type": "code",
   "execution_count": null,
   "id": "a6cc2baa",
   "metadata": {},
   "outputs": [],
   "source": [
    "# project.run.GreenKuboIonicConductivity(\n",
    "#         data_range=300, plot=True, correlation_time=1\n",
    "#     )"
   ]
  }
 ],
 "metadata": {
  "kernelspec": {
   "display_name": "Python 3 (ipykernel)",
   "language": "python",
   "name": "python3"
  },
  "language_info": {
   "codemirror_mode": {
    "name": "ipython",
    "version": 3
   },
   "file_extension": ".py",
   "mimetype": "text/x-python",
   "name": "python",
   "nbconvert_exporter": "python",
   "pygments_lexer": "ipython3",
   "version": "3.9.12"
  }
 },
 "nbformat": 4,
 "nbformat_minor": 5
}
