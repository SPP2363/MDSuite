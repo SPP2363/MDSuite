{
 "cells": [
  {
   "cell_type": "markdown",
   "id": "f186b759",
   "metadata": {},
   "source": [
    "# Molten NaCl Example\n",
    "\n",
    "In this walkthrough we will look at a system of molten NaCl to see how MDSuite can be used for the analysis of real systems"
   ]
  },
  {
   "cell_type": "markdown",
   "id": "b5f810d7",
   "metadata": {},
   "source": [
    "###  Library imports\n",
    "\n",
    "For this specific tutorial we will use our designate data server zinchub to load the data. This is the only import other than mdsuite required for any analysis."
   ]
  },
  {
   "cell_type": "code",
   "execution_count": 20,
   "id": "5dc4e981-a7ec-4c75-9962-c47895e4d032",
   "metadata": {
    "scrolled": false
   },
   "outputs": [],
   "source": [
    "from zinchub import DataHub\n",
    "import mdsuite as mds\n",
    "from bokeh.plotting import show\n",
    "import matplotlib.pyplot as plt\n",
    "from mdsuite.calculators.einstein_diffusion_coefficients import EinsteinDiffusionCoefficients"
   ]
  },
  {
   "cell_type": "markdown",
   "id": "7770d927",
   "metadata": {},
   "source": [
    "With the following two lines we download the data from zinchub."
   ]
  },
  {
   "cell_type": "code",
   "execution_count": 2,
   "id": "3cf35074-6729-4ffc-9e46-b7b0088a02ca",
   "metadata": {},
   "outputs": [],
   "source": [
    "# NaCl = DataHub(url=\"https://github.com/zincware/DataHub/tree/main/NaCl_gk_i_q\", tag=\"v0.1.0\")\n",
    "# NaCl.get_file(path=\".\")"
   ]
  },
  {
   "cell_type": "markdown",
   "id": "c06178db",
   "metadata": {},
   "source": [
    "### Starting your project\n",
    "\n",
    "Now we can start an MDSuite project and add some data to it. Creating a project is as simple as calling the Project class with the name."
   ]
  },
  {
   "cell_type": "code",
   "execution_count": 3,
   "id": "d64da139-7bd9-48e0-b808-0981facea3df",
   "metadata": {},
   "outputs": [
    {
     "name": "stdout",
     "output_type": "stream",
     "text": [
      "2022-06-23 21:30:18,382 - INFO: Creating new project NaCl_Example\n"
     ]
    },
    {
     "name": "stderr",
     "output_type": "stream",
     "text": [
      "INFO - 2022-06-23 21:30:18,382 - project - Creating new project NaCl_Example\n",
      "DEBUG - 2022-06-23 21:30:18,383 - database_base - Creating the database if it does not exist.\n"
     ]
    }
   ],
   "source": [
    "project = mds.Project(\"NaCl_Example\")"
   ]
  },
  {
   "cell_type": "markdown",
   "id": "3dd39884",
   "metadata": {},
   "source": [
    "Now we can add an experiment to the project. In this case, we pass the downloaded data directly to this experiment rather than add it at a later stage."
   ]
  },
  {
   "cell_type": "code",
   "execution_count": 4,
   "id": "fb939f9c-9092-4144-b46b-b562ef1dc64f",
   "metadata": {},
   "outputs": [
    {
     "name": "stderr",
     "output_type": "stream",
     "text": [
      "DEBUG - 2022-06-23 21:30:18,432 - experiment_database - Got no database entries for number_of_configurations\n",
      "DEBUG - 2022-06-23 21:30:18,448 - experiment_database - Got no database entries for units\n"
     ]
    },
    {
     "name": "stdout",
     "output_type": "stream",
     "text": [
      "2022-06-23 21:30:18,453 - INFO: Creating a new experiment!\n"
     ]
    },
    {
     "name": "stderr",
     "output_type": "stream",
     "text": [
      "INFO - 2022-06-23 21:30:18,453 - experiment - Creating a new experiment!\n",
      "DEBUG - 2022-06-23 21:30:18,458 - experiment_database - Got no database entries for sample_rate\n",
      "DEBUG - 2022-06-23 21:30:18,465 - experiment_database - Got no database entries for read_files\n",
      "100%|███████████████████████████████████| 1/1 [00:04<00:00,  4.53s/it]\n",
      "DEBUG - 2022-06-23 21:30:23,133 - experiment_database - Got no database entries for version\n",
      "DEBUG - 2022-06-23 21:30:23,142 - experiment_database - Got no database entries for read_files\n"
     ]
    },
    {
     "data": {
      "text/plain": [
       "exp_NaCl_example_data"
      ]
     },
     "execution_count": 4,
     "metadata": {},
     "output_type": "execute_result"
    }
   ],
   "source": [
    "project.add_experiment(\n",
    "        name=\"NaCl_example_data\",\n",
    "        timestep=0.002,\n",
    "        temperature=1400.0,\n",
    "        units=\"metal\",\n",
    "        simulation_data=\"NaCl_gk_i_q.lammpstraj\",\n",
    "    )"
   ]
  },
  {
   "cell_type": "markdown",
   "id": "c8eb5349",
   "metadata": {},
   "source": [
    "### System analysis\n",
    "\n",
    "Now we can start looking at the system and learning from it. Let's start with a radial distribution function to see the structure."
   ]
  },
  {
   "cell_type": "code",
   "execution_count": 5,
   "id": "2d58da29",
   "metadata": {},
   "outputs": [],
   "source": [
    "# project.run.RadialDistributionFunction(number_of_configurations=100, plot=True)"
   ]
  },
  {
   "cell_type": "markdown",
   "id": "0293d3d0",
   "metadata": {},
   "source": [
    "This looks nice, but let's kick it up a notch and look at bond distributions with the angular distribution functions."
   ]
  },
  {
   "cell_type": "code",
   "execution_count": 6,
   "id": "a4de242c",
   "metadata": {},
   "outputs": [],
   "source": [
    "# project.execute_operation(my_calc)"
   ]
  },
  {
   "cell_type": "code",
   "execution_count": 7,
   "id": "3bc18982",
   "metadata": {
    "scrolled": false
   },
   "outputs": [
    {
     "name": "stdout",
     "output_type": "stream",
     "text": [
      "2022-06-23 21:30:23,168 - INFO: starting Einstein Diffusion Computation\n"
     ]
    },
    {
     "name": "stderr",
     "output_type": "stream",
     "text": [
      "INFO - 2022-06-23 21:30:23,168 - einstein_diffusion_coefficients - starting Einstein Diffusion Computation\n",
      "DEBUG - 2022-06-23 21:30:23,176 - calculator_database - Getting data for NaCl_example_data, computation Einstein Self-Diffusion Coefficients with args StoredParameters(data_range=50, correlation_time=1, atom_selection=slice(None, None, None), tau_values=array([ 0,  1,  2,  3,  4,  5,  6,  7,  8,  9, 10, 11, 12, 13, 14, 15, 16,\n",
      "       17, 18, 19, 20, 21, 22, 23, 24, 25, 26, 27, 28, 29, 30, 31, 32, 33,\n",
      "       34, 35, 36, 37, 38, 39, 40, 41, 42, 43, 44, 45, 46, 47, 48, 49]), molecules=False, species=['Na', 'Cl'], fit_range=49)\n"
     ]
    },
    {
     "name": "stdout",
     "output_type": "stream",
     "text": [
      "2022-06-23 21:30:23,193 - INFO: Data not in database, performing computation.\n"
     ]
    },
    {
     "name": "stderr",
     "output_type": "stream",
     "text": [
      "INFO - 2022-06-23 21:30:23,193 - experiment - Data not in database, performing computation.\n",
      "Applying transformation 'Unwrapped_Positions' to 'Na':   0%| | 0/1 [00DEBUG - 2022-06-23 21:30:23,319 - simulation_database - Expected str|Path but found <class 'bytes'>\n",
      "Applying transformation 'Unwrapped_Positions' to 'Na': 100%|█| 1/1 [00\n",
      "Applying transformation 'Unwrapped_Positions' to 'Cl':   0%| | 0/1 [00DEBUG - 2022-06-23 21:30:23,493 - simulation_database - Expected str|Path but found <class 'bytes'>\n",
      "Applying transformation 'Unwrapped_Positions' to 'Cl': 100%|█| 1/1 [00\n",
      "Na:   0%|                                       | 0/1 [00:00<?, ?it/s]DEBUG - 2022-06-23 21:30:23,664 - simulation_database - Expected str|Path but found <class 'bytes'>\n",
      "Na: 100%|███████████████████████████████| 1/1 [00:00<00:00,  1.68it/s]\n",
      "DEBUG - 2022-06-23 21:30:24,236 - experiment_database - Returning a dictionary for units\n",
      "DEBUG - 2022-06-23 21:30:24,238 - experiment_database - Returning a dictionary for units\n",
      "Cl:   0%|                                       | 0/1 [00:00<?, ?it/s]DEBUG - 2022-06-23 21:30:24,331 - simulation_database - Expected str|Path but found <class 'bytes'>\n",
      "Cl: 100%|███████████████████████████████| 1/1 [00:00<00:00,  1.60it/s]\n",
      "DEBUG - 2022-06-23 21:30:24,931 - experiment_database - Returning a dictionary for units\n",
      "DEBUG - 2022-06-23 21:30:24,933 - experiment_database - Returning a dictionary for units\n",
      "DEBUG - 2022-06-23 21:30:24,955 - calculator_database - Getting data for NaCl_example_data, computation Einstein Self-Diffusion Coefficients with args StoredParameters(data_range=50, correlation_time=1, atom_selection=slice(None, None, None), tau_values=array([ 0,  1,  2,  3,  4,  5,  6,  7,  8,  9, 10, 11, 12, 13, 14, 15, 16,\n",
      "       17, 18, 19, 20, 21, 22, 23, 24, 25, 26, 27, 28, 29, 30, 31, 32, 33,\n",
      "       34, 35, 36, 37, 38, 39, 40, 41, 42, 43, 44, 45, 46, 47, 48, 49]), molecules=False, species=['Na', 'Cl'], fit_range=49)\n",
      "DEBUG - 2022-06-23 21:30:24,967 - calculator_database - Calculation already performed! Loading it up\n"
     ]
    }
   ],
   "source": [
    "my_calc = EinsteinDiffusionCoefficients(data_range=50)\n",
    "data = project.experiments.NaCl_example_data.execute_operation(my_calc)"
   ]
  },
  {
   "cell_type": "code",
   "execution_count": 25,
   "id": "fbea70e8",
   "metadata": {},
   "outputs": [
    {
     "data": {
      "text/plain": [
       "dict_keys(['diffusion_coefficient', 'uncertainty', 'gradient', 'intercept', 'time', 'msd', 'gradients', 'gradient_errors'])"
      ]
     },
     "execution_count": 25,
     "metadata": {},
     "output_type": "execute_result"
    }
   ],
   "source": [
    "data.data_dict[\"Na\"].keys()"
   ]
  },
  {
   "cell_type": "code",
   "execution_count": 27,
   "id": "72481f26",
   "metadata": {},
   "outputs": [
    {
     "data": {
      "text/plain": [
       "[<matplotlib.lines.Line2D at 0x7fbd3ef72fa0>]"
      ]
     },
     "execution_count": 27,
     "metadata": {},
     "output_type": "execute_result"
    },
    {
     "data": {
      "image/png": "[encoded data removed]",
      "text/plain": [
       "<Figure size 432x288 with 1 Axes>"
      ]
     },
     "metadata": {
      "needs_background": "light"
     },
     "output_type": "display_data"
    }
   ],
   "source": [
    "plt.plot(data.data_dict[\"Na\"][\"time\"], data.data_dict[\"Na\"][\"msd\"])\n",
    "plt.plot(data.data_dict[\"Cl\"][\"time\"], data.data_dict[\"Cl\"][\"msd\"])"
   ]
  },
  {
   "cell_type": "markdown",
   "id": "b1c70313",
   "metadata": {},
   "source": [
    "Finally, let's take a look at the Green-Kubo diffusion coefficients and ionic conductivity."
   ]
  },
  {
   "cell_type": "code",
   "execution_count": 29,
   "id": "af1016db-732e-4911-8104-2fd956166646",
   "metadata": {
    "scrolled": false
   },
   "outputs": [
    {
     "data": {
      "text/plain": [
       "[0.0,\n",
       " 2e-27,\n",
       " 4e-27,\n",
       " 5.9999999999999995e-27,\n",
       " 8e-27,\n",
       " 1e-26,\n",
       " 1.1999999999999999e-26,\n",
       " 1.4e-26,\n",
       " 1.6e-26,\n",
       " 1.8e-26,\n",
       " 2e-26,\n",
       " 2.1999999999999998e-26,\n",
       " 2.3999999999999998e-26,\n",
       " 2.6e-26,\n",
       " 2.8e-26,\n",
       " 2.9999999999999995e-26,\n",
       " 3.2e-26,\n",
       " 3.4e-26,\n",
       " 3.6e-26,\n",
       " 3.7999999999999996e-26,\n",
       " 4e-26,\n",
       " 4.2e-26,\n",
       " 4.3999999999999996e-26,\n",
       " 4.5999999999999996e-26,\n",
       " 4.7999999999999996e-26,\n",
       " 5e-26,\n",
       " 5.2e-26,\n",
       " 5.4e-26,\n",
       " 5.6e-26,\n",
       " 5.800000000000001e-26,\n",
       " 5.999999999999999e-26,\n",
       " 6.2e-26,\n",
       " 6.4e-26,\n",
       " 6.6e-26,\n",
       " 6.8e-26,\n",
       " 7.000000000000001e-26,\n",
       " 7.2e-26,\n",
       " 7.4e-26,\n",
       " 7.599999999999999e-26,\n",
       " 7.8e-26,\n",
       " 8e-26,\n",
       " 8.2e-26,\n",
       " 8.4e-26,\n",
       " 8.6e-26,\n",
       " 8.799999999999999e-26,\n",
       " 9e-26,\n",
       " 9.199999999999999e-26,\n",
       " 9.4e-26,\n",
       " 9.599999999999999e-26,\n",
       " 9.8e-26]"
      ]
     },
     "execution_count": 29,
     "metadata": {},
     "output_type": "execute_result"
    }
   ],
   "source": [
    "data.data_dict[\"Cl\"][\"time\"]"
   ]
  },
  {
   "cell_type": "code",
   "execution_count": 11,
   "id": "a6cc2baa",
   "metadata": {},
   "outputs": [],
   "source": [
    "# project.run.GreenKuboIonicConductivity(\n",
    "#         data_range=300, plot=True, correlation_time=1\n",
    "#     )"
   ]
  }
 ],
 "metadata": {
  "kernelspec": {
   "display_name": "Python 3 (ipykernel)",
   "language": "python",
   "name": "python3"
  },
  "language_info": {
   "codemirror_mode": {
    "name": "ipython",
    "version": 3
   },
   "file_extension": ".py",
   "mimetype": "text/x-python",
   "name": "python",
   "nbconvert_exporter": "python",
   "pygments_lexer": "ipython3",
   "version": "3.8.12"
  }
 },
 "nbformat": 4,
 "nbformat_minor": 5
}
